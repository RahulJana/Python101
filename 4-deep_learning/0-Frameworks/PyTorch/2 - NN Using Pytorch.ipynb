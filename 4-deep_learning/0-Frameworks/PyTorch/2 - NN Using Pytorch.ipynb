{
 "cells": [
  {
   "cell_type": "markdown",
   "metadata": {
    "id": "HQUFAZn8bKj1"
   },
   "source": [
    "# Automatic Differntiation/ Auto-grad"
   ]
  },
  {
   "cell_type": "code",
   "execution_count": 3,
   "metadata": {
    "executionInfo": {
     "elapsed": 4255,
     "status": "ok",
     "timestamp": 1609498985738,
     "user": {
      "displayName": "Rahul Jana",
      "photoUrl": "",
      "userId": "08585919387251014084"
     },
     "user_tz": -330
    },
    "id": "LYoZGHxNbhne"
   },
   "outputs": [],
   "source": [
    "import numpy as np\n",
    "import torch\n",
    "import matplotlib.pyplot as plt"
   ]
  },
  {
   "cell_type": "code",
   "execution_count": 4,
   "metadata": {
    "colab": {
     "base_uri": "https://localhost:8080/"
    },
    "executionInfo": {
     "elapsed": 4254,
     "status": "ok",
     "timestamp": 1609498985743,
     "user": {
      "displayName": "Rahul Jana",
      "photoUrl": "",
      "userId": "08585919387251014084"
     },
     "user_tz": -330
    },
    "id": "n5Nd8qzQakZV",
    "outputId": "15aed1a7-8568-407c-f088-745b822c665c"
   },
   "outputs": [
    {
     "name": "stdout",
     "output_type": "stream",
     "text": [
      "tensor([[1., 1.],\n",
      "        [1., 1.],\n",
      "        [1., 1.]], requires_grad=True)\n"
     ]
    }
   ],
   "source": [
    "x = torch.ones([3,2], requires_grad = True)\n",
    "print(x)"
   ]
  },
  {
   "cell_type": "code",
   "execution_count": 5,
   "metadata": {
    "colab": {
     "base_uri": "https://localhost:8080/"
    },
    "executionInfo": {
     "elapsed": 4251,
     "status": "ok",
     "timestamp": 1609498985745,
     "user": {
      "displayName": "Rahul Jana",
      "photoUrl": "",
      "userId": "08585919387251014084"
     },
     "user_tz": -330
    },
    "id": "DPJFdA3Bbf5e",
    "outputId": "36f3f842-34a9-4377-a563-c1eb30407367"
   },
   "outputs": [
    {
     "name": "stdout",
     "output_type": "stream",
     "text": [
      "tensor([[6., 6.],\n",
      "        [6., 6.],\n",
      "        [6., 6.]], grad_fn=<AddBackward0>)\n"
     ]
    }
   ],
   "source": [
    "y = x + 5\n",
    "print(y)"
   ]
  },
  {
   "cell_type": "code",
   "execution_count": 6,
   "metadata": {
    "colab": {
     "base_uri": "https://localhost:8080/"
    },
    "executionInfo": {
     "elapsed": 4247,
     "status": "ok",
     "timestamp": 1609498985746,
     "user": {
      "displayName": "Rahul Jana",
      "photoUrl": "",
      "userId": "08585919387251014084"
     },
     "user_tz": -330
    },
    "id": "GCXZHKZ4mUGN",
    "outputId": "458fc484-c291-4175-c370-b23d33733124"
   },
   "outputs": [
    {
     "name": "stdout",
     "output_type": "stream",
     "text": [
      "tensor([[37., 37.],\n",
      "        [37., 37.],\n",
      "        [37., 37.]], grad_fn=<AddBackward0>)\n"
     ]
    }
   ],
   "source": [
    "# Linear Regression\n",
    "z = y*y + 1\n",
    "print(z)"
   ]
  },
  {
   "cell_type": "code",
   "execution_count": 7,
   "metadata": {
    "colab": {
     "base_uri": "https://localhost:8080/"
    },
    "executionInfo": {
     "elapsed": 4242,
     "status": "ok",
     "timestamp": 1609498985746,
     "user": {
      "displayName": "Rahul Jana",
      "photoUrl": "",
      "userId": "08585919387251014084"
     },
     "user_tz": -330
    },
    "id": "-87L_C2Mmjn9",
    "outputId": "4a8482f8-69a2-4a2b-ef0d-2c4bd9a07e25"
   },
   "outputs": [
    {
     "name": "stdout",
     "output_type": "stream",
     "text": [
      "tensor(222., grad_fn=<SumBackward0>)\n"
     ]
    }
   ],
   "source": [
    "t = torch.sum(z)\n",
    "print(t)"
   ]
  },
  {
   "cell_type": "code",
   "execution_count": 8,
   "metadata": {
    "executionInfo": {
     "elapsed": 4238,
     "status": "ok",
     "timestamp": 1609498985746,
     "user": {
      "displayName": "Rahul Jana",
      "photoUrl": "",
      "userId": "08585919387251014084"
     },
     "user_tz": -330
    },
    "id": "Rzk124AumvaC"
   },
   "outputs": [],
   "source": [
    "t.backward()"
   ]
  },
  {
   "cell_type": "code",
   "execution_count": 9,
   "metadata": {
    "colab": {
     "base_uri": "https://localhost:8080/"
    },
    "executionInfo": {
     "elapsed": 4234,
     "status": "ok",
     "timestamp": 1609498985746,
     "user": {
      "displayName": "Rahul Jana",
      "photoUrl": "",
      "userId": "08585919387251014084"
     },
     "user_tz": -330
    },
    "id": "CNoDOtJinJjS",
    "outputId": "a6fde262-0139-4d4e-d84c-b76f4322c0da"
   },
   "outputs": [
    {
     "name": "stdout",
     "output_type": "stream",
     "text": [
      "tensor([[12., 12.],\n",
      "        [12., 12.],\n",
      "        [12., 12.]])\n"
     ]
    }
   ],
   "source": [
    "print(x.grad) #d(t)/d(x)"
   ]
  },
  {
   "cell_type": "markdown",
   "metadata": {
    "id": "irkw-lwW5L8I"
   },
   "source": [
    "# Sigmoid Function"
   ]
  },
  {
   "cell_type": "code",
   "execution_count": 10,
   "metadata": {
    "colab": {
     "base_uri": "https://localhost:8080/"
    },
    "executionInfo": {
     "elapsed": 4229,
     "status": "ok",
     "timestamp": 1609498985747,
     "user": {
      "displayName": "Rahul Jana",
      "photoUrl": "",
      "userId": "08585919387251014084"
     },
     "user_tz": -330
    },
    "id": "c8sJ5icRnuKT",
    "outputId": "a1fb69ba-e8b5-4df0-aaed-6f44b7942306"
   },
   "outputs": [
    {
     "name": "stdout",
     "output_type": "stream",
     "text": [
      "tensor([[0.9975, 0.9975],\n",
      "        [0.9975, 0.9975],\n",
      "        [0.9975, 0.9975]], grad_fn=<MulBackward0>)\n",
      "tensor([[0.0025, 0.0025],\n",
      "        [0.0025, 0.0025],\n",
      "        [0.0025, 0.0025]])\n"
     ]
    }
   ],
   "source": [
    "x = torch.ones([3,2], requires_grad= True)\n",
    "y = x+5\n",
    "r = 1/(1 + torch.exp(-y))\n",
    "print(r)\n",
    "\n",
    "s = torch.sum(r)\n",
    "s.backward()\n",
    "print(x.grad) #d(s)/d(x)"
   ]
  },
  {
   "cell_type": "code",
   "execution_count": 11,
   "metadata": {
    "colab": {
     "base_uri": "https://localhost:8080/"
    },
    "executionInfo": {
     "elapsed": 4226,
     "status": "ok",
     "timestamp": 1609498985748,
     "user": {
      "displayName": "Rahul Jana",
      "photoUrl": "",
      "userId": "08585919387251014084"
     },
     "user_tz": -330
    },
    "id": "YYYFDSPA53ck",
    "outputId": "a4a61802-613d-4d49-ae4a-bafef0b0570d"
   },
   "outputs": [
    {
     "name": "stdout",
     "output_type": "stream",
     "text": [
      "tensor([[0.9975, 0.9975],\n",
      "        [0.9975, 0.9975],\n",
      "        [0.9975, 0.9975]], grad_fn=<MulBackward0>)\n",
      "tensor([[0.0025, 0.0025],\n",
      "        [0.0025, 0.0025],\n",
      "        [0.0025, 0.0025]])\n"
     ]
    }
   ],
   "source": [
    "# Directly calling r.backward(arg.) with a argument placed in it.\n",
    "x = torch.ones([3,2], requires_grad= True)\n",
    "y = x+5\n",
    "r = 1 / (1 + torch.exp(-y))\n",
    "print(r)\n",
    "\n",
    "# we have avoided the line <<<s = torch.sum(r)>>>\n",
    "a = torch.ones([3,2])\n",
    "r.backward(a)\n",
    "print(x.grad)"
   ]
  },
  {
   "cell_type": "markdown",
   "metadata": {
    "id": "ysrHbRfs9phP"
   },
   "source": [
    "# Loss Function with Auto-Grad"
   ]
  },
  {
   "cell_type": "code",
   "execution_count": 12,
   "metadata": {
    "executionInfo": {
     "elapsed": 4223,
     "status": "ok",
     "timestamp": 1609498985748,
     "user": {
      "displayName": "Rahul Jana",
      "photoUrl": "",
      "userId": "08585919387251014084"
     },
     "user_tz": -330
    },
    "id": "EzO_5k0O8gQC"
   },
   "outputs": [],
   "source": [
    "x = torch.randn([20, 1], requires_grad= True) # Actual Input\n",
    "y = 3*x -2 # Actual Output"
   ]
  },
  {
   "cell_type": "code",
   "execution_count": 13,
   "metadata": {
    "colab": {
     "base_uri": "https://localhost:8080/"
    },
    "executionInfo": {
     "elapsed": 4219,
     "status": "ok",
     "timestamp": 1609498985749,
     "user": {
      "displayName": "Rahul Jana",
      "photoUrl": "",
      "userId": "08585919387251014084"
     },
     "user_tz": -330
    },
    "id": "B8izxo9I_z3f",
    "outputId": "296c5a70-3903-4949-ea31-0d81875c24ba"
   },
   "outputs": [
    {
     "name": "stdout",
     "output_type": "stream",
     "text": [
      "tensor([[ 1.5954],\n",
      "        [-1.2187],\n",
      "        [-0.4944],\n",
      "        [ 0.0032],\n",
      "        [ 1.0180],\n",
      "        [ 1.0031],\n",
      "        [ 0.4573],\n",
      "        [-1.2611],\n",
      "        [ 0.0989],\n",
      "        [ 1.2099],\n",
      "        [-1.0815],\n",
      "        [ 0.2515],\n",
      "        [ 0.4745],\n",
      "        [ 0.9378],\n",
      "        [ 0.9828],\n",
      "        [-0.4619],\n",
      "        [-1.7401],\n",
      "        [-0.2351],\n",
      "        [-1.1070],\n",
      "        [ 1.1544]], requires_grad=True)\n",
      "tensor([[ 2.7862],\n",
      "        [-5.6562],\n",
      "        [-3.4832],\n",
      "        [-1.9905],\n",
      "        [ 1.0539],\n",
      "        [ 1.0094],\n",
      "        [-0.6281],\n",
      "        [-5.7833],\n",
      "        [-1.7032],\n",
      "        [ 1.6297],\n",
      "        [-5.2446],\n",
      "        [-1.2455],\n",
      "        [-0.5764],\n",
      "        [ 0.8134],\n",
      "        [ 0.9483],\n",
      "        [-3.3856],\n",
      "        [-7.2204],\n",
      "        [-2.7052],\n",
      "        [-5.3209],\n",
      "        [ 1.4633]], grad_fn=<SubBackward0>)\n"
     ]
    }
   ],
   "source": [
    "print(x)\n",
    "print(y)"
   ]
  },
  {
   "cell_type": "code",
   "execution_count": 14,
   "metadata": {
    "executionInfo": {
     "elapsed": 4215,
     "status": "ok",
     "timestamp": 1609498985749,
     "user": {
      "displayName": "Rahul Jana",
      "photoUrl": "",
      "userId": "08585919387251014084"
     },
     "user_tz": -330
    },
    "id": "GqVA4sO__CQy"
   },
   "outputs": [],
   "source": [
    "# Forward pass\n",
    "w = torch.tensor([1.], requires_grad= True)\n",
    "b = torch.tensor([1.], requires_grad= True)\n",
    "\n",
    "y_hat = w*x + b #Predicted model\n",
    "\n",
    "loss = torch.sum((y_hat - y)**2)"
   ]
  },
  {
   "cell_type": "code",
   "execution_count": 15,
   "metadata": {
    "colab": {
     "base_uri": "https://localhost:8080/"
    },
    "executionInfo": {
     "elapsed": 4212,
     "status": "ok",
     "timestamp": 1609498985750,
     "user": {
      "displayName": "Rahul Jana",
      "photoUrl": "",
      "userId": "08585919387251014084"
     },
     "user_tz": -330
    },
    "id": "eEMpNf8y_2cq",
    "outputId": "8a611004-6ba7-40c0-c980-8f6a91196e12"
   },
   "outputs": [
    {
     "name": "stdout",
     "output_type": "stream",
     "text": [
      "tensor(235.9511, grad_fn=<SumBackward0>)\n"
     ]
    }
   ],
   "source": [
    "print(loss)"
   ]
  },
  {
   "cell_type": "code",
   "execution_count": 16,
   "metadata": {
    "executionInfo": {
     "elapsed": 4208,
     "status": "ok",
     "timestamp": 1609498985750,
     "user": {
      "displayName": "Rahul Jana",
      "photoUrl": "",
      "userId": "08585919387251014084"
     },
     "user_tz": -330
    },
    "id": "TZ8o7oGm_4WS"
   },
   "outputs": [],
   "source": [
    "# Backward Propagation\n",
    "loss.backward()"
   ]
  },
  {
   "cell_type": "code",
   "execution_count": 17,
   "metadata": {
    "colab": {
     "base_uri": "https://localhost:8080/"
    },
    "executionInfo": {
     "elapsed": 4205,
     "status": "ok",
     "timestamp": 1609498985750,
     "user": {
      "displayName": "Rahul Jana",
      "photoUrl": "",
      "userId": "08585919387251014084"
     },
     "user_tz": -330
    },
    "id": "ZSJVnfE3_8Qa",
    "outputId": "b0af5b07-5f7c-41e8-b4f0-210e4ddce0ed"
   },
   "outputs": [
    {
     "name": "stdout",
     "output_type": "stream",
     "text": [
      "tensor([-65.4734]) tensor([113.6518])\n"
     ]
    }
   ],
   "source": [
    "#d(loss) / d(w) ........ & ......... d(loss)/d(b)\n",
    "print(w.grad, b.grad)"
   ]
  },
  {
   "cell_type": "markdown",
   "metadata": {
    "id": "TzrnyFnMT4ey"
   },
   "source": [
    "# Learning Loop in GPU ⚡⚡⚡⚡⚡⚡⚡⚡⚡⚡"
   ]
  },
  {
   "cell_type": "code",
   "execution_count": 18,
   "metadata": {
    "colab": {
     "base_uri": "https://localhost:8080/"
    },
    "executionInfo": {
     "elapsed": 4201,
     "status": "ok",
     "timestamp": 1609498985751,
     "user": {
      "displayName": "Rahul Jana",
      "photoUrl": "",
      "userId": "08585919387251014084"
     },
     "user_tz": -330
    },
    "id": "U-fq8clzAAvB",
    "outputId": "3eef15df-d35d-4a16-9d99-3b73d63b3849"
   },
   "outputs": [
    {
     "name": "stdout",
     "output_type": "stream",
     "text": [
      "1.0 1.0\n",
      "1.5085163116455078 -0.14959490299224854\n",
      "2.0427613258361816 -0.905558705329895\n",
      "2.363485097885132 -1.3303828239440918\n",
      "2.6522881984710693 -1.693071961402893\n",
      "2.7809579372406006 -1.839675784111023\n",
      "2.825223445892334 -1.8972423076629639\n",
      "2.896878957748413 -1.917272925376892\n",
      "2.9337754249572754 -1.961525797843933\n",
      "2.968257188796997 -1.973510980606079\n",
      "2.9771547317504883 -1.9779293537139893\n"
     ]
    }
   ],
   "source": [
    "learning_rate = 0.01 # Alpha\n",
    "\n",
    "w = torch.tensor([1.], requires_grad= True) # Randomly(not really -> 1.) assigning the value of the w => Weight\n",
    "b = torch.tensor([1.], requires_grad= True) # Randomly(not really -> 1.) assigning the value of the b => bias\n",
    "\n",
    "print(w.item(), b.item())\n",
    "\n",
    "# This for-loop will works as epoches, here number or epohes = 10 !!!!\n",
    "for i in range(10):\n",
    "    x = torch.randn([20, 1]) # Actual i/p\n",
    "    y = 3*x - 2 # Actual o/p\n",
    "\n",
    "    # Forward Propagation\n",
    "    y_hat = w*x + b # Predicted o/p\n",
    "\n",
    "    loss = torch.sum((y_hat - y)**2) # total loss = Squared Error\n",
    "\n",
    "    # Backward Propagation\n",
    "    loss.backward()\n",
    "\n",
    "    # Standard/ Basic Gradient Descent\n",
    "    with torch.no_grad():\n",
    "        # torch.no_grad() is used to interrupt the forward propagation, and execute following part.\n",
    "        # This will update the value of w and b, basic gradient descent stuff.\n",
    "        w -= learning_rate * (w.grad)\n",
    "        b -= learning_rate * (b.grad)\n",
    "        \n",
    "        # w.grad and b.grad is set to zero, so that in the next itretion we can get a fresh w.grad and b.grad\n",
    "        w.grad.zero_()\n",
    "        b.grad.zero_()\n",
    "\n",
    "    print(w.item(), b.item())\n"
   ]
  },
  {
   "cell_type": "markdown",
   "metadata": {
    "id": "h7T-ONqne9Ml"
   },
   "source": [
    "As we can see that the value of w and b is converging to the actual value: **y = 3*x - 2**, w_actual = 3 and b_actual = -2"
   ]
  },
  {
   "cell_type": "markdown",
   "metadata": {
    "id": "mM0-XSUzg8SD"
   },
   "source": [
    "## GPU"
   ]
  },
  {
   "cell_type": "code",
   "execution_count": 19,
   "metadata": {
    "executionInfo": {
     "elapsed": 4199,
     "status": "ok",
     "timestamp": 1609498985752,
     "user": {
      "displayName": "Rahul Jana",
      "photoUrl": "",
      "userId": "08585919387251014084"
     },
     "user_tz": -330
    },
    "id": "L7xkkNARkmW6"
   },
   "outputs": [],
   "source": [
    "import time"
   ]
  },
  {
   "cell_type": "code",
   "execution_count": 20,
   "metadata": {
    "colab": {
     "base_uri": "https://localhost:8080/"
    },
    "executionInfo": {
     "elapsed": 25023,
     "status": "ok",
     "timestamp": 1609499591123,
     "user": {
      "displayName": "Rahul Jana",
      "photoUrl": "",
      "userId": "08585919387251014084"
     },
     "user_tz": -330
    },
    "id": "JK1t8AEte7Mh",
    "outputId": "c88364c2-7d51-4e2d-a76b-ca4ff69a6fa2"
   },
   "outputs": [
    {
     "name": "stdout",
     "output_type": "stream",
     "text": [
      "CPU times: total: 13.5 s\n",
      "Wall time: 14.1 s\n"
     ]
    }
   ],
   "source": [
    "%%time\n",
    "learning_rate = 0.001\n",
    "N = 10000000\n",
    "epoches = 200\n",
    "\n",
    "w = torch.rand([N], requires_grad= True)\n",
    "b = torch.ones([1], requires_grad= True)\n",
    "\n",
    "# print(torch.mean(w).item(), b.item())\n",
    "\n",
    "for i in range(epoches):\n",
    "    x = torch.rand([N])\n",
    "    y = torch.dot(3*(torch.ones([N])), x) - 2\n",
    "\n",
    "    y_hat = (torch.dot(w,x) + b)\n",
    "    loss = ((y_hat - y)**2)\n",
    "\n",
    "    loss.backward()\n",
    "\n",
    "    with torch.no_grad():\n",
    "        w -= learning_rate * w.grad\n",
    "        b -= learning_rate * b.grad\n",
    "\n",
    "        w.grad.zero_()\n",
    "        b.grad.zero_()\n",
    "\n",
    "    # print(torch.mean(w), b.item())"
   ]
  },
  {
   "cell_type": "markdown",
   "metadata": {
    "id": "4IoMXiE8nTiE"
   },
   "source": [
    "## After GPU Activation"
   ]
  },
  {
   "cell_type": "code",
   "execution_count": 21,
   "metadata": {
    "colab": {
     "base_uri": "https://localhost:8080/"
    },
    "executionInfo": {
     "elapsed": 831,
     "status": "ok",
     "timestamp": 1609499012945,
     "user": {
      "displayName": "Rahul Jana",
      "photoUrl": "",
      "userId": "08585919387251014084"
     },
     "user_tz": -330
    },
    "id": "Z0iGrsP7kP11",
    "outputId": "fabdf2f6-bb52-488e-a2b9-cd9224b747d7"
   },
   "outputs": [
    {
     "name": "stdout",
     "output_type": "stream",
     "text": [
      "Tue Aug 27 00:55:13 2024       \n",
      "+-----------------------------------------------------------------------------------------+\n",
      "| NVIDIA-SMI 560.81                 Driver Version: 560.81         CUDA Version: 12.6     |\n",
      "|-----------------------------------------+------------------------+----------------------+\n",
      "| GPU  Name                  Driver-Model | Bus-Id          Disp.A | Volatile Uncorr. ECC |\n",
      "| Fan  Temp   Perf          Pwr:Usage/Cap |           Memory-Usage | GPU-Util  Compute M. |\n",
      "|                                         |                        |               MIG M. |\n",
      "|=========================================+========================+======================|\n",
      "|   0  NVIDIA GeForce RTX 3060 ...  WDDM  |   00000000:01:00.0 Off |                  N/A |\n",
      "| N/A   42C    P0             24W /  130W |       0MiB /   6144MiB |      0%      Default |\n",
      "|                                         |                        |                  N/A |\n",
      "+-----------------------------------------+------------------------+----------------------+\n",
      "                                                                                         \n",
      "+-----------------------------------------------------------------------------------------+\n",
      "| Processes:                                                                              |\n",
      "|  GPU   GI   CI        PID   Type   Process name                              GPU Memory |\n",
      "|        ID   ID                                                               Usage      |\n",
      "|=========================================================================================|\n",
      "|  No running processes found                                                             |\n",
      "+-----------------------------------------------------------------------------------------+\n"
     ]
    }
   ],
   "source": [
    "!nvidia-smi"
   ]
  },
  {
   "cell_type": "code",
   "execution_count": 22,
   "metadata": {
    "executionInfo": {
     "elapsed": 786,
     "status": "ok",
     "timestamp": 1609499132111,
     "user": {
      "displayName": "Rahul Jana",
      "photoUrl": "",
      "userId": "08585919387251014084"
     },
     "user_tz": -330
    },
    "id": "yzieWeFxnnRS"
   },
   "outputs": [],
   "source": [
    "cuda0 = torch.device(\"cuda:0\")"
   ]
  },
  {
   "cell_type": "code",
   "execution_count": 24,
   "metadata": {
    "colab": {
     "base_uri": "https://localhost:8080/"
    },
    "executionInfo": {
     "elapsed": 16138,
     "status": "ok",
     "timestamp": 1609499591495,
     "user": {
      "displayName": "Rahul Jana",
      "photoUrl": "",
      "userId": "08585919387251014084"
     },
     "user_tz": -330
    },
    "id": "vtCvrotkneu7",
    "outputId": "07858198-98cf-4d53-f40b-bb98afa1838f"
   },
   "outputs": [
    {
     "name": "stdout",
     "output_type": "stream",
     "text": [
      "CPU times: total: 109 ms\n",
      "Wall time: 5.08 s\n"
     ]
    }
   ],
   "source": [
    "%%time\n",
    "learning_rate = 0.001\n",
    "N = 10000000\n",
    "epoches = 2000\n",
    "\n",
    "w = torch.rand([N], requires_grad= True, device = cuda0)\n",
    "b = torch.ones([1], requires_grad= True, device = cuda0)\n",
    "\n",
    "# print(torch.mean(w).item(), b.item())\n",
    "\n",
    "for i in range(epoches):\n",
    "    x = torch.rand([N], device= cuda0)\n",
    "    y = torch.dot(3*(torch.ones([N], device = cuda0)), x) - 2\n",
    "\n",
    "    y_hat = (torch.dot(w,x) + b)\n",
    "    loss = ((y_hat - y)**2)\n",
    "\n",
    "    loss.backward()\n",
    "\n",
    "    with torch.no_grad():\n",
    "        w -= learning_rate * w.grad\n",
    "        b -= learning_rate * b.grad\n",
    "\n",
    "        w.grad.zero_()\n",
    "        b.grad.zero_()\n",
    "\n",
    "   # print(torch.mean(w), b.item())"
   ]
  },
  {
   "cell_type": "code",
   "execution_count": 25,
   "metadata": {
    "executionInfo": {
     "elapsed": 607,
     "status": "ok",
     "timestamp": 1609499300443,
     "user": {
      "displayName": "Rahul Jana",
      "photoUrl": "",
      "userId": "08585919387251014084"
     },
     "user_tz": -330
    },
    "id": "SSSLgLWaoWOD"
   },
   "outputs": [],
   "source": []
  }
 ],
 "metadata": {
  "accelerator": "GPU",
  "colab": {
   "authorship_tag": "ABX9TyOtRrCtlZRBYfwUuDfGB5RD",
   "name": "NN Using Pytorch.ipynb",
   "provenance": []
  },
  "kernelspec": {
   "display_name": "torch",
   "language": "python",
   "name": "python3"
  },
  "language_info": {
   "codemirror_mode": {
    "name": "ipython",
    "version": 3
   },
   "file_extension": ".py",
   "mimetype": "text/x-python",
   "name": "python",
   "nbconvert_exporter": "python",
   "pygments_lexer": "ipython3",
   "version": "3.10.14"
  }
 },
 "nbformat": 4,
 "nbformat_minor": 0
}
