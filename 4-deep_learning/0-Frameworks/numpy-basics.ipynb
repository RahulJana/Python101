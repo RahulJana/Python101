{
  "cells": [
    {
      "cell_type": "markdown",
      "metadata": {
        "id": "FPtOeTuHuKdX"
      },
      "source": [
        "# Introduction to `Numpy`"
      ]
    },
    {
      "cell_type": "markdown",
      "metadata": {
        "id": "IAZtTf7w41BH"
      },
      "source": [
        "Numpy official website: https://numpy.org/doc/stable/user/quickstart.html"
      ]
    },
    {
      "cell_type": "code",
      "execution_count": 1,
      "metadata": {
        "id": "bxDEhuxYaq84"
      },
      "outputs": [],
      "source": [
        "import numpy as np\n",
        "import matplotlib.pyplot as plt"
      ]
    },
    {
      "cell_type": "markdown",
      "metadata": {
        "id": "68khGiVxYo7H"
      },
      "source": [
        "## Comparing performance with `list`"
      ]
    },
    {
      "cell_type": "code",
      "execution_count": 2,
      "metadata": {
        "id": "Eit9EIf7Ybr6"
      },
      "outputs": [],
      "source": [
        "N = 100000000"
      ]
    },
    {
      "cell_type": "code",
      "execution_count": 3,
      "metadata": {
        "colab": {
          "base_uri": "https://localhost:8080/"
        },
        "id": "Db9hU3X_YuVe",
        "outputId": "d662ba04-32f8-4d77-aa1c-8898a4ff15ec"
      },
      "outputs": [
        {
          "name": "stdout",
          "output_type": "stream",
          "text": [
            "CPU times: total: 11.2 s\n",
            "Wall time: 13.2 s\n"
          ]
        }
      ],
      "source": [
        "%%time\n",
        "list_ = list(range(N))\n",
        "for i in range(N):\n",
        "    list_[i] = list_[i] * list_[i]"
      ]
    },
    {
      "cell_type": "code",
      "execution_count": null,
      "metadata": {
        "colab": {
          "base_uri": "https://localhost:8080/"
        },
        "id": "Gv3M483RZAB3",
        "outputId": "d7452938-e83e-43e3-ea7e-bf259fb24ce0"
      },
      "outputs": [
        {
          "name": "stdout",
          "output_type": "stream",
          "text": [
            "CPU times: user 10.2 s, sys: 5.13 s, total: 15.3 s\n",
            "Wall time: 15.4 s\n"
          ]
        }
      ],
      "source": [
        "%%time\n",
        "list_ = list(range(N))\n",
        "list_ = [item * item for item in list_]"
      ]
    },
    {
      "cell_type": "code",
      "execution_count": null,
      "metadata": {
        "colab": {
          "base_uri": "https://localhost:8080/"
        },
        "id": "2bcmoyBwZe4r",
        "outputId": "81c04175-314e-44b8-fd13-7bb99d93a4df"
      },
      "outputs": [
        {
          "name": "stdout",
          "output_type": "stream",
          "text": [
            "CPU times: user 2.95 s, sys: 3.3 s, total: 6.25 s\n",
            "Wall time: 6.32 s\n"
          ]
        }
      ],
      "source": [
        "%%time\n",
        "list_ = list(range(N))\n",
        "list_ = map(lambda x: x * x, list_)"
      ]
    },
    {
      "cell_type": "code",
      "execution_count": null,
      "metadata": {
        "colab": {
          "base_uri": "https://localhost:8080/"
        },
        "id": "JGzpwFZnaCOl",
        "outputId": "29dd5e7c-7ee1-4f39-936d-1c752f07291d"
      },
      "outputs": [
        {
          "name": "stdout",
          "output_type": "stream",
          "text": [
            "CPU times: user 15.7 s, sys: 2.53 s, total: 18.2 s\n",
            "Wall time: 18.4 s\n"
          ]
        }
      ],
      "source": [
        "%%time\n",
        "list_ = list(range(N))\n",
        "list_sum = 0\n",
        "for item in list_:\n",
        "    list_sum += item"
      ]
    },
    {
      "cell_type": "code",
      "execution_count": null,
      "metadata": {
        "colab": {
          "base_uri": "https://localhost:8080/"
        },
        "id": "5c4L-NuLacK9",
        "outputId": "4c757f0e-fbb2-4270-a2b0-24c71f5d1247"
      },
      "outputs": [
        {
          "name": "stdout",
          "output_type": "stream",
          "text": [
            "CPU times: user 2.14 s, sys: 2.09 s, total: 4.23 s\n",
            "Wall time: 4.22 s\n"
          ]
        }
      ],
      "source": [
        "%%time\n",
        "list_ = list(range(N))\n",
        "list_sum = sum(list_)"
      ]
    },
    {
      "cell_type": "markdown",
      "metadata": {
        "id": "hfsf_lrS3vz_"
      },
      "source": [
        "# Mounting to google drive"
      ]
    },
    {
      "cell_type": "code",
      "execution_count": null,
      "metadata": {
        "colab": {
          "background_save": true
        },
        "id": "L5znjafb35p4",
        "outputId": "37ed35b2-d7b8-404a-84da-cb2d6017b6b9"
      },
      "outputs": [
        {
          "name": "stdout",
          "output_type": "stream",
          "text": [
            "Mounted at /content/drive\n"
          ]
        }
      ],
      "source": [
        "from google.colab import drive\n",
        "drive.mount('/content/drive')"
      ]
    },
    {
      "cell_type": "markdown",
      "metadata": {
        "id": "6eN-eK6CujXy"
      },
      "source": [
        "# Numpy ⚡⚡"
      ]
    },
    {
      "cell_type": "code",
      "execution_count": null,
      "metadata": {
        "colab": {
          "base_uri": "https://localhost:8080/"
        },
        "id": "OwYuugJ2a9dS",
        "outputId": "d12a767f-3e08-40e5-c076-bb85fe0c1867"
      },
      "outputs": [
        {
          "name": "stdout",
          "output_type": "stream",
          "text": [
            "CPU times: user 227 ms, sys: 315 ms, total: 542 ms\n",
            "Wall time: 572 ms\n"
          ]
        }
      ],
      "source": [
        "%%time\n",
        "arr = np.arange(N)\n",
        "arr = arr * arr"
      ]
    },
    {
      "cell_type": "code",
      "execution_count": null,
      "metadata": {
        "colab": {
          "base_uri": "https://localhost:8080/"
        },
        "id": "cjNUo9uhbS0V",
        "outputId": "b04771c0-49bc-4ea2-cede-c580a9c9432a"
      },
      "outputs": [
        {
          "name": "stdout",
          "output_type": "stream",
          "text": [
            "CPU times: user 182 ms, sys: 182 ms, total: 364 ms\n",
            "Wall time: 405 ms\n"
          ]
        }
      ],
      "source": [
        "%%time\n",
        "arr = np.arange(N)\n",
        "arr_sum = np.sum(arr)"
      ]
    },
    {
      "cell_type": "markdown",
      "metadata": {
        "id": "NLGCUANycFKt"
      },
      "source": [
        "## Creating np Arrays"
      ]
    },
    {
      "cell_type": "code",
      "execution_count": null,
      "metadata": {
        "id": "Evm6nUDNbd6M"
      },
      "outputs": [],
      "source": [
        "arr = np.arange(5)"
      ]
    },
    {
      "cell_type": "code",
      "execution_count": null,
      "metadata": {
        "colab": {
          "base_uri": "https://localhost:8080/"
        },
        "id": "b3Wx0sQlcKQC",
        "outputId": "f78e9e77-e7ef-4498-a6d3-ae71cd6d4ec1"
      },
      "outputs": [
        {
          "name": "stdout",
          "output_type": "stream",
          "text": [
            "[0 1 2 3 4] <class 'numpy.ndarray'>\n"
          ]
        }
      ],
      "source": [
        "print(arr, type(arr))"
      ]
    },
    {
      "cell_type": "code",
      "execution_count": null,
      "metadata": {
        "id": "uXufCplPcMIb"
      },
      "outputs": [],
      "source": [
        "arr = np.array([0.0, 2, 4, 6, 8])"
      ]
    },
    {
      "cell_type": "code",
      "execution_count": null,
      "metadata": {
        "colab": {
          "base_uri": "https://localhost:8080/"
        },
        "id": "XRYdEBlXcYGg",
        "outputId": "4ea7fa50-5004-480e-c7e9-b5d260db727b"
      },
      "outputs": [
        {
          "name": "stdout",
          "output_type": "stream",
          "text": [
            "[0. 2. 4. 6. 8.] <class 'numpy.ndarray'>\n"
          ]
        }
      ],
      "source": [
        "print(arr, type(arr))"
      ]
    },
    {
      "cell_type": "code",
      "execution_count": null,
      "metadata": {
        "colab": {
          "base_uri": "https://localhost:8080/"
        },
        "id": "plOZLyMPcZH8",
        "outputId": "ea31a526-c9d7-4e1d-95af-a759fbae96bf"
      },
      "outputs": [
        {
          "data": {
            "text/plain": [
              "array([0., 2., 4., 6., 8.])"
            ]
          },
          "execution_count": 14,
          "metadata": {},
          "output_type": "execute_result"
        }
      ],
      "source": [
        "arr"
      ]
    },
    {
      "cell_type": "markdown",
      "metadata": {
        "id": "NJh2ZQmPuxt9"
      },
      "source": [
        "## Different `numpy` functions"
      ]
    },
    {
      "cell_type": "code",
      "execution_count": null,
      "metadata": {
        "colab": {
          "base_uri": "https://localhost:8080/"
        },
        "id": "44OjxdEJchb8",
        "outputId": "a3157ae0-0256-4c49-8c87-a4d877117ef6"
      },
      "outputs": [
        {
          "data": {
            "text/plain": [
              "dtype('float64')"
            ]
          },
          "execution_count": 15,
          "metadata": {},
          "output_type": "execute_result"
        }
      ],
      "source": [
        "arr.dtype"
      ]
    },
    {
      "cell_type": "code",
      "execution_count": null,
      "metadata": {
        "colab": {
          "base_uri": "https://localhost:8080/"
        },
        "id": "aLs3mkBycnmt",
        "outputId": "e5ce0e4f-c1f7-4999-a8ba-f0ce85c75e18"
      },
      "outputs": [
        {
          "data": {
            "text/plain": [
              "1"
            ]
          },
          "execution_count": 16,
          "metadata": {},
          "output_type": "execute_result"
        }
      ],
      "source": [
        "arr.ndim"
      ]
    },
    {
      "cell_type": "code",
      "execution_count": null,
      "metadata": {
        "colab": {
          "base_uri": "https://localhost:8080/"
        },
        "id": "M_45DXNecwbz",
        "outputId": "03175200-ec09-4a52-e664-3be51a29eb93"
      },
      "outputs": [
        {
          "data": {
            "text/plain": [
              "(5,)"
            ]
          },
          "execution_count": 17,
          "metadata": {},
          "output_type": "execute_result"
        }
      ],
      "source": [
        "arr.shape"
      ]
    },
    {
      "cell_type": "code",
      "execution_count": null,
      "metadata": {
        "colab": {
          "base_uri": "https://localhost:8080/"
        },
        "id": "wyWLuERBcy4W",
        "outputId": "858225ca-5e4e-4f3d-c943-3856db20dcb0"
      },
      "outputs": [
        {
          "data": {
            "text/plain": [
              "5"
            ]
          },
          "execution_count": 18,
          "metadata": {},
          "output_type": "execute_result"
        }
      ],
      "source": [
        "arr.size"
      ]
    },
    {
      "cell_type": "markdown",
      "metadata": {
        "id": "zVVH3IeMvTCS"
      },
      "source": [
        "### `itemsize`\n",
        "The length of one array element in bytes"
      ]
    },
    {
      "cell_type": "code",
      "execution_count": null,
      "metadata": {
        "colab": {
          "base_uri": "https://localhost:8080/"
        },
        "id": "Fqj2_W-Sc3MG",
        "outputId": "b96ba6f1-5342-44de-faae-e596f3f9cb26"
      },
      "outputs": [
        {
          "data": {
            "text/plain": [
              "8"
            ]
          },
          "execution_count": 19,
          "metadata": {},
          "output_type": "execute_result"
        }
      ],
      "source": [
        "arr.itemsize"
      ]
    },
    {
      "cell_type": "markdown",
      "metadata": {
        "id": "ALADFLcjvecN"
      },
      "source": [
        "## 2d-Array"
      ]
    },
    {
      "cell_type": "code",
      "execution_count": null,
      "metadata": {
        "id": "pLeTXokgc62S"
      },
      "outputs": [],
      "source": [
        "arr2d = np.array([\n",
        "                  [1, 2, 3],\n",
        "                  [4, 5, 6]\n",
        "])"
      ]
    },
    {
      "cell_type": "code",
      "execution_count": null,
      "metadata": {
        "colab": {
          "base_uri": "https://localhost:8080/"
        },
        "id": "34LVKLSjdanx",
        "outputId": "1bbeb060-39c4-4665-ddb4-5a554e7e1b58"
      },
      "outputs": [
        {
          "data": {
            "text/plain": [
              "array([[1, 2, 3],\n",
              "       [4, 5, 6]])"
            ]
          },
          "execution_count": 21,
          "metadata": {},
          "output_type": "execute_result"
        }
      ],
      "source": [
        "arr2d"
      ]
    },
    {
      "cell_type": "code",
      "execution_count": null,
      "metadata": {
        "colab": {
          "base_uri": "https://localhost:8080/"
        },
        "id": "LRVMTi7mdcHH",
        "outputId": "0a4d1fda-04a8-46a8-d80d-5532777688a8"
      },
      "outputs": [
        {
          "data": {
            "text/plain": [
              "2"
            ]
          },
          "execution_count": 22,
          "metadata": {},
          "output_type": "execute_result"
        }
      ],
      "source": [
        "arr2d.ndim"
      ]
    },
    {
      "cell_type": "code",
      "execution_count": null,
      "metadata": {
        "colab": {
          "base_uri": "https://localhost:8080/"
        },
        "id": "Ma9WfzVcdeA5",
        "outputId": "a00adbea-12ce-4459-e829-9f663208bf60"
      },
      "outputs": [
        {
          "data": {
            "text/plain": [
              "(2, 3)"
            ]
          },
          "execution_count": 23,
          "metadata": {},
          "output_type": "execute_result"
        }
      ],
      "source": [
        "arr2d.shape"
      ]
    },
    {
      "cell_type": "code",
      "execution_count": null,
      "metadata": {
        "colab": {
          "base_uri": "https://localhost:8080/"
        },
        "id": "Gs_AZjoddfHj",
        "outputId": "b3e37186-dbb9-4997-df50-bf67c39137f7"
      },
      "outputs": [
        {
          "data": {
            "text/plain": [
              "6"
            ]
          },
          "execution_count": 24,
          "metadata": {},
          "output_type": "execute_result"
        }
      ],
      "source": [
        "arr2d.size"
      ]
    },
    {
      "cell_type": "markdown",
      "metadata": {
        "id": "5HzN8tffzZpi"
      },
      "source": [
        "## 3d-Array"
      ]
    },
    {
      "cell_type": "code",
      "execution_count": null,
      "metadata": {
        "id": "WxJvJYrIdnBf"
      },
      "outputs": [],
      "source": [
        "arr3d = np.array([\n",
        "                  [\n",
        "                   [1, 2, 3],\n",
        "                   [4, 5, 6]\n",
        "                  ],\n",
        "                  [\n",
        "                   [7, 8, 9],\n",
        "                   [10, 11, 12]\n",
        "                  ]\n",
        "])"
      ]
    },
    {
      "cell_type": "code",
      "execution_count": null,
      "metadata": {
        "colab": {
          "base_uri": "https://localhost:8080/"
        },
        "id": "-MAbEurMd57w",
        "outputId": "597c63d0-f18a-4152-ee53-c0d197ce8ee5"
      },
      "outputs": [
        {
          "data": {
            "text/plain": [
              "array([[[ 1,  2,  3],\n",
              "        [ 4,  5,  6]],\n",
              "\n",
              "       [[ 7,  8,  9],\n",
              "        [10, 11, 12]]])"
            ]
          },
          "execution_count": 26,
          "metadata": {},
          "output_type": "execute_result"
        }
      ],
      "source": [
        "arr3d"
      ]
    },
    {
      "cell_type": "code",
      "execution_count": null,
      "metadata": {
        "colab": {
          "base_uri": "https://localhost:8080/"
        },
        "id": "dE9OjxSrd638",
        "outputId": "46d0b964-dbce-442b-9c5a-4e08d960e26b"
      },
      "outputs": [
        {
          "data": {
            "text/plain": [
              "(2, 2, 3)"
            ]
          },
          "execution_count": 27,
          "metadata": {},
          "output_type": "execute_result"
        }
      ],
      "source": [
        "arr3d.shape"
      ]
    },
    {
      "cell_type": "code",
      "execution_count": null,
      "metadata": {
        "colab": {
          "base_uri": "https://localhost:8080/"
        },
        "id": "0fa892EEd__8",
        "outputId": "9d23f5e3-ba20-4340-f148-b498ff9e4484"
      },
      "outputs": [
        {
          "data": {
            "text/plain": [
              "3"
            ]
          },
          "execution_count": 28,
          "metadata": {},
          "output_type": "execute_result"
        }
      ],
      "source": [
        "arr3d.ndim"
      ]
    },
    {
      "cell_type": "code",
      "execution_count": null,
      "metadata": {
        "colab": {
          "base_uri": "https://localhost:8080/"
        },
        "id": "j92cN38DeBqQ",
        "outputId": "fdb6eb8a-2ae8-4fe8-f22c-a80cbd78e91b"
      },
      "outputs": [
        {
          "data": {
            "text/plain": [
              "12"
            ]
          },
          "execution_count": 29,
          "metadata": {},
          "output_type": "execute_result"
        }
      ],
      "source": [
        "arr3d.size"
      ]
    },
    {
      "cell_type": "markdown",
      "metadata": {
        "id": "QQr1M1sWz3KS"
      },
      "source": [
        "## `np.ones`"
      ]
    },
    {
      "cell_type": "code",
      "execution_count": null,
      "metadata": {
        "colab": {
          "base_uri": "https://localhost:8080/"
        },
        "id": "OMN9ucDEeCzz",
        "outputId": "8e7e06d8-9ccd-4734-a5da-c7e626b2b832"
      },
      "outputs": [
        {
          "data": {
            "text/plain": [
              "array([[[1., 1., 1., 1.],\n",
              "        [1., 1., 1., 1.],\n",
              "        [1., 1., 1., 1.]],\n",
              "\n",
              "       [[1., 1., 1., 1.],\n",
              "        [1., 1., 1., 1.],\n",
              "        [1., 1., 1., 1.]]])"
            ]
          },
          "execution_count": 30,
          "metadata": {},
          "output_type": "execute_result"
        }
      ],
      "source": [
        "np.ones((2, 3, 4))"
      ]
    },
    {
      "cell_type": "code",
      "execution_count": null,
      "metadata": {
        "colab": {
          "base_uri": "https://localhost:8080/"
        },
        "id": "i52W2q1beS79",
        "outputId": "b32b88da-31ad-408a-ec70-4586e2deb33f"
      },
      "outputs": [
        {
          "data": {
            "text/plain": [
              "array([[[1729., 1729., 1729., 1729.],\n",
              "        [1729., 1729., 1729., 1729.],\n",
              "        [1729., 1729., 1729., 1729.]],\n",
              "\n",
              "       [[1729., 1729., 1729., 1729.],\n",
              "        [1729., 1729., 1729., 1729.],\n",
              "        [1729., 1729., 1729., 1729.]]])"
            ]
          },
          "execution_count": 31,
          "metadata": {},
          "output_type": "execute_result"
        }
      ],
      "source": [
        "1729 * np.ones((2, 3, 4))"
      ]
    },
    {
      "cell_type": "markdown",
      "metadata": {
        "id": "tl4NhUzOz9VK"
      },
      "source": [
        "## `np.zeros`"
      ]
    },
    {
      "cell_type": "code",
      "execution_count": null,
      "metadata": {
        "colab": {
          "base_uri": "https://localhost:8080/"
        },
        "id": "nvZvkdYUeZiu",
        "outputId": "27bfeb38-2cc3-401e-8505-3b585159c4fe"
      },
      "outputs": [
        {
          "data": {
            "text/plain": [
              "array([[[0., 0., 0., 0.],\n",
              "        [0., 0., 0., 0.],\n",
              "        [0., 0., 0., 0.]],\n",
              "\n",
              "       [[0., 0., 0., 0.],\n",
              "        [0., 0., 0., 0.],\n",
              "        [0., 0., 0., 0.]]])"
            ]
          },
          "execution_count": 32,
          "metadata": {},
          "output_type": "execute_result"
        }
      ],
      "source": [
        "np.zeros((2, 3, 4))"
      ]
    },
    {
      "cell_type": "markdown",
      "metadata": {
        "id": "zPCI0_yp0AUG"
      },
      "source": [
        "## Random numbers"
      ]
    },
    {
      "cell_type": "code",
      "execution_count": null,
      "metadata": {
        "colab": {
          "base_uri": "https://localhost:8080/"
        },
        "id": "GFxPoEK6ef6h",
        "outputId": "9641b549-4136-48e5-b926-5c75581f7d92"
      },
      "outputs": [
        {
          "data": {
            "text/plain": [
              "array([[-0.05606064,  3.70994052,  0.63657472],\n",
              "       [-0.31325675, -0.80215894, -0.2913907 ]])"
            ]
          },
          "execution_count": 33,
          "metadata": {},
          "output_type": "execute_result"
        }
      ],
      "source": [
        "np.random.randn(2, 3)"
      ]
    },
    {
      "cell_type": "code",
      "execution_count": null,
      "metadata": {
        "colab": {
          "base_uri": "https://localhost:8080/"
        },
        "id": "8Mpt-djQe2OV",
        "outputId": "48390e17-911a-4b46-f971-2c138c6b030f"
      },
      "outputs": [
        {
          "data": {
            "text/plain": [
              "array([[0.47158618, 0.51058761, 0.85466198],\n",
              "       [0.74202225, 0.85260018, 0.57479237]])"
            ]
          },
          "execution_count": 34,
          "metadata": {},
          "output_type": "execute_result"
        }
      ],
      "source": [
        "np.random.rand(2, 3)"
      ]
    },
    {
      "cell_type": "code",
      "execution_count": null,
      "metadata": {
        "colab": {
          "base_uri": "https://localhost:8080/"
        },
        "id": "Ymh-OjaNfI9m",
        "outputId": "3506cefb-0822-405f-ad57-f22c6d94edaa"
      },
      "outputs": [
        {
          "data": {
            "text/plain": [
              "array([[0.16963949],\n",
              "       [0.60066536],\n",
              "       [0.09263847],\n",
              "       [0.23857576],\n",
              "       [0.19128113],\n",
              "       [0.1280838 ],\n",
              "       [0.13702395],\n",
              "       [0.49024326],\n",
              "       [0.89050314],\n",
              "       [0.16033349]])"
            ]
          },
          "execution_count": 35,
          "metadata": {},
          "output_type": "execute_result"
        }
      ],
      "source": [
        "np.random.rand(10, 1)"
      ]
    },
    {
      "cell_type": "code",
      "execution_count": null,
      "metadata": {
        "colab": {
          "base_uri": "https://localhost:8080/"
        },
        "id": "c5To7Be5fQ1O",
        "outputId": "1612663c-62df-40ca-a88b-291c2d1bd6d1"
      },
      "outputs": [
        {
          "data": {
            "text/plain": [
              "array([[88, 88,  9],\n",
              "       [45, 48, 61]])"
            ]
          },
          "execution_count": 36,
          "metadata": {},
          "output_type": "execute_result"
        }
      ],
      "source": [
        "np.random.randint(0, 100, (2, 3))"
      ]
    },
    {
      "cell_type": "code",
      "execution_count": null,
      "metadata": {
        "colab": {
          "base_uri": "https://localhost:8080/"
        },
        "id": "jXlwR9JbfdmT",
        "outputId": "b21848d4-8c73-4315-9b9a-7620e81bd6ce"
      },
      "outputs": [
        {
          "data": {
            "text/plain": [
              "array([ 7, 14, 21, 28, 35, 42, 49, 56, 63, 70])"
            ]
          },
          "execution_count": 37,
          "metadata": {},
          "output_type": "execute_result"
        }
      ],
      "source": [
        "np.arange(7, 71, 7)"
      ]
    },
    {
      "cell_type": "markdown",
      "metadata": {
        "id": "g4nYp9850Ggt"
      },
      "source": [
        "### `np.linspace`"
      ]
    },
    {
      "cell_type": "code",
      "execution_count": 4,
      "metadata": {
        "colab": {
          "base_uri": "https://localhost:8080/"
        },
        "id": "4etiNgpe0QY1",
        "outputId": "daf8bdc9-4d39-4946-bfc9-e68f82aacd01"
      },
      "outputs": [
        {
          "name": "stdout",
          "output_type": "stream",
          "text": [
            "Help on function linspace in module numpy:\n",
            "\n",
            "linspace(start, stop, num=50, endpoint=True, retstep=False, dtype=None, axis=0)\n",
            "    Return evenly spaced numbers over a specified interval.\n",
            "    \n",
            "    Returns `num` evenly spaced samples, calculated over the\n",
            "    interval [`start`, `stop`].\n",
            "    \n",
            "    The endpoint of the interval can optionally be excluded.\n",
            "    \n",
            "    .. versionchanged:: 1.16.0\n",
            "        Non-scalar `start` and `stop` are now supported.\n",
            "    \n",
            "    .. versionchanged:: 1.20.0\n",
            "        Values are rounded towards ``-inf`` instead of ``0`` when an\n",
            "        integer ``dtype`` is specified. The old behavior can\n",
            "        still be obtained with ``np.linspace(start, stop, num).astype(int)``\n",
            "    \n",
            "    Parameters\n",
            "    ----------\n",
            "    start : array_like\n",
            "        The starting value of the sequence.\n",
            "    stop : array_like\n",
            "        The end value of the sequence, unless `endpoint` is set to False.\n",
            "        In that case, the sequence consists of all but the last of ``num + 1``\n",
            "        evenly spaced samples, so that `stop` is excluded.  Note that the step\n",
            "        size changes when `endpoint` is False.\n",
            "    num : int, optional\n",
            "        Number of samples to generate. Default is 50. Must be non-negative.\n",
            "    endpoint : bool, optional\n",
            "        If True, `stop` is the last sample. Otherwise, it is not included.\n",
            "        Default is True.\n",
            "    retstep : bool, optional\n",
            "        If True, return (`samples`, `step`), where `step` is the spacing\n",
            "        between samples.\n",
            "    dtype : dtype, optional\n",
            "        The type of the output array.  If `dtype` is not given, the data type\n",
            "        is inferred from `start` and `stop`. The inferred dtype will never be\n",
            "        an integer; `float` is chosen even if the arguments would produce an\n",
            "        array of integers.\n",
            "    \n",
            "        .. versionadded:: 1.9.0\n",
            "    \n",
            "    axis : int, optional\n",
            "        The axis in the result to store the samples.  Relevant only if start\n",
            "        or stop are array-like.  By default (0), the samples will be along a\n",
            "        new axis inserted at the beginning. Use -1 to get an axis at the end.\n",
            "    \n",
            "        .. versionadded:: 1.16.0\n",
            "    \n",
            "    Returns\n",
            "    -------\n",
            "    samples : ndarray\n",
            "        There are `num` equally spaced samples in the closed interval\n",
            "        ``[start, stop]`` or the half-open interval ``[start, stop)``\n",
            "        (depending on whether `endpoint` is True or False).\n",
            "    step : float, optional\n",
            "        Only returned if `retstep` is True\n",
            "    \n",
            "        Size of spacing between samples.\n",
            "    \n",
            "    \n",
            "    See Also\n",
            "    --------\n",
            "    arange : Similar to `linspace`, but uses a step size (instead of the\n",
            "             number of samples).\n",
            "    geomspace : Similar to `linspace`, but with numbers spaced evenly on a log\n",
            "                scale (a geometric progression).\n",
            "    logspace : Similar to `geomspace`, but with the end points specified as\n",
            "               logarithms.\n",
            "    :ref:`how-to-partition`\n",
            "    \n",
            "    Examples\n",
            "    --------\n",
            "    >>> np.linspace(2.0, 3.0, num=5)\n",
            "    array([2.  , 2.25, 2.5 , 2.75, 3.  ])\n",
            "    >>> np.linspace(2.0, 3.0, num=5, endpoint=False)\n",
            "    array([2. ,  2.2,  2.4,  2.6,  2.8])\n",
            "    >>> np.linspace(2.0, 3.0, num=5, retstep=True)\n",
            "    (array([2.  ,  2.25,  2.5 ,  2.75,  3.  ]), 0.25)\n",
            "    \n",
            "    Graphical illustration:\n",
            "    \n",
            "    >>> import matplotlib.pyplot as plt\n",
            "    >>> N = 8\n",
            "    >>> y = np.zeros(N)\n",
            "    >>> x1 = np.linspace(0, 10, N, endpoint=True)\n",
            "    >>> x2 = np.linspace(0, 10, N, endpoint=False)\n",
            "    >>> plt.plot(x1, y, 'o')\n",
            "    [<matplotlib.lines.Line2D object at 0x...>]\n",
            "    >>> plt.plot(x2, y + 0.5, 'o')\n",
            "    [<matplotlib.lines.Line2D object at 0x...>]\n",
            "    >>> plt.ylim([-0.5, 1])\n",
            "    (-0.5, 1)\n",
            "    >>> plt.show()\n",
            "\n"
          ]
        }
      ],
      "source": [
        "help(np.linspace)"
      ]
    },
    {
      "cell_type": "code",
      "execution_count": 5,
      "metadata": {
        "colab": {
          "base_uri": "https://localhost:8080/"
        },
        "id": "X9xL5fSRf0D4",
        "outputId": "2b5d4798-6c9c-4fbc-9ce8-7e4c8abb0c02"
      },
      "outputs": [
        {
          "data": {
            "text/plain": [
              "array([ 7., 14., 21., 28., 35., 42., 49., 56., 63., 70.])"
            ]
          },
          "execution_count": 5,
          "metadata": {},
          "output_type": "execute_result"
        }
      ],
      "source": [
        "np.linspace(7, 70, 10)"
      ]
    },
    {
      "cell_type": "code",
      "execution_count": 6,
      "metadata": {
        "colab": {
          "base_uri": "https://localhost:8080/"
        },
        "id": "7zZfgzp_0hFz",
        "outputId": "cb4199fc-eac2-417d-90a6-181065327848"
      },
      "outputs": [
        {
          "data": {
            "text/plain": [
              "array([0., 0., 0., 0., 0., 0., 0., 0., 0., 0.])"
            ]
          },
          "execution_count": 6,
          "metadata": {},
          "output_type": "execute_result"
        }
      ],
      "source": [
        "N = 10\n",
        "y = np.zeros(N)\n",
        "y"
      ]
    },
    {
      "cell_type": "code",
      "execution_count": 7,
      "metadata": {
        "colab": {
          "base_uri": "https://localhost:8080/",
          "height": 435
        },
        "id": "d5jRGzAN0uot",
        "outputId": "9b45961f-622f-4373-9d10-3f73f976e0f3"
      },
      "outputs": [
        {
          "data": {
            "image/png": "[encoded data removed]",
            "text/plain": [
              "<Figure size 640x480 with 1 Axes>"
            ]
          },
          "metadata": {},
          "output_type": "display_data"
        }
      ],
      "source": [
        "x1 = np.linspace(0, 10, N, endpoint=True)\n",
        "plt.plot(x1, y, '+')\n",
        "\n",
        "x2 = np.linspace(0, 10, N, endpoint=False)\n",
        "plt.plot(x2, y + 0.5, 'o')\n",
        "\n",
        "plt.ylim([-0.5, 1])\n",
        "\n",
        "plt.show()"
      ]
    },
    {
      "cell_type": "code",
      "execution_count": 8,
      "metadata": {
        "colab": {
          "base_uri": "https://localhost:8080/"
        },
        "id": "sSvzx7sAf_4O",
        "outputId": "c3115b96-3704-4b34-9fcc-30307cf8f7e6"
      },
      "outputs": [
        {
          "data": {
            "text/plain": [
              "array([ True, False,  True,  True])"
            ]
          },
          "execution_count": 8,
          "metadata": {},
          "output_type": "execute_result"
        }
      ],
      "source": [
        "np.array([True, False, True, True])"
      ]
    },
    {
      "cell_type": "code",
      "execution_count": 9,
      "metadata": {
        "id": "RFpSPRFWgIqy"
      },
      "outputs": [],
      "source": [
        "str_arr = np.array(['1.4', '2.1', '1.1'])"
      ]
    },
    {
      "cell_type": "code",
      "execution_count": 10,
      "metadata": {
        "id": "kZGLBBIQgNwu"
      },
      "outputs": [],
      "source": [
        "arr = np.array(str_arr, dtype='float')"
      ]
    },
    {
      "cell_type": "code",
      "execution_count": 11,
      "metadata": {
        "colab": {
          "base_uri": "https://localhost:8080/"
        },
        "id": "TiadxxuigdAb",
        "outputId": "64825600-c195-45a1-ae8a-61ed741a1292"
      },
      "outputs": [
        {
          "data": {
            "text/plain": [
              "array([1.4, 2.1, 1.1])"
            ]
          },
          "execution_count": 11,
          "metadata": {},
          "output_type": "execute_result"
        }
      ],
      "source": [
        "arr"
      ]
    },
    {
      "cell_type": "markdown",
      "metadata": {
        "id": "ok07o0hHhe0k"
      },
      "source": [
        "## indexing"
      ]
    },
    {
      "cell_type": "code",
      "execution_count": 12,
      "metadata": {
        "id": "4VMwRGXfgfNL"
      },
      "outputs": [],
      "source": [
        "arr3d = np.array([\n",
        "                  [\n",
        "                   [1, 2, 3],\n",
        "                   [4, 5, 6]\n",
        "                  ],\n",
        "                  [\n",
        "                   [7, 8, 9],\n",
        "                   [10, 11, 12]\n",
        "                  ]\n",
        "])"
      ]
    },
    {
      "cell_type": "code",
      "execution_count": 13,
      "metadata": {
        "colab": {
          "base_uri": "https://localhost:8080/"
        },
        "id": "ZxmkYyRvhi2r",
        "outputId": "7e23ee60-609f-41aa-c26d-36bd55fffd44"
      },
      "outputs": [
        {
          "name": "stdout",
          "output_type": "stream",
          "text": [
            "[[[ 1  2  3]\n",
            "  [ 4  5  6]]\n",
            "\n",
            " [[ 7  8  9]\n",
            "  [10 11 12]]]\n"
          ]
        }
      ],
      "source": [
        "print(arr3d)"
      ]
    },
    {
      "cell_type": "code",
      "execution_count": 14,
      "metadata": {
        "colab": {
          "base_uri": "https://localhost:8080/"
        },
        "id": "1SBT8VOChkGi",
        "outputId": "0938cf1c-c36d-4e42-ba6b-7b06feb10282"
      },
      "outputs": [
        {
          "data": {
            "text/plain": [
              "1"
            ]
          },
          "execution_count": 14,
          "metadata": {},
          "output_type": "execute_result"
        }
      ],
      "source": [
        "arr3d[0, 0, 0]"
      ]
    },
    {
      "cell_type": "code",
      "execution_count": 15,
      "metadata": {
        "colab": {
          "base_uri": "https://localhost:8080/"
        },
        "id": "rE-cD0LPhrbJ",
        "outputId": "158fc9ee-baf1-4c62-e0a8-b0bebd70cacd"
      },
      "outputs": [
        {
          "data": {
            "text/plain": [
              "9"
            ]
          },
          "execution_count": 15,
          "metadata": {},
          "output_type": "execute_result"
        }
      ],
      "source": [
        "arr3d[1, 0, 2]"
      ]
    },
    {
      "cell_type": "code",
      "execution_count": 16,
      "metadata": {
        "colab": {
          "base_uri": "https://localhost:8080/"
        },
        "id": "mLFyHS7zht2J",
        "outputId": "8d5e5362-d84a-479e-b00e-79bc372272b5"
      },
      "outputs": [
        {
          "data": {
            "text/plain": [
              "9"
            ]
          },
          "execution_count": 16,
          "metadata": {},
          "output_type": "execute_result"
        }
      ],
      "source": [
        "i = 1\n",
        "j = 0\n",
        "k = 2\n",
        "arr3d[i, j, k]"
      ]
    },
    {
      "cell_type": "code",
      "execution_count": 17,
      "metadata": {
        "colab": {
          "base_uri": "https://localhost:8080/"
        },
        "id": "XmLT4eulh0aH",
        "outputId": "6c0135fd-4d68-4027-96e2-64c1c4da9db1"
      },
      "outputs": [
        {
          "data": {
            "text/plain": [
              "array([[ 7,  8,  9],\n",
              "       [10, 11, 12]])"
            ]
          },
          "execution_count": 17,
          "metadata": {},
          "output_type": "execute_result"
        }
      ],
      "source": [
        "arr3d[1, :, :]"
      ]
    },
    {
      "cell_type": "code",
      "execution_count": 18,
      "metadata": {
        "colab": {
          "base_uri": "https://localhost:8080/"
        },
        "id": "VnlCRvchh5pU",
        "outputId": "53f59008-c903-498e-9627-1ecf9d9cf359"
      },
      "outputs": [
        {
          "data": {
            "text/plain": [
              "array([[ 4,  5,  6],\n",
              "       [10, 11, 12]])"
            ]
          },
          "execution_count": 18,
          "metadata": {},
          "output_type": "execute_result"
        }
      ],
      "source": [
        "arr3d[:, 1, :]"
      ]
    },
    {
      "cell_type": "code",
      "execution_count": 19,
      "metadata": {
        "colab": {
          "base_uri": "https://localhost:8080/"
        },
        "id": "CpWBFasIh91a",
        "outputId": "31fedb8d-cc58-4f76-be63-2eba2e3bb17d"
      },
      "outputs": [
        {
          "data": {
            "text/plain": [
              "array([[[ 1,  2],\n",
              "        [ 4,  5]],\n",
              "\n",
              "       [[ 7,  8],\n",
              "        [10, 11]]])"
            ]
          },
          "execution_count": 19,
          "metadata": {},
          "output_type": "execute_result"
        }
      ],
      "source": [
        "arr3d[:, :, 0:2]"
      ]
    },
    {
      "cell_type": "code",
      "execution_count": 20,
      "metadata": {
        "colab": {
          "base_uri": "https://localhost:8080/"
        },
        "id": "JB1yfo7LiG8U",
        "outputId": "70da9d93-5429-43ee-e848-595583b16e99"
      },
      "outputs": [
        {
          "data": {
            "text/plain": [
              "array([[[False,  True, False],\n",
              "        [ True, False,  True]],\n",
              "\n",
              "       [[False,  True, False],\n",
              "        [ True, False,  True]]])"
            ]
          },
          "execution_count": 20,
          "metadata": {},
          "output_type": "execute_result"
        }
      ],
      "source": [
        "arr3d % 2 == 0"
      ]
    },
    {
      "cell_type": "code",
      "execution_count": 21,
      "metadata": {
        "colab": {
          "base_uri": "https://localhost:8080/"
        },
        "id": "nZItXOJTidcC",
        "outputId": "0924bab0-043c-476f-97b2-980df02ddafe"
      },
      "outputs": [
        {
          "data": {
            "text/plain": [
              "array([ 1,  3,  5,  7,  9, 11])"
            ]
          },
          "execution_count": 21,
          "metadata": {},
          "output_type": "execute_result"
        }
      ],
      "source": [
        "arr3d[arr3d % 2 == 1]"
      ]
    },
    {
      "cell_type": "code",
      "execution_count": 22,
      "metadata": {
        "colab": {
          "base_uri": "https://localhost:8080/"
        },
        "id": "UUMa3DzGisvm",
        "outputId": "92393e47-95a8-42e7-c7dd-f10c8b3ee945"
      },
      "outputs": [
        {
          "data": {
            "text/plain": [
              "array([ 5,  7,  9, 11])"
            ]
          },
          "execution_count": 22,
          "metadata": {},
          "output_type": "execute_result"
        }
      ],
      "source": [
        "arr3d[(arr3d % 2 == 1) & (arr3d > 3)]"
      ]
    },
    {
      "cell_type": "code",
      "execution_count": 23,
      "metadata": {
        "id": "sNpho7Fii71I"
      },
      "outputs": [],
      "source": [
        "arr_slice = arr3d[:, :, 0:2]"
      ]
    },
    {
      "cell_type": "code",
      "execution_count": 24,
      "metadata": {
        "colab": {
          "base_uri": "https://localhost:8080/"
        },
        "id": "e0tImPWtjKZq",
        "outputId": "5d36361a-2d1f-4e96-a921-d9974b53c902"
      },
      "outputs": [
        {
          "name": "stdout",
          "output_type": "stream",
          "text": [
            "<class 'numpy.ndarray'>\n"
          ]
        }
      ],
      "source": [
        "print(type(arr_slice))"
      ]
    },
    {
      "cell_type": "code",
      "execution_count": 25,
      "metadata": {
        "colab": {
          "base_uri": "https://localhost:8080/"
        },
        "id": "wW8qbXG3jMz_",
        "outputId": "9ebc01a5-4128-4cc2-bf17-eeb40b82e34a"
      },
      "outputs": [
        {
          "data": {
            "text/plain": [
              "3"
            ]
          },
          "execution_count": 25,
          "metadata": {},
          "output_type": "execute_result"
        }
      ],
      "source": [
        "arr_slice.ndim"
      ]
    },
    {
      "cell_type": "code",
      "execution_count": 26,
      "metadata": {
        "colab": {
          "base_uri": "https://localhost:8080/"
        },
        "id": "vPihxiG5jOlq",
        "outputId": "4a1c2b82-f877-43b5-c7e9-43497e201d04"
      },
      "outputs": [
        {
          "data": {
            "text/plain": [
              "(2, 2, 2)"
            ]
          },
          "execution_count": 26,
          "metadata": {},
          "output_type": "execute_result"
        }
      ],
      "source": [
        "arr_slice.shape"
      ]
    },
    {
      "cell_type": "code",
      "execution_count": 27,
      "metadata": {
        "colab": {
          "base_uri": "https://localhost:8080/"
        },
        "id": "zaHMiAmjjPxs",
        "outputId": "17d2ecfc-eeb3-4916-ff5f-300f1865d692"
      },
      "outputs": [
        {
          "data": {
            "text/plain": [
              "2"
            ]
          },
          "execution_count": 27,
          "metadata": {},
          "output_type": "execute_result"
        }
      ],
      "source": [
        "arr_slice[0, 0, 1]"
      ]
    },
    {
      "cell_type": "code",
      "execution_count": 28,
      "metadata": {
        "id": "eTlgT-ACjTRu"
      },
      "outputs": [],
      "source": [
        "arr_slice[0, 0, 0] = 1729"
      ]
    },
    {
      "cell_type": "code",
      "execution_count": 29,
      "metadata": {
        "colab": {
          "base_uri": "https://localhost:8080/"
        },
        "id": "mDHn_xdUjYfM",
        "outputId": "92a06e82-cc47-46d8-f6cb-71e4e5c5aa65"
      },
      "outputs": [
        {
          "data": {
            "text/plain": [
              "array([[[1729,    2],\n",
              "        [   4,    5]],\n",
              "\n",
              "       [[   7,    8],\n",
              "        [  10,   11]]])"
            ]
          },
          "execution_count": 29,
          "metadata": {},
          "output_type": "execute_result"
        }
      ],
      "source": [
        "arr_slice"
      ]
    },
    {
      "cell_type": "code",
      "execution_count": 30,
      "metadata": {
        "colab": {
          "base_uri": "https://localhost:8080/"
        },
        "id": "OGxEtXe6jZPu",
        "outputId": "071cb32b-c8d9-46e2-ced4-7dcfd37be44b"
      },
      "outputs": [
        {
          "data": {
            "text/plain": [
              "array([[[1729,    2,    3],\n",
              "        [   4,    5,    6]],\n",
              "\n",
              "       [[   7,    8,    9],\n",
              "        [  10,   11,   12]]])"
            ]
          },
          "execution_count": 30,
          "metadata": {},
          "output_type": "execute_result"
        }
      ],
      "source": [
        "arr3d"
      ]
    },
    {
      "cell_type": "code",
      "execution_count": 31,
      "metadata": {
        "id": "zrZaEpZLjdna"
      },
      "outputs": [],
      "source": [
        "arr_slice = np.copy(arr3d[:, :, 0:2])"
      ]
    },
    {
      "cell_type": "code",
      "execution_count": 32,
      "metadata": {
        "id": "0sID_b9bjtIy"
      },
      "outputs": [],
      "source": [
        "arr_slice[0, 0, 0] = 1"
      ]
    },
    {
      "cell_type": "code",
      "execution_count": 33,
      "metadata": {
        "colab": {
          "base_uri": "https://localhost:8080/"
        },
        "id": "LcjLIsrijvUn",
        "outputId": "3c5a57f1-eeab-4cd2-fc5b-ab6f7147529b"
      },
      "outputs": [
        {
          "data": {
            "text/plain": [
              "array([[[ 1,  2],\n",
              "        [ 4,  5]],\n",
              "\n",
              "       [[ 7,  8],\n",
              "        [10, 11]]])"
            ]
          },
          "execution_count": 33,
          "metadata": {},
          "output_type": "execute_result"
        }
      ],
      "source": [
        "arr_slice"
      ]
    },
    {
      "cell_type": "code",
      "execution_count": 34,
      "metadata": {
        "colab": {
          "base_uri": "https://localhost:8080/"
        },
        "id": "zrGt18rdjwIh",
        "outputId": "daef4254-511f-4c33-b837-8a5e31193328"
      },
      "outputs": [
        {
          "data": {
            "text/plain": [
              "array([[[1729,    2,    3],\n",
              "        [   4,    5,    6]],\n",
              "\n",
              "       [[   7,    8,    9],\n",
              "        [  10,   11,   12]]])"
            ]
          },
          "execution_count": 34,
          "metadata": {},
          "output_type": "execute_result"
        }
      ],
      "source": [
        "arr3d"
      ]
    },
    {
      "cell_type": "markdown",
      "metadata": {
        "id": "MTYi9iot2N_v"
      },
      "source": [
        "### `np.random.randint`"
      ]
    },
    {
      "cell_type": "code",
      "execution_count": 35,
      "metadata": {
        "id": "l5p33XQMjw43"
      },
      "outputs": [],
      "source": [
        "arr = np.random.randint(0, 10, (5))"
      ]
    },
    {
      "cell_type": "code",
      "execution_count": 36,
      "metadata": {
        "colab": {
          "base_uri": "https://localhost:8080/"
        },
        "id": "ceBichNRj4k7",
        "outputId": "98d33078-0782-4980-f595-d0a2cd2151c6"
      },
      "outputs": [
        {
          "data": {
            "text/plain": [
              "array([9, 9, 8, 8, 5])"
            ]
          },
          "execution_count": 36,
          "metadata": {},
          "output_type": "execute_result"
        }
      ],
      "source": [
        "arr"
      ]
    },
    {
      "cell_type": "code",
      "execution_count": 37,
      "metadata": {
        "id": "E13t8SUBj5Vi"
      },
      "outputs": [],
      "source": [
        "my_indices = [1, 3, 4]"
      ]
    },
    {
      "cell_type": "code",
      "execution_count": 38,
      "metadata": {
        "colab": {
          "base_uri": "https://localhost:8080/"
        },
        "id": "_iOe0XLPkBgw",
        "outputId": "93d70350-901f-4d4c-acbc-a8c3c058b300"
      },
      "outputs": [
        {
          "data": {
            "text/plain": [
              "array([9, 8, 5])"
            ]
          },
          "execution_count": 38,
          "metadata": {},
          "output_type": "execute_result"
        }
      ],
      "source": [
        "arr[my_indices]"
      ]
    },
    {
      "cell_type": "markdown",
      "metadata": {
        "id": "PDFmEbTwmJyr"
      },
      "source": [
        "# Numpy Operations"
      ]
    },
    {
      "cell_type": "code",
      "execution_count": 39,
      "metadata": {
        "id": "wS4XMMZykCzn"
      },
      "outputs": [],
      "source": [
        "arr1 = np.random.rand(3, 4)\n",
        "arr2 = np.random.rand(3, 4)"
      ]
    },
    {
      "cell_type": "code",
      "execution_count": 40,
      "metadata": {
        "colab": {
          "base_uri": "https://localhost:8080/"
        },
        "id": "DORY4pHZma5v",
        "outputId": "9ced9b62-a7f7-4792-a125-67a16b716270"
      },
      "outputs": [
        {
          "data": {
            "text/plain": [
              "array([[0.80205985, 0.5858473 , 0.7632352 , 0.05106679],\n",
              "       [0.3873502 , 0.8420423 , 0.05591088, 0.14030893],\n",
              "       [0.32931565, 0.48465952, 0.80560694, 0.29446387]])"
            ]
          },
          "execution_count": 40,
          "metadata": {},
          "output_type": "execute_result"
        }
      ],
      "source": [
        "arr1"
      ]
    },
    {
      "cell_type": "code",
      "execution_count": 41,
      "metadata": {
        "colab": {
          "base_uri": "https://localhost:8080/"
        },
        "id": "pPVyELXgmcTh",
        "outputId": "6422cd83-efa6-4ffa-ca08-194a669d2f81"
      },
      "outputs": [
        {
          "data": {
            "text/plain": [
              "array([[0.9916305 , 0.58701747, 0.43856621, 0.96545173],\n",
              "       [0.72959205, 0.42977164, 0.74204535, 0.21981874],\n",
              "       [0.12348291, 0.41328575, 0.7896069 , 0.60427113]])"
            ]
          },
          "execution_count": 41,
          "metadata": {},
          "output_type": "execute_result"
        }
      ],
      "source": [
        "arr2"
      ]
    },
    {
      "cell_type": "code",
      "execution_count": 42,
      "metadata": {
        "colab": {
          "base_uri": "https://localhost:8080/"
        },
        "id": "xoPI0KEUmOIN",
        "outputId": "d80bf53e-bc3d-4c52-f4d8-cc80267084fa"
      },
      "outputs": [
        {
          "data": {
            "text/plain": [
              "array([[1.79369035, 1.17286478, 1.20180141, 1.01651852],\n",
              "       [1.11694224, 1.27181394, 0.79795623, 0.36012766],\n",
              "       [0.45279856, 0.89794527, 1.59521384, 0.89873499]])"
            ]
          },
          "execution_count": 42,
          "metadata": {},
          "output_type": "execute_result"
        }
      ],
      "source": [
        "arr1 + arr2"
      ]
    },
    {
      "cell_type": "code",
      "execution_count": 43,
      "metadata": {
        "colab": {
          "base_uri": "https://localhost:8080/"
        },
        "id": "Nge4kKKzmUCa",
        "outputId": "0e3ca2b4-2aea-4a89-f786-a5b5b37c7cd7"
      },
      "outputs": [
        {
          "data": {
            "text/plain": [
              "array([[-0.18957065, -0.00117017,  0.32466899, -0.91438494],\n",
              "       [-0.34224185,  0.41227066, -0.68613447, -0.07950981],\n",
              "       [ 0.20583275,  0.07137377,  0.01600004, -0.30980726]])"
            ]
          },
          "execution_count": 43,
          "metadata": {},
          "output_type": "execute_result"
        }
      ],
      "source": [
        "arr1 - arr2"
      ]
    },
    {
      "cell_type": "code",
      "execution_count": 44,
      "metadata": {
        "colab": {
          "base_uri": "https://localhost:8080/"
        },
        "id": "yqwgwhAlmgiC",
        "outputId": "018c1114-a5cb-41e8-eab3-093900f125b2"
      },
      "outputs": [
        {
          "data": {
            "text/plain": [
              "array([[0.79534701, 0.3439026 , 0.33472917, 0.04930252],\n",
              "       [0.28260762, 0.3618859 , 0.04148841, 0.03084253],\n",
              "       [0.04066485, 0.20030287, 0.6361128 , 0.17793601]])"
            ]
          },
          "execution_count": 44,
          "metadata": {},
          "output_type": "execute_result"
        }
      ],
      "source": [
        "arr1 * arr2"
      ]
    },
    {
      "cell_type": "code",
      "execution_count": 45,
      "metadata": {
        "colab": {
          "base_uri": "https://localhost:8080/"
        },
        "id": "C_o4c5b7mhs2",
        "outputId": "ecc0c9da-ab0c-4e34-df1a-aac6bf85a10b"
      },
      "outputs": [
        {
          "data": {
            "text/plain": [
              "array([[0.80882935, 0.99800658, 1.74029642, 0.05289419],\n",
              "       [0.5309134 , 1.95927841, 0.07534698, 0.63829377],\n",
              "       [2.66689262, 1.17269837, 1.0202633 , 0.48730421]])"
            ]
          },
          "execution_count": 45,
          "metadata": {},
          "output_type": "execute_result"
        }
      ],
      "source": [
        "arr1 / arr2"
      ]
    },
    {
      "cell_type": "code",
      "execution_count": 46,
      "metadata": {
        "colab": {
          "base_uri": "https://localhost:8080/"
        },
        "id": "5girn41lmiz5",
        "outputId": "15d59870-2877-441f-fd01-3f4ed1a03366"
      },
      "outputs": [
        {
          "data": {
            "text/plain": [
              "array([[2.23012994, 1.79651253, 2.14520517, 1.05239318],\n",
              "       [1.47307227, 2.32110253, 1.05750343, 1.15062921],\n",
              "       [1.39001655, 1.62362211, 2.23805445, 1.34240646]])"
            ]
          },
          "execution_count": 46,
          "metadata": {},
          "output_type": "execute_result"
        }
      ],
      "source": [
        "np.exp(arr1)"
      ]
    },
    {
      "cell_type": "code",
      "execution_count": 47,
      "metadata": {
        "colab": {
          "base_uri": "https://localhost:8080/"
        },
        "id": "CYMOIqXvmm1E",
        "outputId": "47fef595-810a-4146-b3f5-f610c75f798d"
      },
      "outputs": [
        {
          "data": {
            "text/plain": [
              "array([[0.80205985, 0.5858473 , 0.7632352 , 0.05106679],\n",
              "       [0.3873502 , 0.8420423 , 0.05591088, 0.14030893],\n",
              "       [0.32931565, 0.48465952, 0.80560694, 0.29446387]])"
            ]
          },
          "execution_count": 47,
          "metadata": {},
          "output_type": "execute_result"
        }
      ],
      "source": [
        "np.log(np.exp(arr1))"
      ]
    },
    {
      "cell_type": "code",
      "execution_count": 48,
      "metadata": {
        "colab": {
          "base_uri": "https://localhost:8080/"
        },
        "id": "V5rtJRhhmq5k",
        "outputId": "aea997b5-9c0f-45ba-a654-f6f280807dc9"
      },
      "outputs": [
        {
          "data": {
            "text/plain": [
              "array([[0.71878968, 0.55290559, 0.69126283, 0.0510446 ],\n",
              "       [0.37773626, 0.74600473, 0.05588175, 0.13984901],\n",
              "       [0.32339553, 0.46590712, 0.72125119, 0.29022683]])"
            ]
          },
          "execution_count": 48,
          "metadata": {},
          "output_type": "execute_result"
        }
      ],
      "source": [
        "np.sin(arr1)"
      ]
    },
    {
      "cell_type": "code",
      "execution_count": 49,
      "metadata": {
        "colab": {
          "base_uri": "https://localhost:8080/"
        },
        "id": "haio7RijmyCA",
        "outputId": "dcff95fa-4195-4fdd-fc84-ed7503fe45c9"
      },
      "outputs": [
        {
          "data": {
            "text/plain": [
              "array([[0.69522759, 0.83324391, 0.72260342, 0.99869637],\n",
              "       [0.92591324, 0.66594065, 0.99843739, 0.99017284],\n",
              "       [0.94626388, 0.88483363, 0.69267361, 0.95695788]])"
            ]
          },
          "execution_count": 49,
          "metadata": {},
          "output_type": "execute_result"
        }
      ],
      "source": [
        "np.cos(arr1)"
      ]
    },
    {
      "cell_type": "code",
      "execution_count": 50,
      "metadata": {
        "colab": {
          "base_uri": "https://localhost:8080/"
        },
        "id": "XB5NNm2SmzKo",
        "outputId": "c5768a6a-e0b4-4285-ceb6-6e24e6d91ded"
      },
      "outputs": [
        {
          "data": {
            "text/plain": [
              "array([[0.89557794, 0.76540663, 0.87363333, 0.22597962],\n",
              "       [0.62237464, 0.91762863, 0.23645482, 0.37457833],\n",
              "       [0.57386031, 0.69617492, 0.89755609, 0.54264525]])"
            ]
          },
          "execution_count": 50,
          "metadata": {},
          "output_type": "execute_result"
        }
      ],
      "source": [
        "np.sqrt(arr1)"
      ]
    },
    {
      "cell_type": "code",
      "execution_count": 51,
      "metadata": {
        "id": "PmATG2ONm2KE"
      },
      "outputs": [],
      "source": [
        "arr_inv = 1 / arr1"
      ]
    },
    {
      "cell_type": "code",
      "execution_count": 52,
      "metadata": {
        "colab": {
          "base_uri": "https://localhost:8080/"
        },
        "id": "pZMKQOMEnCpu",
        "outputId": "10ca9795-4287-429c-fe6e-3d84cdb7c6ed"
      },
      "outputs": [
        {
          "data": {
            "text/plain": [
              "array([[ 1.24678975,  1.70692942,  1.31021211, 19.58219825],\n",
              "       [ 2.58164319,  1.18758879, 17.88560656,  7.12713017],\n",
              "       [ 3.03660026,  2.06330414,  1.24130013,  3.39600241]])"
            ]
          },
          "execution_count": 52,
          "metadata": {},
          "output_type": "execute_result"
        }
      ],
      "source": [
        "arr_inv"
      ]
    },
    {
      "cell_type": "code",
      "execution_count": 53,
      "metadata": {
        "id": "lpgGtxC9nFDP"
      },
      "outputs": [],
      "source": [
        "arr1 = np.zeros((3, 5))"
      ]
    },
    {
      "cell_type": "code",
      "execution_count": 54,
      "metadata": {
        "colab": {
          "base_uri": "https://localhost:8080/"
        },
        "id": "6XF8aFa-nG3O",
        "outputId": "324b26b4-075d-4d63-ee01-238a626428ee"
      },
      "outputs": [
        {
          "name": "stderr",
          "output_type": "stream",
          "text": [
            "C:\\Users\\Asus\\AppData\\Local\\Temp\\ipykernel_25704\\2508733167.py:1: RuntimeWarning: divide by zero encountered in divide\n",
            "  arr_inv = 1/arr1\n"
          ]
        }
      ],
      "source": [
        "arr_inv = 1/arr1"
      ]
    },
    {
      "cell_type": "code",
      "execution_count": 55,
      "metadata": {
        "colab": {
          "base_uri": "https://localhost:8080/"
        },
        "id": "eJ1dg9DinJi3",
        "outputId": "3a89ed1b-2b71-42f0-bd94-9d5b5f37460f"
      },
      "outputs": [
        {
          "name": "stdout",
          "output_type": "stream",
          "text": [
            "[[inf inf inf inf inf]\n",
            " [inf inf inf inf inf]\n",
            " [inf inf inf inf inf]]\n"
          ]
        }
      ],
      "source": [
        "print(arr_inv)"
      ]
    },
    {
      "cell_type": "code",
      "execution_count": 56,
      "metadata": {
        "colab": {
          "base_uri": "https://localhost:8080/"
        },
        "id": "IyX2awRPnNPM",
        "outputId": "46ec6aa3-7856-4aa2-ca35-be3e1ff9f213"
      },
      "outputs": [
        {
          "data": {
            "text/plain": [
              "True"
            ]
          },
          "execution_count": 56,
          "metadata": {},
          "output_type": "execute_result"
        }
      ],
      "source": [
        "np.isinf(arr_inv[0,0])"
      ]
    },
    {
      "cell_type": "code",
      "execution_count": 57,
      "metadata": {
        "colab": {
          "base_uri": "https://localhost:8080/"
        },
        "id": "Ty_C2cOznVh2",
        "outputId": "8ba1255a-99b5-411c-bf1e-bfeb2225590d"
      },
      "outputs": [
        {
          "data": {
            "text/plain": [
              "array([[ True,  True,  True,  True,  True],\n",
              "       [ True,  True,  True,  True,  True],\n",
              "       [ True,  True,  True,  True,  True]])"
            ]
          },
          "execution_count": 57,
          "metadata": {},
          "output_type": "execute_result"
        }
      ],
      "source": [
        "np.isinf(arr_inv)"
      ]
    },
    {
      "cell_type": "markdown",
      "metadata": {
        "id": "xPFrKz2xuH5K"
      },
      "source": [
        "# Broadcasting"
      ]
    },
    {
      "cell_type": "code",
      "execution_count": 58,
      "metadata": {
        "id": "AqW-zutVsaGD"
      },
      "outputs": [],
      "source": [
        "arr1 = np.arange(6)"
      ]
    },
    {
      "cell_type": "code",
      "execution_count": 59,
      "metadata": {
        "colab": {
          "base_uri": "https://localhost:8080/"
        },
        "id": "sqt31ffwuLr1",
        "outputId": "f288e57a-727b-4cec-b5b7-82df52096523"
      },
      "outputs": [
        {
          "data": {
            "text/plain": [
              "(6,)"
            ]
          },
          "execution_count": 59,
          "metadata": {},
          "output_type": "execute_result"
        }
      ],
      "source": [
        "arr1.shape"
      ]
    },
    {
      "cell_type": "code",
      "execution_count": 60,
      "metadata": {
        "colab": {
          "base_uri": "https://localhost:8080/"
        },
        "id": "egWan3VuuOg1",
        "outputId": "27ae7a79-cc48-4a75-d2b6-249f0be2353e"
      },
      "outputs": [
        {
          "data": {
            "text/plain": [
              "array([0, 1, 2, 3, 4, 5])"
            ]
          },
          "execution_count": 60,
          "metadata": {},
          "output_type": "execute_result"
        }
      ],
      "source": [
        "arr1"
      ]
    },
    {
      "cell_type": "code",
      "execution_count": 61,
      "metadata": {
        "id": "Xi38O_2kuQr1"
      },
      "outputs": [],
      "source": [
        "arr1 = arr1.reshape((3, 2))"
      ]
    },
    {
      "cell_type": "code",
      "execution_count": 62,
      "metadata": {
        "colab": {
          "base_uri": "https://localhost:8080/"
        },
        "id": "vL10s1A9uVWe",
        "outputId": "3a18f2c6-e2eb-450d-b424-cf6a88d4f716"
      },
      "outputs": [
        {
          "data": {
            "text/plain": [
              "(3, 2)"
            ]
          },
          "execution_count": 62,
          "metadata": {},
          "output_type": "execute_result"
        }
      ],
      "source": [
        "arr1.shape"
      ]
    },
    {
      "cell_type": "code",
      "execution_count": 63,
      "metadata": {
        "colab": {
          "base_uri": "https://localhost:8080/"
        },
        "id": "_f1rCnWcuWyl",
        "outputId": "9938dc38-2418-4429-e554-45f2ac3c6471"
      },
      "outputs": [
        {
          "data": {
            "text/plain": [
              "array([[0, 1],\n",
              "       [2, 3],\n",
              "       [4, 5]])"
            ]
          },
          "execution_count": 63,
          "metadata": {},
          "output_type": "execute_result"
        }
      ],
      "source": [
        "arr1"
      ]
    },
    {
      "cell_type": "code",
      "execution_count": 64,
      "metadata": {
        "id": "IPPjvzAxuXei"
      },
      "outputs": [],
      "source": [
        "arr2 = np.arange(6).reshape((3, 2))"
      ]
    },
    {
      "cell_type": "code",
      "execution_count": 65,
      "metadata": {
        "colab": {
          "base_uri": "https://localhost:8080/"
        },
        "id": "C-r2H2Sjuisn",
        "outputId": "0af243ff-2aa3-4c09-c4d6-b2336ba3113a"
      },
      "outputs": [
        {
          "data": {
            "text/plain": [
              "array([[ 0,  2],\n",
              "       [ 4,  6],\n",
              "       [ 8, 10]])"
            ]
          },
          "execution_count": 65,
          "metadata": {},
          "output_type": "execute_result"
        }
      ],
      "source": [
        "arr1 + arr2"
      ]
    },
    {
      "cell_type": "code",
      "execution_count": 66,
      "metadata": {
        "colab": {
          "base_uri": "https://localhost:8080/"
        },
        "id": "9oi2bv4hukkP",
        "outputId": "62005089-bbca-4e18-d707-c362a79f75f5"
      },
      "outputs": [
        {
          "data": {
            "text/plain": [
              "array([[0, 1]])"
            ]
          },
          "execution_count": 66,
          "metadata": {},
          "output_type": "execute_result"
        }
      ],
      "source": [
        "arr2[0].reshape((1, 2))"
      ]
    },
    {
      "cell_type": "code",
      "execution_count": 67,
      "metadata": {
        "colab": {
          "base_uri": "https://localhost:8080/"
        },
        "id": "Mh_OJr-buo_W",
        "outputId": "92d86a47-3bd5-4f99-da6c-4203b0440b63"
      },
      "outputs": [
        {
          "data": {
            "text/plain": [
              "array([[0, 2],\n",
              "       [2, 4],\n",
              "       [4, 6]])"
            ]
          },
          "execution_count": 67,
          "metadata": {},
          "output_type": "execute_result"
        }
      ],
      "source": [
        "arr1 + arr2[0].reshape((1, 2)) # (3, 2) + (1, 2)"
      ]
    },
    {
      "cell_type": "code",
      "execution_count": 68,
      "metadata": {
        "colab": {
          "base_uri": "https://localhost:8080/"
        },
        "id": "CjJhZVV0uvW1",
        "outputId": "eca60234-5385-4694-b6d8-f6a1f61b8abf"
      },
      "outputs": [
        {
          "data": {
            "text/plain": [
              "array([[0],\n",
              "       [2],\n",
              "       [4]])"
            ]
          },
          "execution_count": 68,
          "metadata": {},
          "output_type": "execute_result"
        }
      ],
      "source": [
        "arr2[:, 0].reshape((3, 1))"
      ]
    },
    {
      "cell_type": "code",
      "execution_count": 69,
      "metadata": {
        "colab": {
          "base_uri": "https://localhost:8080/"
        },
        "id": "pi1IdIxvvBP5",
        "outputId": "5ab894c0-70df-42aa-84af-9031c8abec8f"
      },
      "outputs": [
        {
          "data": {
            "text/plain": [
              "array([[0, 1],\n",
              "       [4, 5],\n",
              "       [8, 9]])"
            ]
          },
          "execution_count": 69,
          "metadata": {},
          "output_type": "execute_result"
        }
      ],
      "source": [
        "arr1 + arr2[:, 0].reshape((3, 1)) # (3, 2) + (3, 1)"
      ]
    },
    {
      "cell_type": "code",
      "execution_count": 70,
      "metadata": {
        "colab": {
          "base_uri": "https://localhost:8080/"
        },
        "id": "7sbIPHp8vF9S",
        "outputId": "580d97c7-a4fb-4386-d36c-109d7b69c5e2"
      },
      "outputs": [
        {
          "data": {
            "text/plain": [
              "array([[1, 2],\n",
              "       [3, 4],\n",
              "       [5, 6]])"
            ]
          },
          "execution_count": 70,
          "metadata": {},
          "output_type": "execute_result"
        }
      ],
      "source": [
        "arr1 + 1"
      ]
    },
    {
      "cell_type": "code",
      "execution_count": 71,
      "metadata": {
        "id": "A227CltQvQbI"
      },
      "outputs": [],
      "source": [
        "arr1 = np.arange(24).reshape((2, 3, 4))"
      ]
    },
    {
      "cell_type": "code",
      "execution_count": 72,
      "metadata": {
        "colab": {
          "base_uri": "https://localhost:8080/"
        },
        "id": "DiC-4h6uvXBa",
        "outputId": "585dc6f1-07fe-40ee-82b9-b7a5adf4fd69"
      },
      "outputs": [
        {
          "data": {
            "text/plain": [
              "array([[[ 0,  1,  2,  3],\n",
              "        [ 4,  5,  6,  7],\n",
              "        [ 8,  9, 10, 11]],\n",
              "\n",
              "       [[12, 13, 14, 15],\n",
              "        [16, 17, 18, 19],\n",
              "        [20, 21, 22, 23]]])"
            ]
          },
          "execution_count": 72,
          "metadata": {},
          "output_type": "execute_result"
        }
      ],
      "source": [
        "arr1"
      ]
    },
    {
      "cell_type": "code",
      "execution_count": 73,
      "metadata": {
        "id": "8Erkp9HFvXao"
      },
      "outputs": [],
      "source": [
        "arr2 = np.ones((1, 4))"
      ]
    },
    {
      "cell_type": "code",
      "execution_count": 74,
      "metadata": {
        "colab": {
          "base_uri": "https://localhost:8080/"
        },
        "id": "2LtMmF9_vbqe",
        "outputId": "2a4a80d7-7e19-4311-81d4-b23671544642"
      },
      "outputs": [
        {
          "data": {
            "text/plain": [
              "array([[[ 1.,  2.,  3.,  4.],\n",
              "        [ 5.,  6.,  7.,  8.],\n",
              "        [ 9., 10., 11., 12.]],\n",
              "\n",
              "       [[13., 14., 15., 16.],\n",
              "        [17., 18., 19., 20.],\n",
              "        [21., 22., 23., 24.]]])"
            ]
          },
          "execution_count": 74,
          "metadata": {},
          "output_type": "execute_result"
        }
      ],
      "source": [
        "arr1 + arr2   # (2, 3, 4) + (1, 4)"
      ]
    },
    {
      "cell_type": "code",
      "execution_count": 75,
      "metadata": {
        "id": "lUra2PQWvd-w"
      },
      "outputs": [],
      "source": [
        "arr1 = np.arange(4)"
      ]
    },
    {
      "cell_type": "code",
      "execution_count": 76,
      "metadata": {
        "id": "Z3B-NNfcvq8j"
      },
      "outputs": [],
      "source": [
        "arr2 = np.arange(5)"
      ]
    },
    {
      "cell_type": "code",
      "execution_count": 77,
      "metadata": {
        "colab": {
          "base_uri": "https://localhost:8080/"
        },
        "id": "4tz_amtEvsAC",
        "outputId": "3d4a16e0-b6aa-42e4-93d3-3faedbed7301"
      },
      "outputs": [
        {
          "name": "stdout",
          "output_type": "stream",
          "text": [
            "(4,) (5,)\n"
          ]
        }
      ],
      "source": [
        "print(arr1.shape, arr2.shape)"
      ]
    },
    {
      "cell_type": "code",
      "execution_count": 78,
      "metadata": {
        "colab": {
          "base_uri": "https://localhost:8080/",
          "height": 176
        },
        "id": "MOuOt1knvtop",
        "outputId": "d47ef7a8-a3cd-41e6-c1ed-117ba858481d"
      },
      "outputs": [
        {
          "ename": "ValueError",
          "evalue": "operands could not be broadcast together with shapes (4,) (5,) ",
          "output_type": "error",
          "traceback": [
            "\u001b[1;31m---------------------------------------------------------------------------\u001b[0m",
            "\u001b[1;31mValueError\u001b[0m                                Traceback (most recent call last)",
            "Cell \u001b[1;32mIn[78], line 1\u001b[0m\n\u001b[1;32m----> 1\u001b[0m \u001b[43marr1\u001b[49m\u001b[43m \u001b[49m\u001b[38;5;241;43m+\u001b[39;49m\u001b[43m \u001b[49m\u001b[43marr2\u001b[49m\n",
            "\u001b[1;31mValueError\u001b[0m: operands could not be broadcast together with shapes (4,) (5,) "
          ]
        }
      ],
      "source": [
        "arr1 + arr2"
      ]
    },
    {
      "cell_type": "code",
      "execution_count": 79,
      "metadata": {
        "colab": {
          "base_uri": "https://localhost:8080/"
        },
        "id": "YZB9f0iB2dJ_",
        "outputId": "26c8c401-ff6b-4fa9-961f-0bb7b66ad80d"
      },
      "outputs": [
        {
          "data": {
            "text/plain": [
              "(array([0, 1, 2, 3]),\n",
              " array([[0],\n",
              "        [1],\n",
              "        [2],\n",
              "        [3]]),\n",
              " array([0, 1, 2, 3, 4]))"
            ]
          },
          "execution_count": 79,
          "metadata": {},
          "output_type": "execute_result"
        }
      ],
      "source": [
        "arr1, arr1.reshape(4, 1), arr2"
      ]
    },
    {
      "cell_type": "code",
      "execution_count": 80,
      "metadata": {
        "colab": {
          "base_uri": "https://localhost:8080/"
        },
        "id": "96hmWV1rvun3",
        "outputId": "7d92aabd-2f50-4ba4-c8e2-8b93a0b7d780"
      },
      "outputs": [
        {
          "data": {
            "text/plain": [
              "array([[0, 1, 2, 3, 4],\n",
              "       [1, 2, 3, 4, 5],\n",
              "       [2, 3, 4, 5, 6],\n",
              "       [3, 4, 5, 6, 7]])"
            ]
          },
          "execution_count": 80,
          "metadata": {},
          "output_type": "execute_result"
        }
      ],
      "source": [
        "arr1.reshape(4, 1) + arr2  # (4, 1) + (5)"
      ]
    },
    {
      "cell_type": "code",
      "execution_count": 88,
      "metadata": {
        "id": "KuXYtTzFv5jX"
      },
      "outputs": [],
      "source": [
        "arr = np.random.randint(0, 100, (2, 3))"
      ]
    },
    {
      "cell_type": "code",
      "execution_count": 89,
      "metadata": {
        "colab": {
          "base_uri": "https://localhost:8080/"
        },
        "id": "1tDchCAZwEqA",
        "outputId": "03251eb5-3334-40c2-e9ed-579bbb577307"
      },
      "outputs": [
        {
          "data": {
            "text/plain": [
              "array([[68, 40, 11],\n",
              "       [64, 66, 54]])"
            ]
          },
          "execution_count": 89,
          "metadata": {},
          "output_type": "execute_result"
        }
      ],
      "source": [
        "arr"
      ]
    },
    {
      "cell_type": "code",
      "execution_count": 90,
      "metadata": {
        "colab": {
          "base_uri": "https://localhost:8080/"
        },
        "id": "d8Z9SZFkwL8p",
        "outputId": "4db3d221-a2c1-4f30-86dc-edbe8d836578"
      },
      "outputs": [
        {
          "data": {
            "text/plain": [
              "array([[68, 64],\n",
              "       [40, 66],\n",
              "       [11, 54]])"
            ]
          },
          "execution_count": 90,
          "metadata": {},
          "output_type": "execute_result"
        }
      ],
      "source": [
        "arr.T"
      ]
    },
    {
      "cell_type": "code",
      "execution_count": 91,
      "metadata": {
        "id": "MtADG-X50jmk"
      },
      "outputs": [],
      "source": [
        "arr1 = np.random.rand(1000, 10)\n",
        "arr2 = np.random.rand(2000, 5)\n",
        "arr3 = np.random.rand(20, 10000)"
      ]
    },
    {
      "cell_type": "code",
      "execution_count": 92,
      "metadata": {
        "id": "dEUfEAEx1DWz"
      },
      "outputs": [],
      "source": [
        "np.savez(\"many_arrs\", arr1, arr2, arr3)"
      ]
    },
    {
      "cell_type": "markdown",
      "metadata": {},
      "source": [
        "There might be some issues/error that can occure while running this part of the code in windows system"
      ]
    },
    {
      "cell_type": "markdown",
      "metadata": {},
      "source": [
        "Use `!` for running in linux, in windows only cmd works fine."
      ]
    },
    {
      "cell_type": "code",
      "execution_count": 97,
      "metadata": {},
      "outputs": [
        {
          "data": {
            "text/plain": [
              "'c:\\\\Users\\\\Asus\\\\git_workspce\\\\Python101\\\\ML and DL\\\\0-Frameworks'"
            ]
          },
          "execution_count": 97,
          "metadata": {},
          "output_type": "execute_result"
        }
      ],
      "source": [
        "pwd"
      ]
    },
    {
      "cell_type": "code",
      "execution_count": 109,
      "metadata": {
        "colab": {
          "base_uri": "https://localhost:8080/"
        },
        "id": "FB_bW0FJ1Len",
        "outputId": "f47fc0b4-d0d0-4d45-f52e-5e20a41f349e"
      },
      "outputs": [
        {
          "name": "stdout",
          "output_type": "stream",
          "text": [
            " Volume in drive C is OS\n",
            " Volume Serial Number is 6AFC-1026\n",
            "\n",
            " Directory of c:\\Users\\Asus\\git_workspce\\Python101\\ML and DL\\0-Frameworks\n",
            "\n",
            "02/11/2024  02:10 PM    <DIR>          .\n",
            "02/11/2024  02:09 AM    <DIR>          ..\n",
            "02/11/2024  02:06 PM         1,760,748 many_arrs.npz\n",
            "02/11/2024  02:10 PM         1,660,305 many_arrs_compressed.npz\n",
            "02/11/2024  01:56 PM    <DIR>          Nifty_csv_files-200628-122439\n",
            "02/11/2024  02:12 PM           128,935 numpy-basics.ipynb\n",
            "02/11/2024  01:52 PM           223,588 pandas-basics.ipynb\n",
            "02/11/2024  02:09 AM    <DIR>          PyTorch\n",
            "02/11/2024  02:09 AM    <DIR>          TensorFlow\n",
            "               4 File(s)      3,773,576 bytes\n",
            "               5 Dir(s)  188,934,619,136 bytes free\n"
          ]
        }
      ],
      "source": [
        "ls"
      ]
    },
    {
      "cell_type": "code",
      "execution_count": 107,
      "metadata": {},
      "outputs": [
        {
          "name": "stderr",
          "output_type": "stream",
          "text": [
            "'Get-ChildItem' is not recognized as an internal or external command,\n",
            "operable program or batch file.\n"
          ]
        }
      ],
      "source": [
        "!Get-ChildItem"
      ]
    },
    {
      "cell_type": "code",
      "execution_count": 94,
      "metadata": {
        "id": "fOaw1-_L1PSU"
      },
      "outputs": [],
      "source": [
        "arrs = np.load('many_arrs.npz')"
      ]
    },
    {
      "cell_type": "code",
      "execution_count": 99,
      "metadata": {
        "colab": {
          "base_uri": "https://localhost:8080/"
        },
        "id": "ve6dry5I1ZrS",
        "outputId": "48210f20-2024-459b-b5aa-7287e5360415"
      },
      "outputs": [
        {
          "name": "stdout",
          "output_type": "stream",
          "text": [
            "<class 'numpy.lib.npyio.NpzFile'>\n"
          ]
        }
      ],
      "source": [
        "print(type(arrs))"
      ]
    },
    {
      "cell_type": "code",
      "execution_count": 100,
      "metadata": {
        "colab": {
          "base_uri": "https://localhost:8080/"
        },
        "id": "g475ICO91bJc",
        "outputId": "40fd20cb-5688-42d5-fa09-bdd8f2f71422"
      },
      "outputs": [
        {
          "data": {
            "text/plain": [
              "['arr_0', 'arr_1', 'arr_2']"
            ]
          },
          "execution_count": 100,
          "metadata": {},
          "output_type": "execute_result"
        }
      ],
      "source": [
        "arrs.files"
      ]
    },
    {
      "cell_type": "code",
      "execution_count": 101,
      "metadata": {
        "colab": {
          "base_uri": "https://localhost:8080/"
        },
        "id": "W-b8rSDM1ev2",
        "outputId": "e8f8e775-e597-4f7a-cfe5-5094d6bb3fbd"
      },
      "outputs": [
        {
          "data": {
            "text/plain": [
              "(1000, 10)"
            ]
          },
          "execution_count": 101,
          "metadata": {},
          "output_type": "execute_result"
        }
      ],
      "source": [
        "arrs['arr_0'].shape"
      ]
    },
    {
      "cell_type": "code",
      "execution_count": 102,
      "metadata": {
        "id": "An_y_y8I1jV7"
      },
      "outputs": [],
      "source": [
        "np.savez_compressed('many_arrs_compressed',\n",
        "                    arr1, arr2, arr3)"
      ]
    },
    {
      "cell_type": "code",
      "execution_count": 104,
      "metadata": {
        "colab": {
          "base_uri": "https://localhost:8080/"
        },
        "id": "LPXQgdsL1zMs",
        "outputId": "caaf9e17-fb24-4e2d-8b09-a3d36a29271c"
      },
      "outputs": [
        {
          "name": "stdout",
          "output_type": "stream",
          "text": [
            " Volume in drive C is OS\n",
            " Volume Serial Number is 6AFC-1026\n",
            "\n",
            " Directory of c:\\Users\\Asus\\git_workspce\\Python101\\ML and DL\\0-Frameworks\n",
            "\n",
            "02/11/2024  02:10 PM    <DIR>          .\n",
            "02/11/2024  02:09 AM    <DIR>          ..\n",
            "02/11/2024  02:06 PM         1,760,748 many_arrs.npz\n",
            "02/11/2024  02:10 PM         1,660,305 many_arrs_compressed.npz\n",
            "02/11/2024  01:56 PM    <DIR>          Nifty_csv_files-200628-122439\n",
            "02/11/2024  02:10 PM           128,148 numpy-basics.ipynb\n",
            "02/11/2024  01:52 PM           223,588 pandas-basics.ipynb\n",
            "02/11/2024  02:09 AM    <DIR>          PyTorch\n",
            "02/11/2024  02:09 AM    <DIR>          TensorFlow\n",
            "               4 File(s)      3,772,789 bytes\n",
            "               5 Dir(s)  188,943,450,112 bytes free\n"
          ]
        }
      ],
      "source": [
        "ls"
      ]
    },
    {
      "cell_type": "code",
      "execution_count": null,
      "metadata": {
        "id": "skZNUe7910lu"
      },
      "outputs": [],
      "source": [
        "arr1 = np.zeros((10000, 10000))"
      ]
    },
    {
      "cell_type": "code",
      "execution_count": null,
      "metadata": {
        "id": "Xupl4oo8185T"
      },
      "outputs": [],
      "source": [
        "np.savez(\"zeros\", arr1)"
      ]
    },
    {
      "cell_type": "code",
      "execution_count": null,
      "metadata": {
        "id": "p9V0ZIfr1_cq"
      },
      "outputs": [],
      "source": [
        "np.savez_compressed(\"zeros_compressed\", arr1)"
      ]
    },
    {
      "cell_type": "code",
      "execution_count": null,
      "metadata": {
        "colab": {
          "base_uri": "https://localhost:8080/"
        },
        "id": "rie8a-n92C25",
        "outputId": "f0f8520f-2a0a-4e22-ce8a-37e42865c12f"
      },
      "outputs": [
        {
          "name": "stdout",
          "output_type": "stream",
          "text": [
            "total 767M\n",
            "-rw-r--r-- 1 root root 1.6M Jan 28 07:40 many_arrs_compressed.npz\n",
            "-rw-r--r-- 1 root root 1.7M Jan 28 07:40 many_arrs.npz\n",
            "-rw-r--r-- 1 root root 1.6K Jan 28 07:40 planets_new.npy\n",
            "-rw-r--r-- 1 root root 4.5K Jan 28 07:40 planets_new.txt\n",
            "-rw-r--r-- 1 root root  254 Jan 28 07:38 planets_small.txt\n",
            "-rw-r--r-- 1 root root 1.5K Jan 28 07:40 planets.txt\n",
            "drwxr-xr-x 1 root root 4.0K Jan 20 17:27 sample_data\n",
            "-rw-r--r-- 1 root root 760K Jan 28 07:41 zeros_compressed.npz\n",
            "-rw-r--r-- 1 root root 763M Jan 28 07:40 zeros.npz\n"
          ]
        }
      ],
      "source": [
        "!ls -lh"
      ]
    },
    {
      "cell_type": "markdown",
      "metadata": {
        "id": "Gbx0S1afv7J4"
      },
      "source": [
        "# Stats with NumPy"
      ]
    },
    {
      "cell_type": "code",
      "execution_count": 110,
      "metadata": {
        "id": "hzPZnj7xv8LH"
      },
      "outputs": [],
      "source": [
        "arr = np.random.rand(10000000,)"
      ]
    },
    {
      "cell_type": "code",
      "execution_count": 111,
      "metadata": {
        "colab": {
          "base_uri": "https://localhost:8080/"
        },
        "id": "sjOiUCIswBsF",
        "outputId": "1d542025-28e5-431a-82fb-e1fc03715ff5"
      },
      "outputs": [
        {
          "data": {
            "text/plain": [
              "2.9275394286543133e-07"
            ]
          },
          "execution_count": 111,
          "metadata": {},
          "output_type": "execute_result"
        }
      ],
      "source": [
        "np.amin(arr)"
      ]
    },
    {
      "cell_type": "code",
      "execution_count": 112,
      "metadata": {
        "colab": {
          "base_uri": "https://localhost:8080/"
        },
        "id": "pJzrvQk6wIBI",
        "outputId": "96fb6636-a971-40d9-8f19-84255a4b2841"
      },
      "outputs": [
        {
          "data": {
            "text/plain": [
              "0.9999999609981249"
            ]
          },
          "execution_count": 112,
          "metadata": {},
          "output_type": "execute_result"
        }
      ],
      "source": [
        "np.amax(arr)"
      ]
    },
    {
      "cell_type": "code",
      "execution_count": 113,
      "metadata": {
        "colab": {
          "base_uri": "https://localhost:8080/"
        },
        "id": "Utj3RY5MwLcd",
        "outputId": "8c0cadad-e0d7-460a-85c9-7f3ec5974163"
      },
      "outputs": [
        {
          "data": {
            "text/plain": [
              "0.4997794120579105"
            ]
          },
          "execution_count": 113,
          "metadata": {},
          "output_type": "execute_result"
        }
      ],
      "source": [
        "np.mean(arr)"
      ]
    },
    {
      "cell_type": "code",
      "execution_count": 114,
      "metadata": {
        "colab": {
          "base_uri": "https://localhost:8080/"
        },
        "id": "QpiM58TDwPsM",
        "outputId": "7279c8f9-249b-4aba-93da-49221115d934"
      },
      "outputs": [
        {
          "data": {
            "text/plain": [
              "0.08332045239138795"
            ]
          },
          "execution_count": 114,
          "metadata": {},
          "output_type": "execute_result"
        }
      ],
      "source": [
        "np.var(arr)"
      ]
    },
    {
      "cell_type": "code",
      "execution_count": 115,
      "metadata": {
        "colab": {
          "base_uri": "https://localhost:8080/"
        },
        "id": "tPqPqG03wTSC",
        "outputId": "56be7711-f3d0-4437-cf4b-93018acc0e86"
      },
      "outputs": [
        {
          "data": {
            "text/plain": [
              "0.2886528232867088"
            ]
          },
          "execution_count": 115,
          "metadata": {},
          "output_type": "execute_result"
        }
      ],
      "source": [
        "np.std(arr)"
      ]
    },
    {
      "cell_type": "code",
      "execution_count": 116,
      "metadata": {
        "colab": {
          "base_uri": "https://localhost:8080/"
        },
        "id": "zhwze9MnwUqC",
        "outputId": "2a50cfcf-7fdf-4f0f-ce8d-9508eb4e1c4c"
      },
      "outputs": [
        {
          "data": {
            "text/plain": [
              "0.4996992323292907"
            ]
          },
          "execution_count": 116,
          "metadata": {},
          "output_type": "execute_result"
        }
      ],
      "source": [
        "np.median(arr)"
      ]
    },
    {
      "cell_type": "code",
      "execution_count": 117,
      "metadata": {
        "colab": {
          "base_uri": "https://localhost:8080/"
        },
        "id": "DGHAXp1UwYpe",
        "outputId": "afc8569b-ba08-414c-c9e2-3ce451bd07ac"
      },
      "outputs": [
        {
          "data": {
            "text/plain": [
              "0.4996992323292907"
            ]
          },
          "execution_count": 117,
          "metadata": {},
          "output_type": "execute_result"
        }
      ],
      "source": [
        "np.percentile(arr, 50)"
      ]
    },
    {
      "cell_type": "code",
      "execution_count": 118,
      "metadata": {
        "colab": {
          "base_uri": "https://localhost:8080/"
        },
        "id": "hz4lmGUJwdSD",
        "outputId": "8140c9c5-a16d-4110-fb49-83c302190eb1"
      },
      "outputs": [
        {
          "data": {
            "text/plain": [
              "0.09999960099137245"
            ]
          },
          "execution_count": 118,
          "metadata": {},
          "output_type": "execute_result"
        }
      ],
      "source": [
        "np.percentile(arr, 10)"
      ]
    },
    {
      "cell_type": "code",
      "execution_count": 119,
      "metadata": {
        "colab": {
          "base_uri": "https://localhost:8080/"
        },
        "id": "dnIG-AJJwfdU",
        "outputId": "efe02abb-658c-417c-fadd-78d1c06141d1"
      },
      "outputs": [
        {
          "data": {
            "text/plain": [
              "0.8998660526330109"
            ]
          },
          "execution_count": 119,
          "metadata": {},
          "output_type": "execute_result"
        }
      ],
      "source": [
        "np.percentile(arr, 90)"
      ]
    },
    {
      "cell_type": "code",
      "execution_count": null,
      "metadata": {
        "colab": {
          "base_uri": "https://localhost:8080/"
        },
        "id": "dGK2Nv5hwgfm",
        "outputId": "38506e53-a6ae-4f59-f407-5fe07e12984a"
      },
      "outputs": [
        {
          "name": "stdout",
          "output_type": "stream",
          "text": [
            "CPU times: user 312 ms, sys: 22.8 ms, total: 334 ms\n",
            "Wall time: 338 ms\n"
          ]
        }
      ],
      "source": [
        "%%time\n",
        "iqr = np.percentile(arr, 75) - np.percentile(arr, 25)"
      ]
    },
    {
      "cell_type": "code",
      "execution_count": null,
      "metadata": {
        "colab": {
          "base_uri": "https://localhost:8080/"
        },
        "id": "WPiwXBeGwqbw",
        "outputId": "4b15247b-11ee-40da-e439-874ad0f78d60"
      },
      "outputs": [
        {
          "name": "stdout",
          "output_type": "stream",
          "text": [
            "0.5000250053597051\n"
          ]
        }
      ],
      "source": [
        "print(iqr)"
      ]
    },
    {
      "cell_type": "code",
      "execution_count": null,
      "metadata": {
        "colab": {
          "base_uri": "https://localhost:8080/"
        },
        "id": "v523FMvSws4N",
        "outputId": "8deb9b90-ecb2-4b5d-85af-7a623ac9507f"
      },
      "outputs": [
        {
          "name": "stdout",
          "output_type": "stream",
          "text": [
            "CPU times: user 218 ms, sys: 9.83 ms, total: 228 ms\n",
            "Wall time: 229 ms\n"
          ]
        }
      ],
      "source": [
        "%%time\n",
        "quartiles = np.percentile(arr, [25, 75])\n",
        "iqr = quartiles[1] - quartiles[0]"
      ]
    },
    {
      "cell_type": "code",
      "execution_count": null,
      "metadata": {
        "colab": {
          "base_uri": "https://localhost:8080/"
        },
        "id": "0A3eBFSlxA0k",
        "outputId": "ce29819f-4565-4a14-d4d1-0b30708ebae1"
      },
      "outputs": [
        {
          "name": "stdout",
          "output_type": "stream",
          "text": [
            "[0.24994135 0.74996636]\n"
          ]
        }
      ],
      "source": [
        "print(quartiles)"
      ]
    },
    {
      "cell_type": "code",
      "execution_count": null,
      "metadata": {
        "colab": {
          "base_uri": "https://localhost:8080/"
        },
        "id": "vSFKMczcxFHM",
        "outputId": "20605313-f9b0-4f4e-cbec-ad415b496dbc"
      },
      "outputs": [
        {
          "name": "stdout",
          "output_type": "stream",
          "text": [
            "0.5000250053597051\n"
          ]
        }
      ],
      "source": [
        "print(iqr)"
      ]
    },
    {
      "cell_type": "code",
      "execution_count": null,
      "metadata": {
        "colab": {
          "base_uri": "https://localhost:8080/"
        },
        "id": "JovlaD8wxGGA",
        "outputId": "53e1baf2-17ec-4a47-f1d3-938e9e58442a"
      },
      "outputs": [
        {
          "data": {
            "text/plain": [
              "array([1.3953378 , 1.55811402, 0.6807386 , ..., 0.11279645, 0.19159941,\n",
              "       0.14672662])"
            ]
          },
          "execution_count": 166,
          "metadata": {
            "tags": []
          },
          "output_type": "execute_result"
        }
      ],
      "source": [
        "(arr - np.mean(arr))/np.std(arr)"
      ]
    },
    {
      "cell_type": "code",
      "execution_count": null,
      "metadata": {
        "colab": {
          "base_uri": "https://localhost:8080/"
        },
        "id": "zcEfRhZgxhuv",
        "outputId": "ddb5f241-b60b-4b26-d103-7734c9c7d0ac"
      },
      "outputs": [
        {
          "data": {
            "text/plain": [
              "(array([1000095,  999963, 1001651,  998355,  999374,  999758, 1000584,\n",
              "        1000603,  998832, 1000785]),\n",
              " array([1.90226128e-08, 1.00000014e-01, 2.00000010e-01, 3.00000005e-01,\n",
              "        4.00000000e-01, 4.99999995e-01, 5.99999991e-01, 6.99999986e-01,\n",
              "        7.99999981e-01, 8.99999976e-01, 9.99999972e-01]))"
            ]
          },
          "execution_count": 167,
          "metadata": {
            "tags": []
          },
          "output_type": "execute_result"
        }
      ],
      "source": [
        "np.histogram(arr)"
      ]
    },
    {
      "cell_type": "code",
      "execution_count": null,
      "metadata": {
        "colab": {
          "base_uri": "https://localhost:8080/"
        },
        "id": "LwtxZSn9xruv",
        "outputId": "3d59277a-9514-4dcb-fe00-028fbf554fb3"
      },
      "outputs": [
        {
          "data": {
            "text/plain": [
              "(array([2000058, 2000006, 1999132, 2001187, 1999617]),\n",
              " array([1.90226128e-08, 2.00000010e-01, 4.00000000e-01, 5.99999991e-01,\n",
              "        7.99999981e-01, 9.99999972e-01]))"
            ]
          },
          "execution_count": 168,
          "metadata": {
            "tags": []
          },
          "output_type": "execute_result"
        }
      ],
      "source": [
        "np.histogram(arr, bins=5)"
      ]
    },
    {
      "cell_type": "code",
      "execution_count": null,
      "metadata": {
        "colab": {
          "base_uri": "https://localhost:8080/"
        },
        "id": "iTcZBG51x45W",
        "outputId": "7264f16c-1558-4744-ebe4-488fb67c8111"
      },
      "outputs": [
        {
          "data": {
            "text/plain": [
              "(array([2500619, 2498819, 2500899, 2499663]),\n",
              " array([0.  , 0.25, 0.5 , 0.75, 1.  ]))"
            ]
          },
          "execution_count": 169,
          "metadata": {
            "tags": []
          },
          "output_type": "execute_result"
        }
      ],
      "source": [
        "np.histogram(arr, bins=[0, 0.25, 0.5, 0.75, 1])"
      ]
    },
    {
      "cell_type": "code",
      "execution_count": null,
      "metadata": {
        "id": "U0XTmMKix-Qi"
      },
      "outputs": [],
      "source": [
        "bins = [0, 0.25, 0.5, 0.75, 1]"
      ]
    },
    {
      "cell_type": "code",
      "execution_count": null,
      "metadata": {
        "colab": {
          "base_uri": "https://localhost:8080/"
        },
        "id": "iDus-okdyG16",
        "outputId": "3110560f-20b2-476d-be68-c648759a24a7"
      },
      "outputs": [
        {
          "data": {
            "text/plain": [
              "array([4, 4, 3, ..., 3, 3, 3])"
            ]
          },
          "execution_count": 171,
          "metadata": {
            "tags": []
          },
          "output_type": "execute_result"
        }
      ],
      "source": [
        "np.digitize(arr, bins)"
      ]
    },
    {
      "cell_type": "code",
      "execution_count": null,
      "metadata": {
        "id": "3incboaHyIfV"
      },
      "outputs": [],
      "source": [
        "arr1 = np.random.randint(0, 10, (10))"
      ]
    },
    {
      "cell_type": "code",
      "execution_count": null,
      "metadata": {
        "colab": {
          "base_uri": "https://localhost:8080/"
        },
        "id": "zV79sa7tyTS0",
        "outputId": "6801313f-f063-4248-a00e-9798a0ebe38f"
      },
      "outputs": [
        {
          "data": {
            "text/plain": [
              "array([6, 7, 8, 5, 5, 1, 7, 6, 4, 4])"
            ]
          },
          "execution_count": 173,
          "metadata": {
            "tags": []
          },
          "output_type": "execute_result"
        }
      ],
      "source": [
        "arr1"
      ]
    },
    {
      "cell_type": "code",
      "execution_count": null,
      "metadata": {
        "id": "h9HV9Q8RyT5Y"
      },
      "outputs": [],
      "source": [
        "bins = [0, 6, 10]"
      ]
    },
    {
      "cell_type": "code",
      "execution_count": null,
      "metadata": {
        "colab": {
          "base_uri": "https://localhost:8080/"
        },
        "id": "VTzSC80uyXq0",
        "outputId": "2e55067f-b64e-48c4-e384-5555f41a1a3b"
      },
      "outputs": [
        {
          "data": {
            "text/plain": [
              "array([2, 2, 2, 1, 1, 1, 2, 2, 1, 1])"
            ]
          },
          "execution_count": 175,
          "metadata": {
            "tags": []
          },
          "output_type": "execute_result"
        }
      ],
      "source": [
        "np.digitize(arr1, bins)"
      ]
    },
    {
      "cell_type": "code",
      "execution_count": null,
      "metadata": {
        "colab": {
          "base_uri": "https://localhost:8080/"
        },
        "id": "VhJZ7RpRyY9R",
        "outputId": "3c4d136f-5397-4199-f4d5-9fe69777ed5a"
      },
      "outputs": [
        {
          "data": {
            "text/plain": [
              "array([1, 2, 2, 1, 1, 1, 2, 1, 1, 1])"
            ]
          },
          "execution_count": 176,
          "metadata": {
            "tags": []
          },
          "output_type": "execute_result"
        }
      ],
      "source": [
        "np.digitize(arr1, bins, right=True)"
      ]
    },
    {
      "cell_type": "code",
      "execution_count": null,
      "metadata": {
        "id": "2PfKNg2Jylbr"
      },
      "outputs": [],
      "source": [
        "arr1 = np.random.randint(50, 80, 100) # weight"
      ]
    },
    {
      "cell_type": "code",
      "execution_count": null,
      "metadata": {
        "id": "jhNl-W2ny0Qp"
      },
      "outputs": [],
      "source": [
        "arr2 = np.random.randint(150, 185, 100) # heights"
      ]
    },
    {
      "cell_type": "code",
      "execution_count": null,
      "metadata": {
        "id": "0xbdhrDBy4Vx"
      },
      "outputs": [],
      "source": [
        "arr3 = np.random.randint(17, 22, 100) # age"
      ]
    },
    {
      "cell_type": "code",
      "execution_count": null,
      "metadata": {
        "colab": {
          "base_uri": "https://localhost:8080/"
        },
        "id": "1qT2iCgPy7Hq",
        "outputId": "ff108c5e-3629-4ed0-d2a8-71c40667663b"
      },
      "outputs": [
        {
          "data": {
            "text/plain": [
              "(300,)"
            ]
          },
          "execution_count": 180,
          "metadata": {
            "tags": []
          },
          "output_type": "execute_result"
        }
      ],
      "source": [
        "np.concatenate((arr1, arr2, arr3)).shape"
      ]
    },
    {
      "cell_type": "code",
      "execution_count": null,
      "metadata": {
        "colab": {
          "base_uri": "https://localhost:8080/"
        },
        "id": "mBpCCPpCzL_8",
        "outputId": "eba1355a-d5f3-4827-e3af-1ef19ba990b6"
      },
      "outputs": [
        {
          "data": {
            "text/plain": [
              "(3, 100)"
            ]
          },
          "execution_count": 181,
          "metadata": {
            "tags": []
          },
          "output_type": "execute_result"
        }
      ],
      "source": [
        "np.vstack((arr1, arr2, arr3)).shape"
      ]
    },
    {
      "cell_type": "code",
      "execution_count": null,
      "metadata": {
        "id": "WSFsv7K6zcMr"
      },
      "outputs": [],
      "source": [
        "arr2d = np.vstack((arr1, arr2, arr3))"
      ]
    },
    {
      "cell_type": "code",
      "execution_count": null,
      "metadata": {
        "colab": {
          "base_uri": "https://localhost:8080/"
        },
        "id": "TPyLPXI2zkaR",
        "outputId": "17186060-d4b7-4207-a38b-c5095b35d814"
      },
      "outputs": [
        {
          "data": {
            "text/plain": [
              "array([ 50, 150,  17])"
            ]
          },
          "execution_count": 183,
          "metadata": {
            "tags": []
          },
          "output_type": "execute_result"
        }
      ],
      "source": [
        "np.amin(arr2d, axis=1)"
      ]
    },
    {
      "cell_type": "code",
      "execution_count": null,
      "metadata": {
        "colab": {
          "base_uri": "https://localhost:8080/"
        },
        "id": "Gs28beuPzmOo",
        "outputId": "5026525b-2f98-4fd5-ee5f-f3973c12b5b1"
      },
      "outputs": [
        {
          "data": {
            "text/plain": [
              "array([ 79, 184,  21])"
            ]
          },
          "execution_count": 184,
          "metadata": {
            "tags": []
          },
          "output_type": "execute_result"
        }
      ],
      "source": [
        "np.amax(arr2d, axis=1)"
      ]
    },
    {
      "cell_type": "code",
      "execution_count": null,
      "metadata": {
        "colab": {
          "base_uri": "https://localhost:8080/"
        },
        "id": "dOezzskxz-YP",
        "outputId": "35db4522-3bbc-452c-92bf-038ebb2d605a"
      },
      "outputs": [
        {
          "data": {
            "text/plain": [
              "array([ 65.09, 166.73,  18.88])"
            ]
          },
          "execution_count": 185,
          "metadata": {
            "tags": []
          },
          "output_type": "execute_result"
        }
      ],
      "source": [
        "np.mean(arr2d, axis=1)"
      ]
    },
    {
      "cell_type": "markdown",
      "metadata": {
        "id": "VWepKz6S0-6R"
      },
      "source": [
        "# Checking stats rules with numpy"
      ]
    },
    {
      "cell_type": "markdown",
      "metadata": {
        "id": "V4H98xu21BC5"
      },
      "source": [
        "## Mean subracted array has zero mean"
      ]
    },
    {
      "cell_type": "code",
      "execution_count": 120,
      "metadata": {
        "id": "318AUnPqz_w4"
      },
      "outputs": [],
      "source": [
        "arr = np.random.rand(1000)"
      ]
    },
    {
      "cell_type": "code",
      "execution_count": 121,
      "metadata": {
        "id": "kENdl4Xi1UGF"
      },
      "outputs": [],
      "source": [
        "mean = np.mean(arr)"
      ]
    },
    {
      "cell_type": "code",
      "execution_count": 122,
      "metadata": {
        "id": "GRbvx9nh1WKE"
      },
      "outputs": [],
      "source": [
        "arr1 = arr - mean"
      ]
    },
    {
      "cell_type": "code",
      "execution_count": 123,
      "metadata": {
        "colab": {
          "base_uri": "https://localhost:8080/"
        },
        "id": "Dzxf2YGB1XrF",
        "outputId": "fde87862-8318-430b-9145-94ac7628c036"
      },
      "outputs": [
        {
          "data": {
            "text/plain": [
              "1.5987211554602253e-17"
            ]
          },
          "execution_count": 123,
          "metadata": {},
          "output_type": "execute_result"
        }
      ],
      "source": [
        "np.mean(arr1)"
      ]
    },
    {
      "cell_type": "markdown",
      "metadata": {
        "id": "oFy2ji-A1oAn"
      },
      "source": [
        "## Computing mean with smaller set of values"
      ]
    },
    {
      "cell_type": "code",
      "execution_count": 124,
      "metadata": {
        "id": "w2q417Zw1Y39"
      },
      "outputs": [],
      "source": [
        "arr = np.random.rand(1000)"
      ]
    },
    {
      "cell_type": "code",
      "execution_count": 125,
      "metadata": {
        "colab": {
          "base_uri": "https://localhost:8080/"
        },
        "id": "jqKIWVik1yV7",
        "outputId": "b6e05408-d038-4760-e080-0c8082f058d9"
      },
      "outputs": [
        {
          "name": "stdout",
          "output_type": "stream",
          "text": [
            "1 0.40238512987810704\n",
            "2 0.4780157456847392\n",
            "3 0.43959234436036426\n",
            "4 0.49957613034033765\n",
            "5 0.5640149398471659\n",
            "6 0.5381273128759755\n",
            "7 0.4652118983451515\n",
            "8 0.48138574148586316\n",
            "9 0.4760980767460482\n",
            "10 0.5170438847228745\n",
            "11 0.5347060560987497\n",
            "12 0.49833428903096183\n",
            "13 0.46051669739247764\n",
            "14 0.46519121852452044\n",
            "15 0.4958451447992305\n",
            "16 0.5159357430776683\n",
            "17 0.5344263639797882\n",
            "18 0.5085824894912566\n",
            "19 0.5249781352361942\n",
            "20 0.5404358456956871\n",
            "21 0.550484465468954\n",
            "22 0.5487725427592144\n",
            "23 0.5673650172618078\n",
            "24 0.5456462467360369\n",
            "25 0.5412481213138525\n",
            "26 0.5381490484531523\n",
            "27 0.5324411067460958\n",
            "28 0.5241006151054927\n",
            "29 0.5143330535104695\n",
            "30 0.5156735557111412\n",
            "31 0.525394026225104\n",
            "32 0.5199370208362823\n",
            "33 0.5119463017637268\n",
            "34 0.5089119241795955\n",
            "35 0.4985081389162832\n",
            "36 0.5019281622928222\n",
            "37 0.49083343252173156\n",
            "38 0.4817783114663395\n",
            "39 0.4884341078313268\n",
            "40 0.49003850117088826\n",
            "41 0.48901572016056805\n",
            "42 0.5002631113870416\n",
            "43 0.49107080041069384\n",
            "44 0.5012309974734048\n",
            "45 0.5102473582475079\n",
            "46 0.5093439884182512\n",
            "47 0.5090596874840218\n",
            "48 0.5019494013271614\n",
            "49 0.5121108050673996\n"
          ]
        }
      ],
      "source": [
        "for k in range(1, 50):\n",
        "    arr1 = arr[0:k]\n",
        "    print(k, np.mean(arr1))"
      ]
    },
    {
      "cell_type": "code",
      "execution_count": 126,
      "metadata": {
        "id": "d-Oo2bb92TZL"
      },
      "outputs": [
        {
          "name": "stdout",
          "output_type": "stream",
          "text": [
            "\u001b[1;31mSignature:\u001b[0m \u001b[0mnp\u001b[0m\u001b[1;33m.\u001b[0m\u001b[0mcumsum\u001b[0m\u001b[1;33m(\u001b[0m\u001b[0ma\u001b[0m\u001b[1;33m,\u001b[0m \u001b[0maxis\u001b[0m\u001b[1;33m=\u001b[0m\u001b[1;32mNone\u001b[0m\u001b[1;33m,\u001b[0m \u001b[0mdtype\u001b[0m\u001b[1;33m=\u001b[0m\u001b[1;32mNone\u001b[0m\u001b[1;33m,\u001b[0m \u001b[0mout\u001b[0m\u001b[1;33m=\u001b[0m\u001b[1;32mNone\u001b[0m\u001b[1;33m)\u001b[0m\u001b[1;33m\u001b[0m\u001b[1;33m\u001b[0m\u001b[0m\n",
            "\u001b[1;31mDocstring:\u001b[0m\n",
            "Return the cumulative sum of the elements along a given axis.\n",
            "\n",
            "Parameters\n",
            "----------\n",
            "a : array_like\n",
            "    Input array.\n",
            "axis : int, optional\n",
            "    Axis along which the cumulative sum is computed. The default\n",
            "    (None) is to compute the cumsum over the flattened array.\n",
            "dtype : dtype, optional\n",
            "    Type of the returned array and of the accumulator in which the\n",
            "    elements are summed.  If `dtype` is not specified, it defaults\n",
            "    to the dtype of `a`, unless `a` has an integer dtype with a\n",
            "    precision less than that of the default platform integer.  In\n",
            "    that case, the default platform integer is used.\n",
            "out : ndarray, optional\n",
            "    Alternative output array in which to place the result. It must\n",
            "    have the same shape and buffer length as the expected output\n",
            "    but the type will be cast if necessary. See :ref:`ufuncs-output-type` for\n",
            "    more details.\n",
            "\n",
            "Returns\n",
            "-------\n",
            "cumsum_along_axis : ndarray.\n",
            "    A new array holding the result is returned unless `out` is\n",
            "    specified, in which case a reference to `out` is returned. The\n",
            "    result has the same size as `a`, and the same shape as `a` if\n",
            "    `axis` is not None or `a` is a 1-d array.\n",
            "\n",
            "See Also\n",
            "--------\n",
            "sum : Sum array elements.\n",
            "trapz : Integration of array values using the composite trapezoidal rule.\n",
            "diff : Calculate the n-th discrete difference along given axis.\n",
            "\n",
            "Notes\n",
            "-----\n",
            "Arithmetic is modular when using integer types, and no error is\n",
            "raised on overflow.\n",
            "\n",
            "``cumsum(a)[-1]`` may not be equal to ``sum(a)`` for floating-point\n",
            "values since ``sum`` may use a pairwise summation routine, reducing\n",
            "the roundoff-error. See `sum` for more information.\n",
            "\n",
            "Examples\n",
            "--------\n",
            ">>> a = np.array([[1,2,3], [4,5,6]])\n",
            ">>> a\n",
            "array([[1, 2, 3],\n",
            "       [4, 5, 6]])\n",
            ">>> np.cumsum(a)\n",
            "array([ 1,  3,  6, 10, 15, 21])\n",
            ">>> np.cumsum(a, dtype=float)     # specifies type of output value(s)\n",
            "array([  1.,   3.,   6.,  10.,  15.,  21.])\n",
            "\n",
            ">>> np.cumsum(a,axis=0)      # sum over rows for each of the 3 columns\n",
            "array([[1, 2, 3],\n",
            "       [5, 7, 9]])\n",
            ">>> np.cumsum(a,axis=1)      # sum over columns for each of the 2 rows\n",
            "array([[ 1,  3,  6],\n",
            "       [ 4,  9, 15]])\n",
            "\n",
            "``cumsum(b)[-1]`` may not be equal to ``sum(b)``\n",
            "\n",
            ">>> b = np.array([1, 2e-9, 3e-9] * 1000000)\n",
            ">>> b.cumsum()[-1]\n",
            "1000000.0050045159\n",
            ">>> b.sum()\n",
            "1000000.0050000029\n",
            "\u001b[1;31mFile:\u001b[0m      c:\\users\\asus\\miniconda3\\envs\\ml\\lib\\site-packages\\numpy\\core\\fromnumeric.py\n",
            "\u001b[1;31mType:\u001b[0m      function"
          ]
        }
      ],
      "source": [
        "np.cumsum?"
      ]
    },
    {
      "cell_type": "code",
      "execution_count": 127,
      "metadata": {
        "id": "PiaXg9-57NHs"
      },
      "outputs": [],
      "source": [
        "means = np.cumsum(arr)/np.arange(1,1001)"
      ]
    },
    {
      "cell_type": "code",
      "execution_count": 128,
      "metadata": {
        "colab": {
          "base_uri": "https://localhost:8080/"
        },
        "id": "kFnc0ECw7QM4",
        "outputId": "0933fe6b-d947-47fe-8f42-62a2f643acef"
      },
      "outputs": [
        {
          "data": {
            "text/plain": [
              "array([0.40238513, 0.47801575, 0.43959234, 0.49957613, 0.56401494,\n",
              "       0.53812731, 0.4652119 , 0.48138574, 0.47609808, 0.51704388,\n",
              "       0.53470606, 0.49833429, 0.4605167 , 0.46519122, 0.49584514])"
            ]
          },
          "execution_count": 128,
          "metadata": {},
          "output_type": "execute_result"
        }
      ],
      "source": [
        "means[0:15]"
      ]
    },
    {
      "cell_type": "markdown",
      "metadata": {
        "id": "5LoAAMS28NIG"
      },
      "source": [
        "## Effect of outliers on mean and median"
      ]
    },
    {
      "cell_type": "code",
      "execution_count": 129,
      "metadata": {
        "id": "qC4adtFU8KXT"
      },
      "outputs": [],
      "source": [
        "arr = np.random.randint(1, 100, 100)"
      ]
    },
    {
      "cell_type": "code",
      "execution_count": 130,
      "metadata": {
        "colab": {
          "base_uri": "https://localhost:8080/"
        },
        "id": "IneFGRwU8S7H",
        "outputId": "a154e6c7-e160-4215-8756-70f95d720fe3"
      },
      "outputs": [
        {
          "data": {
            "text/plain": [
              "52.18"
            ]
          },
          "execution_count": 130,
          "metadata": {},
          "output_type": "execute_result"
        }
      ],
      "source": [
        "np.mean(arr)"
      ]
    },
    {
      "cell_type": "code",
      "execution_count": 131,
      "metadata": {
        "colab": {
          "base_uri": "https://localhost:8080/"
        },
        "id": "PIiGABZq8Tw8",
        "outputId": "df93bebf-6f84-4a8f-a09a-b4f35e72e18e"
      },
      "outputs": [
        {
          "data": {
            "text/plain": [
              "55.5"
            ]
          },
          "execution_count": 131,
          "metadata": {},
          "output_type": "execute_result"
        }
      ],
      "source": [
        "np.median(arr)"
      ]
    },
    {
      "cell_type": "code",
      "execution_count": 132,
      "metadata": {
        "id": "YIt0WWPh8U2A"
      },
      "outputs": [],
      "source": [
        "arr = np.append(arr, [1000, 2000])"
      ]
    },
    {
      "cell_type": "code",
      "execution_count": 133,
      "metadata": {
        "colab": {
          "base_uri": "https://localhost:8080/"
        },
        "id": "s0yiwz5P8b9N",
        "outputId": "fa32bbca-7fac-4698-9c52-b7d3423abf9e"
      },
      "outputs": [
        {
          "data": {
            "text/plain": [
              "(102,)"
            ]
          },
          "execution_count": 133,
          "metadata": {},
          "output_type": "execute_result"
        }
      ],
      "source": [
        "arr.shape"
      ]
    },
    {
      "cell_type": "code",
      "execution_count": 134,
      "metadata": {
        "colab": {
          "base_uri": "https://localhost:8080/"
        },
        "id": "gU97HqCo8dzZ",
        "outputId": "d9128c9e-abed-4511-ebdd-0a4c9fd4d41f"
      },
      "outputs": [
        {
          "data": {
            "text/plain": [
              "80.56862745098039"
            ]
          },
          "execution_count": 134,
          "metadata": {},
          "output_type": "execute_result"
        }
      ],
      "source": [
        "np.mean(arr)"
      ]
    },
    {
      "cell_type": "code",
      "execution_count": 135,
      "metadata": {
        "colab": {
          "base_uri": "https://localhost:8080/"
        },
        "id": "_3X0E37C8gCu",
        "outputId": "2781cad2-586b-4e1e-99c6-39fd2a37fe8f"
      },
      "outputs": [
        {
          "data": {
            "text/plain": [
              "56.5"
            ]
          },
          "execution_count": 135,
          "metadata": {},
          "output_type": "execute_result"
        }
      ],
      "source": [
        "np.median(arr)"
      ]
    },
    {
      "cell_type": "markdown",
      "metadata": {
        "id": "svLMJcYS8oV1"
      },
      "source": [
        "## Effect of scaling arrays on mean and median"
      ]
    },
    {
      "cell_type": "code",
      "execution_count": 136,
      "metadata": {
        "id": "tVdjlo3v8ibT"
      },
      "outputs": [],
      "source": [
        "arr = np.random.rand(100)"
      ]
    },
    {
      "cell_type": "code",
      "execution_count": 137,
      "metadata": {
        "colab": {
          "base_uri": "https://localhost:8080/"
        },
        "id": "VecKVa0l8vPU",
        "outputId": "c9b3326c-6c45-4c49-bda1-5efa0602cde5"
      },
      "outputs": [
        {
          "data": {
            "text/plain": [
              "0.4938870783981741"
            ]
          },
          "execution_count": 137,
          "metadata": {},
          "output_type": "execute_result"
        }
      ],
      "source": [
        "np.mean(arr)"
      ]
    },
    {
      "cell_type": "code",
      "execution_count": 138,
      "metadata": {
        "colab": {
          "base_uri": "https://localhost:8080/"
        },
        "id": "FjMm5Imq8ww_",
        "outputId": "bdd25b68-d15c-4e92-8311-793e81288d5e"
      },
      "outputs": [
        {
          "data": {
            "text/plain": [
              "0.5187155597835242"
            ]
          },
          "execution_count": 138,
          "metadata": {},
          "output_type": "execute_result"
        }
      ],
      "source": [
        "np.median(arr)"
      ]
    },
    {
      "cell_type": "code",
      "execution_count": 139,
      "metadata": {
        "id": "OL5RcaeM8xXd"
      },
      "outputs": [],
      "source": [
        "arr1 = 2.5 * arr + 0.65"
      ]
    },
    {
      "cell_type": "code",
      "execution_count": 140,
      "metadata": {
        "colab": {
          "base_uri": "https://localhost:8080/"
        },
        "id": "Y32GqKqi83f6",
        "outputId": "60931bc6-f138-4135-f7aa-0743cbb1f1a8"
      },
      "outputs": [
        {
          "name": "stdout",
          "output_type": "stream",
          "text": [
            "1.8847176959954353 1.8847176959954353\n"
          ]
        }
      ],
      "source": [
        "print(np.mean(2.5 * arr + 0.65),\n",
        "      2.5 * np.mean(arr) + 0.65)"
      ]
    },
    {
      "cell_type": "code",
      "execution_count": 141,
      "metadata": {
        "colab": {
          "base_uri": "https://localhost:8080/"
        },
        "id": "jFOv_ciE9A3_",
        "outputId": "48ebf3d5-a2f1-40e7-d628-6f9bec274f70"
      },
      "outputs": [
        {
          "name": "stdout",
          "output_type": "stream",
          "text": [
            "1.9467888994588105 1.9467888994588107\n"
          ]
        }
      ],
      "source": [
        "print(np.median(2.5 * arr + 0.65),\n",
        "      2.5 * np.median(arr) + 0.65)"
      ]
    },
    {
      "cell_type": "code",
      "execution_count": 142,
      "metadata": {
        "colab": {
          "base_uri": "https://localhost:8080/"
        },
        "id": "ZNZ-5lZQ9I4h",
        "outputId": "c4d69a04-6cb1-4565-999f-764fc7907aa9"
      },
      "outputs": [
        {
          "name": "stdout",
          "output_type": "stream",
          "text": [
            "0.5293657484731228 0.5293657484731227\n"
          ]
        }
      ],
      "source": [
        "print(np.var(2.5 * arr + 0.65),\n",
        "      2.5*2.5*np.var(arr))"
      ]
    },
    {
      "cell_type": "code",
      "execution_count": 143,
      "metadata": {
        "colab": {
          "base_uri": "https://localhost:8080/"
        },
        "id": "nF_kw4jC9M8I",
        "outputId": "503b4e45-8fc6-42ba-8404-e1a1f70a0c9c"
      },
      "outputs": [
        {
          "name": "stdout",
          "output_type": "stream",
          "text": [
            "0.7275752527904744 0.7275752527904744\n"
          ]
        }
      ],
      "source": [
        "print(np.std(2.5 * arr + 0.65),\n",
        "      2.5 * np.std(arr))"
      ]
    },
    {
      "cell_type": "code",
      "execution_count": 144,
      "metadata": {
        "id": "L4h0dNmr9Y5b"
      },
      "outputs": [],
      "source": [
        "arr1 = np.random.rand(100)\n",
        "arr2 = np.random.rand(100)"
      ]
    },
    {
      "cell_type": "code",
      "execution_count": 145,
      "metadata": {
        "colab": {
          "base_uri": "https://localhost:8080/"
        },
        "id": "y9nRViVf9gPE",
        "outputId": "000d2e44-596b-4aa9-bc3d-c64e19ece830"
      },
      "outputs": [
        {
          "name": "stdout",
          "output_type": "stream",
          "text": [
            "-0.24425030709911197 -0.24425030709911197\n"
          ]
        }
      ],
      "source": [
        "print( np.mean(0.21 * arr1 - 0.75 * arr2),\n",
        "      0.21 * np.mean(arr1) - 0.75 * np.mean(arr2))"
      ]
    }
  ],
  "metadata": {
    "colab": {
      "collapsed_sections": [
        "68khGiVxYo7H",
        "NLGCUANycFKt",
        "ok07o0hHhe0k",
        "PDFmEbTwmJyr",
        "xPFrKz2xuH5K",
        "sdv4it47xrkx",
        "Gbx0S1afv7J4",
        "VWepKz6S0-6R",
        "V4H98xu21BC5",
        "oFy2ji-A1oAn",
        "5LoAAMS28NIG",
        "svLMJcYS8oV1"
      ],
      "provenance": [],
      "toc_visible": true
    },
    "kernelspec": {
      "display_name": "Python 3",
      "name": "python3"
    },
    "language_info": {
      "codemirror_mode": {
        "name": "ipython",
        "version": 3
      },
      "file_extension": ".py",
      "mimetype": "text/x-python",
      "name": "python",
      "nbconvert_exporter": "python",
      "pygments_lexer": "ipython3",
      "version": "3.9.16"
    }
  },
  "nbformat": 4,
  "nbformat_minor": 0
}
