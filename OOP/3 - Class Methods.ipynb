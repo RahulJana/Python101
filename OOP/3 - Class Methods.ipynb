{
 "cells": [
  {
   "cell_type": "markdown",
   "metadata": {},
   "source": [
    "# Regular Methods vs Class Methods vs Static Methods"
   ]
  },
  {
   "cell_type": "markdown",
   "metadata": {},
   "source": [
    "## Regular Methods:\n",
    "Regular methods take the instance (self) as the first argument. They can access and modify object state."
   ]
  },
  {
   "cell_type": "code",
   "execution_count": 1,
   "metadata": {},
   "outputs": [
    {
     "name": "stdout",
     "output_type": "stream",
     "text": [
      "Value: 10\n"
     ]
    }
   ],
   "source": [
    "class MyClass:\n",
    "    def __init__(self, value):\n",
    "        self.value = value\n",
    "\n",
    "    def regular_method(self):\n",
    "        print(f\"Value: {self.value}\")\n",
    "\n",
    "# Usage\n",
    "obj = MyClass(10)\n",
    "obj.regular_method()  # Output: Value: 10"
   ]
  },
  {
   "cell_type": "markdown",
   "metadata": {},
   "source": [
    "## Class Methods:\n",
    "\n",
    "Class methods take the class (`cls`) as the first argument. They can access and modify class state that applies across all instances of the class. You declare a class method using the `@classmethod` decorator."
   ]
  },
  {
   "cell_type": "code",
   "execution_count": 2,
   "metadata": {},
   "outputs": [
    {
     "name": "stdout",
     "output_type": "stream",
     "text": [
      "Class count: 2\n"
     ]
    }
   ],
   "source": [
    "class MyClass:\n",
    "    count = 0\n",
    "\n",
    "    def __init__(self, value):\n",
    "        self.value = value\n",
    "        MyClass.count += 1\n",
    "\n",
    "    @classmethod\n",
    "    def class_method(cls):\n",
    "        print(f\"Class count: {cls.count}\")\n",
    "\n",
    "# Usage\n",
    "obj1 = MyClass(10)\n",
    "obj2 = MyClass(20)\n",
    "MyClass.class_method()  # Output: Class count: 2\n"
   ]
  },
  {
   "cell_type": "markdown",
   "metadata": {},
   "source": [
    "## Static Methods\n",
    "\n",
    "Static methods do not take `self` or `cls` as the first argument. They cannot modify object or class state. They are used for utility functions that perform some operation related to the class but don't need access to class or instance data. You declare a static method using the `@staticmethod` decorator."
   ]
  },
  {
   "cell_type": "code",
   "execution_count": 3,
   "metadata": {},
   "outputs": [
    {
     "name": "stdout",
     "output_type": "stream",
     "text": [
      "Class count: 2\n"
     ]
    }
   ],
   "source": [
    "class MyClass:\n",
    "    @staticmethod\n",
    "    def static_method(x, y):\n",
    "        return x + y\n",
    "\n",
    "# Usage\n",
    "result = MyClass.static_method(5, 7)\n",
    "print(result)  # Output: 12\n"
   ]
  },
  {
   "cell_type": "markdown",
   "metadata": {},
   "source": [
    "## Example"
   ]
  },
  {
   "cell_type": "code",
   "execution_count": 36,
   "metadata": {},
   "outputs": [],
   "source": [
    "import datetime"
   ]
  },
  {
   "cell_type": "code",
   "execution_count": 37,
   "metadata": {},
   "outputs": [],
   "source": [
    "class Employee:\n",
    "    num_emps = 0\n",
    "    raise_amount = 1.04\n",
    "\n",
    "    def __init__(self,\n",
    "                 first_name: str,\n",
    "                 last_name: str,\n",
    "                 pay: float):\n",
    "        \"\"\"_summary_\n",
    "\n",
    "        Parameters\n",
    "        ----------\n",
    "        first_name : str\n",
    "            _description_\n",
    "        last_name : str\n",
    "            _description_\n",
    "        pay : float\n",
    "            _description_\n",
    "        \"\"\"\n",
    "        self.first_name = first_name\n",
    "        self.last_name = last_name\n",
    "        self.pay = pay\n",
    "        self.email = f\"{first_name.lower()}.{last_name.lower()}@email.com\"\n",
    "\n",
    "        Employee.num_emps += 1\n",
    "\n",
    "\n",
    "    def get_full_name(self):\n",
    "        \"\"\"_summary_\n",
    "\n",
    "        Returns\n",
    "        -------\n",
    "        _type_\n",
    "            _description_\n",
    "        \"\"\"\n",
    "        return f\"{self.first_name} {self.last_name}\"\n",
    "    \n",
    "\n",
    "    def apply_raise(self, raise_amount: float = None):\n",
    "        \"\"\"_summary_\n",
    "\n",
    "        Parameters\n",
    "        ----------\n",
    "        raise_amount : float, optional\n",
    "            _description_, by default None\n",
    "        \"\"\"\n",
    "        if raise_amount is None:\n",
    "            self.pay = self.pay * self.raise_amount\n",
    "        else:\n",
    "            self.pay = self.pay * raise_amount\n",
    "        print(\"New Salary: \", self.pay)\n",
    "    \n",
    "    def set_raise_amt(self, amount):\n",
    "        self.raise_amount = amount\n",
    "        pass\n",
    "    \n",
    "\n",
    "    @classmethod\n",
    "    def set_raise_amt(cls, amount: float):\n",
    "        cls.raise_amount = amount\n",
    "    \n",
    "\n",
    "    # Using Class Methods as alternative constructors\n",
    "    @classmethod\n",
    "    def from_string(cls, emp_string, separator):\n",
    "        \"\"\" It is a common convention, that a class method which is going to be used as a alternative to the constructors, starts with 'form_' \n",
    "        This function helps us when we receive an input to create a object in a separator format.\n",
    "\n",
    "        Parameters\n",
    "        ----------\n",
    "        emp_string : _type_\n",
    "            _description_\n",
    "        \"\"\"\n",
    "        first_name, last_name, pay = emp_string.split(separator)\n",
    "\n",
    "        # Following line returns same result as object = Class_Name(attributes...)\n",
    "        # cls(first_name, last_name, pay) == Class_Name(first_name, last_name, pay); here Class_Name is Employee\n",
    "        return cls(first_name, last_name, pay)\n",
    "    \n",
    "    @staticmethod\n",
    "    def is_workday(day):\n",
    "        \"\"\"_summary_\n",
    "        In python \n",
    "\n",
    "        Parameters\n",
    "        ----------\n",
    "        day : _type_\n",
    "            _description_\n",
    "\n",
    "        Returns\n",
    "        -------\n",
    "        _type_\n",
    "            _description_\n",
    "        \"\"\"\n",
    "        if day.weekday() == 5 or day.weekday() == 6:\n",
    "            return False\n",
    "        else:\n",
    "            return True\n",
    "\n",
    "\n",
    "\n",
    "\n"
   ]
  },
  {
   "cell_type": "code",
   "execution_count": 32,
   "metadata": {},
   "outputs": [],
   "source": [
    "test_emp_obj_from_str = Employee.from_string(\"Test-Emp-150000\", separator=\"-\")"
   ]
  },
  {
   "cell_type": "code",
   "execution_count": 33,
   "metadata": {},
   "outputs": [
    {
     "data": {
      "text/plain": [
       "{'first_name': 'Test',\n",
       " 'last_name': 'Emp',\n",
       " 'pay': '150000',\n",
       " 'email': 'test.emp@email.com'}"
      ]
     },
     "execution_count": 33,
     "metadata": {},
     "output_type": "execute_result"
    }
   ],
   "source": [
    "test_emp_obj_from_str.__dict__"
   ]
  },
  {
   "cell_type": "code",
   "execution_count": 18,
   "metadata": {},
   "outputs": [],
   "source": [
    "emp_rahul = Employee(first_name=\"Rahul\", last_name=\"Jana\", pay=50000)"
   ]
  },
  {
   "cell_type": "code",
   "execution_count": 19,
   "metadata": {},
   "outputs": [
    {
     "data": {
      "text/plain": [
       "{'first_name': 'Rahul',\n",
       " 'last_name': 'Jana',\n",
       " 'pay': 50000,\n",
       " 'email': 'rahul.jana@email.com'}"
      ]
     },
     "execution_count": 19,
     "metadata": {},
     "output_type": "execute_result"
    }
   ],
   "source": [
    "emp_rahul.__dict__"
   ]
  },
  {
   "cell_type": "code",
   "execution_count": 20,
   "metadata": {},
   "outputs": [],
   "source": [
    "test_emp_1 = Employee(first_name=\"John\", last_name=\"doe\", pay=25000)\n",
    "test_emp_2 = Employee(\"Jane\", \"Doe\", 10000)"
   ]
  },
  {
   "cell_type": "code",
   "execution_count": 21,
   "metadata": {},
   "outputs": [
    {
     "data": {
      "text/plain": [
       "{'first_name': 'John',\n",
       " 'last_name': 'doe',\n",
       " 'pay': 25000,\n",
       " 'email': 'john.doe@email.com'}"
      ]
     },
     "execution_count": 21,
     "metadata": {},
     "output_type": "execute_result"
    }
   ],
   "source": [
    "test_emp_1.__dict__"
   ]
  },
  {
   "cell_type": "code",
   "execution_count": 22,
   "metadata": {},
   "outputs": [
    {
     "data": {
      "text/plain": [
       "1.04"
      ]
     },
     "execution_count": 22,
     "metadata": {},
     "output_type": "execute_result"
    }
   ],
   "source": [
    "test_emp_1.raise_amount"
   ]
  },
  {
   "cell_type": "code",
   "execution_count": 23,
   "metadata": {},
   "outputs": [
    {
     "data": {
      "text/plain": [
       "{'first_name': 'Jane',\n",
       " 'last_name': 'Doe',\n",
       " 'pay': 10000,\n",
       " 'email': 'jane.doe@email.com'}"
      ]
     },
     "execution_count": 23,
     "metadata": {},
     "output_type": "execute_result"
    }
   ],
   "source": [
    "test_emp_2.__dict__"
   ]
  },
  {
   "cell_type": "code",
   "execution_count": 24,
   "metadata": {},
   "outputs": [
    {
     "data": {
      "text/plain": [
       "1.04"
      ]
     },
     "execution_count": 24,
     "metadata": {},
     "output_type": "execute_result"
    }
   ],
   "source": [
    "test_emp_2.raise_amount"
   ]
  },
  {
   "cell_type": "code",
   "execution_count": 25,
   "metadata": {},
   "outputs": [
    {
     "data": {
      "text/plain": [
       "1.04"
      ]
     },
     "execution_count": 25,
     "metadata": {},
     "output_type": "execute_result"
    }
   ],
   "source": [
    "Employee.raise_amount"
   ]
  },
  {
   "cell_type": "code",
   "execution_count": 26,
   "metadata": {},
   "outputs": [
    {
     "data": {
      "text/plain": [
       "1.04"
      ]
     },
     "execution_count": 26,
     "metadata": {},
     "output_type": "execute_result"
    }
   ],
   "source": [
    "emp_rahul.raise_amount"
   ]
  },
  {
   "cell_type": "markdown",
   "metadata": {},
   "source": [
    "Using Class Method to change raise amount"
   ]
  },
  {
   "cell_type": "code",
   "execution_count": 27,
   "metadata": {},
   "outputs": [],
   "source": [
    "Employee.set_raise_amt(amount=1.05)"
   ]
  },
  {
   "cell_type": "code",
   "execution_count": 28,
   "metadata": {},
   "outputs": [
    {
     "name": "stdout",
     "output_type": "stream",
     "text": [
      "New Employee.raise_amount: 1.05\n",
      "New emp_rahul.raise_amount: 1.05\n",
      "New test_emp_1.raise_amount: 1.05\n",
      "New test_emp_2.raise_amount: 1.05\n"
     ]
    }
   ],
   "source": [
    "print(f\"New Employee.raise_amount: {Employee.raise_amount}\")\n",
    "\n",
    "print(f\"New emp_rahul.raise_amount: {emp_rahul.raise_amount}\")\n",
    "\n",
    "print(f\"New test_emp_1.raise_amount: {test_emp_1.raise_amount}\")\n",
    "\n",
    "print(f\"New test_emp_2.raise_amount: {test_emp_2.raise_amount}\")"
   ]
  },
  {
   "cell_type": "markdown",
   "metadata": {},
   "source": [
    "Overwritting individual employee"
   ]
  },
  {
   "cell_type": "code",
   "execution_count": 29,
   "metadata": {},
   "outputs": [],
   "source": [
    "emp_rahul.set_raise_amt(amount=1.5)"
   ]
  },
  {
   "cell_type": "code",
   "execution_count": 30,
   "metadata": {},
   "outputs": [
    {
     "name": "stdout",
     "output_type": "stream",
     "text": [
      "New Employee.raise_amount: 1.5\n",
      "New emp_rahul.raise_amount: 1.5\n",
      "New test_emp_1.raise_amount: 1.5\n",
      "New test_emp_2.raise_amount: 1.5\n"
     ]
    }
   ],
   "source": [
    "print(f\"New Employee.raise_amount: {Employee.raise_amount}\")\n",
    "\n",
    "print(f\"New emp_rahul.raise_amount: {emp_rahul.raise_amount}\")\n",
    "\n",
    "print(f\"New test_emp_1.raise_amount: {test_emp_1.raise_amount}\")\n",
    "\n",
    "print(f\"New test_emp_2.raise_amount: {test_emp_2.raise_amount}\")"
   ]
  },
  {
   "cell_type": "code",
   "execution_count": 41,
   "metadata": {},
   "outputs": [
    {
     "name": "stdout",
     "output_type": "stream",
     "text": [
      "2024-06-16\n"
     ]
    }
   ],
   "source": [
    "dow = datetime.date(2024, 6, 16)\n",
    "print(dow)"
   ]
  },
  {
   "cell_type": "code",
   "execution_count": 38,
   "metadata": {},
   "outputs": [
    {
     "data": {
      "text/plain": [
       "False"
      ]
     },
     "execution_count": 38,
     "metadata": {},
     "output_type": "execute_result"
    }
   ],
   "source": [
    "Employee.is_workday(datetime.date(2024, 6, 16))  # Sunday"
   ]
  },
  {
   "cell_type": "code",
   "execution_count": 39,
   "metadata": {},
   "outputs": [
    {
     "data": {
      "text/plain": [
       "True"
      ]
     },
     "execution_count": 39,
     "metadata": {},
     "output_type": "execute_result"
    }
   ],
   "source": [
    "Employee.is_workday(datetime.date(2024, 6, 17))"
   ]
  },
  {
   "cell_type": "markdown",
   "metadata": {},
   "source": [
    "## When to Use Each Type\n",
    "\n",
    "- `Regular methods` are used to perform operations that modify the state of the instance or require access to the instance's attributes.\n",
    "- `Class methods` are used when you need to access or modify class-level data, or when you want to provide alternative constructors.\n",
    "- `Static methods` are used for utility functions that are logically related to the class but do not require access to instance or class data."
   ]
  },
  {
   "cell_type": "markdown",
   "metadata": {},
   "source": [
    "### Summary of Differences\n",
    "\n",
    "| Feature                     | Regular Methods       | Class Methods          | Static Methods         |\n",
    "|-----------------------------|-----------------------|------------------------|------------------------|\n",
    "| **First Argument**          | `self` (instance)     | `cls` (class)          | No special argument    |\n",
    "| **Access to instance variables** | Yes                   | No                     | No                     |\n",
    "| **Access to class variables**    | Yes                   | Yes                    | No                     |\n",
    "| **Can modify instance state**    | Yes                   | No                     | No                     |\n",
    "| **Can modify class state**       | Yes                   | Yes                    | No                     |\n",
    "| **Decorator**                | None                  | `@classmethod`         | `@staticmethod`        |\n"
   ]
  }
 ],
 "metadata": {
  "kernelspec": {
   "display_name": "base",
   "language": "python",
   "name": "python3"
  },
  "language_info": {
   "codemirror_mode": {
    "name": "ipython",
    "version": 3
   },
   "file_extension": ".py",
   "mimetype": "text/x-python",
   "name": "python",
   "nbconvert_exporter": "python",
   "pygments_lexer": "ipython3",
   "version": "3.12.3"
  }
 },
 "nbformat": 4,
 "nbformat_minor": 2
}
