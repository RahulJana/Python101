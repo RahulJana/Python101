{
 "cells": [
  {
   "attachments": {},
   "cell_type": "markdown",
   "metadata": {},
   "source": [
    "# Class variables\n",
    "Class variables are those, which are common for all the instances of that class."
   ]
  },
  {
   "cell_type": "code",
   "execution_count": 121,
   "metadata": {},
   "outputs": [],
   "source": [
    "class Employee:\n",
    "    num_emps = 0\n",
    "    raise_amount = 1.08\n",
    "\n",
    "    def __init__(self, first_name: str, last_name: str, pay: int):\n",
    "        \"\"\"This is a constructor. We can use anything instead of self. But it is a good idea to use self(stick to the convention naming).\n",
    "        \"\"\"\n",
    "        self.first_name = first_name\n",
    "        self.last_name = last_name\n",
    "        self.pay = pay\n",
    "        self.email = f\"test.{first_name.lower()}{last_name.lower()}@email.com\"\n",
    "\n",
    "        Employee.num_emps += 1  # since this is a class var and independent of any instance of the class. Thus Employee is used instead of self.\n",
    "\n",
    "\n",
    "    def get_full_name(self):\n",
    "        return f\"{self.first_name} {self.last_name}\"\n",
    "    \n",
    "    def apply_raise(self, raise_amount: float = None):\n",
    "        if raise_amount is None:\n",
    "            self.pay = self.pay * self.raise_amount\n",
    "        else:\n",
    "            self.pay = self.pay * raise_amount\n",
    "        \n",
    "        print(\"New Salary: \", self.pay)"
   ]
  },
  {
   "cell_type": "code",
   "execution_count": 122,
   "metadata": {},
   "outputs": [],
   "source": [
    "emp_rahul = Employee(first_name=\"Rahul\", last_name=\"Jana\", pay=25000)"
   ]
  },
  {
   "cell_type": "code",
   "execution_count": 123,
   "metadata": {},
   "outputs": [
    {
     "data": {
      "text/plain": [
       "{'first_name': 'Rahul',\n",
       " 'last_name': 'Jana',\n",
       " 'pay': 25000,\n",
       " 'email': 'test.rahuljana@email.com',\n",
       " 'num_emps': 1}"
      ]
     },
     "execution_count": 123,
     "metadata": {},
     "output_type": "execute_result"
    }
   ],
   "source": [
    "emp_rahul.__dict__"
   ]
  },
  {
   "cell_type": "code",
   "execution_count": 124,
   "metadata": {},
   "outputs": [
    {
     "data": {
      "text/plain": [
       "mappingproxy({'__module__': '__main__',\n",
       "              'num_emps': 0,\n",
       "              'raise_amount': 1.08,\n",
       "              '__init__': <function __main__.Employee.__init__(self, first_name: str, last_name: str, pay: int)>,\n",
       "              'get_full_name': <function __main__.Employee.get_full_name(self)>,\n",
       "              'apply_raise': <function __main__.Employee.apply_raise(self, raise_amount: float = None)>,\n",
       "              '__dict__': <attribute '__dict__' of 'Employee' objects>,\n",
       "              '__weakref__': <attribute '__weakref__' of 'Employee' objects>,\n",
       "              '__doc__': None})"
      ]
     },
     "execution_count": 124,
     "metadata": {},
     "output_type": "execute_result"
    }
   ],
   "source": [
    "Employee.__dict__"
   ]
  },
  {
   "cell_type": "code",
   "execution_count": 125,
   "metadata": {},
   "outputs": [],
   "source": [
    "emp_temp = Employee(first_name=\"Temp\", last_name=\"Emp\", pay=25000)"
   ]
  },
  {
   "cell_type": "code",
   "execution_count": 126,
   "metadata": {},
   "outputs": [
    {
     "name": "stdout",
     "output_type": "stream",
     "text": [
      "New Salary:  27000.0\n"
     ]
    }
   ],
   "source": [
    "emp_temp.apply_raise()"
   ]
  },
  {
   "attachments": {},
   "cell_type": "markdown",
   "metadata": {},
   "source": [
    "### Setting up different values for class variables."
   ]
  },
  {
   "cell_type": "code",
   "execution_count": 127,
   "metadata": {},
   "outputs": [],
   "source": [
    "test_emp_1 = Employee(\"test\", \"emp1\", 10000)"
   ]
  },
  {
   "cell_type": "code",
   "execution_count": 128,
   "metadata": {},
   "outputs": [],
   "source": [
    "test_emp_2 = Employee(\"test\", \"emp2\", 10000)"
   ]
  },
  {
   "cell_type": "code",
   "execution_count": 129,
   "metadata": {},
   "outputs": [],
   "source": [
    "test_emp_1.raise_amount = 1.1\n",
    "test_emp_2.raise_amount = 1.12"
   ]
  },
  {
   "cell_type": "code",
   "execution_count": 130,
   "metadata": {},
   "outputs": [
    {
     "name": "stdout",
     "output_type": "stream",
     "text": [
      "New Salary:  11000.0\n"
     ]
    }
   ],
   "source": [
    "test_emp_1.apply_raise()"
   ]
  },
  {
   "cell_type": "code",
   "execution_count": 131,
   "metadata": {},
   "outputs": [
    {
     "name": "stdout",
     "output_type": "stream",
     "text": [
      "New Salary:  11200.000000000002\n"
     ]
    }
   ],
   "source": [
    "test_emp_2.apply_raise()"
   ]
  },
  {
   "cell_type": "code",
   "execution_count": 132,
   "metadata": {},
   "outputs": [],
   "source": [
    "Employee.raise_amount = 1.18"
   ]
  },
  {
   "cell_type": "code",
   "execution_count": 133,
   "metadata": {},
   "outputs": [
    {
     "data": {
      "text/plain": [
       "mappingproxy({'__module__': '__main__',\n",
       "              'num_emps': 0,\n",
       "              'raise_amount': 1.18,\n",
       "              '__init__': <function __main__.Employee.__init__(self, first_name: str, last_name: str, pay: int)>,\n",
       "              'get_full_name': <function __main__.Employee.get_full_name(self)>,\n",
       "              'apply_raise': <function __main__.Employee.apply_raise(self, raise_amount: float = None)>,\n",
       "              '__dict__': <attribute '__dict__' of 'Employee' objects>,\n",
       "              '__weakref__': <attribute '__weakref__' of 'Employee' objects>,\n",
       "              '__doc__': None})"
      ]
     },
     "execution_count": 133,
     "metadata": {},
     "output_type": "execute_result"
    }
   ],
   "source": [
    "Employee.__dict__"
   ]
  },
  {
   "cell_type": "code",
   "execution_count": 134,
   "metadata": {},
   "outputs": [
    {
     "data": {
      "text/plain": [
       "{'first_name': 'Rahul',\n",
       " 'last_name': 'Jana',\n",
       " 'pay': 25000,\n",
       " 'email': 'test.rahuljana@email.com',\n",
       " 'num_emps': 1}"
      ]
     },
     "execution_count": 134,
     "metadata": {},
     "output_type": "execute_result"
    }
   ],
   "source": [
    "emp_rahul.__dict__"
   ]
  },
  {
   "cell_type": "code",
   "execution_count": 135,
   "metadata": {},
   "outputs": [
    {
     "data": {
      "text/plain": [
       "1.18"
      ]
     },
     "execution_count": 135,
     "metadata": {},
     "output_type": "execute_result"
    }
   ],
   "source": [
    "emp_rahul.raise_amount"
   ]
  },
  {
   "cell_type": "code",
   "execution_count": 136,
   "metadata": {},
   "outputs": [
    {
     "name": "stdout",
     "output_type": "stream",
     "text": [
      "New Salary:  29500.0\n"
     ]
    }
   ],
   "source": [
    "emp_rahul.apply_raise()"
   ]
  },
  {
   "cell_type": "code",
   "execution_count": 137,
   "metadata": {},
   "outputs": [
    {
     "name": "stdout",
     "output_type": "stream",
     "text": [
      "New Salary:  12100.000000000002\n"
     ]
    }
   ],
   "source": [
    "test_emp_1.apply_raise()"
   ]
  },
  {
   "cell_type": "code",
   "execution_count": 138,
   "metadata": {},
   "outputs": [
    {
     "name": "stdout",
     "output_type": "stream",
     "text": [
      "New Salary:  12544.000000000004\n"
     ]
    }
   ],
   "source": [
    "test_emp_2.apply_raise()"
   ]
  },
  {
   "cell_type": "code",
   "execution_count": 139,
   "metadata": {},
   "outputs": [
    {
     "data": {
      "text/plain": [
       "0"
      ]
     },
     "execution_count": 139,
     "metadata": {},
     "output_type": "execute_result"
    }
   ],
   "source": [
    "Employee.num_emps"
   ]
  },
  {
   "cell_type": "code",
   "execution_count": null,
   "metadata": {},
   "outputs": [],
   "source": []
  },
  {
   "cell_type": "code",
   "execution_count": null,
   "metadata": {},
   "outputs": [],
   "source": []
  }
 ],
 "metadata": {
  "kernelspec": {
   "display_name": "base",
   "language": "python",
   "name": "python3"
  },
  "language_info": {
   "codemirror_mode": {
    "name": "ipython",
    "version": 3
   },
   "file_extension": ".py",
   "mimetype": "text/x-python",
   "name": "python",
   "nbconvert_exporter": "python",
   "pygments_lexer": "ipython3",
   "version": "3.8.8"
  },
  "orig_nbformat": 4
 },
 "nbformat": 4,
 "nbformat_minor": 2
}
