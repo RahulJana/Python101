{
 "cells": [
  {
   "cell_type": "code",
   "execution_count": 1,
   "metadata": {},
   "outputs": [],
   "source": [
    "from keras.models import Model\n",
    "from keras.layers import *\n",
    "from keras.utils import plot_model"
   ]
  },
  {
   "cell_type": "markdown",
   "metadata": {},
   "source": [
    "`hidden_layer_1 = Dense(128, activation=\"ReLU\")(x)`  \n",
    "Meaning of this line is `hidden_layer_1` is a `Dense` layer which is receiving its input from `x` which is a `Input` layer."
   ]
  },
  {
   "cell_type": "code",
   "execution_count": 2,
   "metadata": {},
   "outputs": [],
   "source": [
    "# Input layer of shape(3, )\n",
    "x = Input(shape = (3, ))\n",
    "\n",
    "# Hidden Layer of 128 Nodes/Units, Activation function ReLU\n",
    "hidden_layer_1 = Dense(128, activation=\"relu\")(x)\n",
    "\n",
    "# Hidden Layer of 64 Nodes/Units, Activation function ReLU\n",
    "hidden_layer_2 = Dense(64, activation=\"relu\")(hidden_layer_1)\n",
    "\n",
    "# Output Layer of 1 Nodes/Units, Activation function linear\n",
    "output_layer_regression = Dense(1, activation=\"linear\")(hidden_layer_2)\n",
    "\n",
    "# Output Layer of 1 Nodes/Units, Activation function sigmoid\n",
    "output_layer_sigmoid = Dense(1, activation=\"sigmoid\")(hidden_layer_2)"
   ]
  },
  {
   "cell_type": "code",
   "execution_count": 3,
   "metadata": {},
   "outputs": [],
   "source": [
    "# initializing Model\n",
    "model = Model(inputs = x, outputs = [output_layer_regression, output_layer_sigmoid])"
   ]
  },
  {
   "cell_type": "code",
   "execution_count": 4,
   "metadata": {},
   "outputs": [
    {
     "name": "stdout",
     "output_type": "stream",
     "text": [
      "Model: \"model\"\n",
      "__________________________________________________________________________________________________\n",
      " Layer (type)                Output Shape                 Param #   Connected to                  \n",
      "==================================================================================================\n",
      " input_1 (InputLayer)        [(None, 3)]                  0         []                            \n",
      "                                                                                                  \n",
      " dense (Dense)               (None, 128)                  512       ['input_1[0][0]']             \n",
      "                                                                                                  \n",
      " dense_1 (Dense)             (None, 64)                   8256      ['dense[0][0]']               \n",
      "                                                                                                  \n",
      " dense_2 (Dense)             (None, 1)                    65        ['dense_1[0][0]']             \n",
      "                                                                                                  \n",
      " dense_3 (Dense)             (None, 1)                    65        ['dense_1[0][0]']             \n",
      "                                                                                                  \n",
      "==================================================================================================\n",
      "Total params: 8898 (34.76 KB)\n",
      "Trainable params: 8898 (34.76 KB)\n",
      "Non-trainable params: 0 (0.00 Byte)\n",
      "__________________________________________________________________________________________________\n"
     ]
    }
   ],
   "source": [
    "model.summary()"
   ]
  },
  {
   "cell_type": "code",
   "execution_count": 5,
   "metadata": {},
   "outputs": [
    {
     "name": "stdout",
     "output_type": "stream",
     "text": [
      "You must install pydot (`pip install pydot`) and install graphviz (see instructions at https://graphviz.gitlab.io/download/) for plot_model to work.\n"
     ]
    }
   ],
   "source": [
    "plot_model(model)"
   ]
  },
  {
   "cell_type": "markdown",
   "metadata": {},
   "source": [
    "## Model-2\n",
    "![Alt text](image.png)"
   ]
  },
  {
   "cell_type": "code",
   "execution_count": null,
   "metadata": {},
   "outputs": [],
   "source": [
    "input_A_32 = Input(shape=(32, ))\n",
    "\n",
    "hidden_layer_A_32_8 = Dense(32, activation=\"relu\")(input_A_32)\n",
    "\n",
    "hidden_layer_8_4 = Dense(8, activation=\"relu\")(hidden_layer_32_8)"
   ]
  },
  {
   "cell_type": "code",
   "execution_count": null,
   "metadata": {},
   "outputs": [],
   "source": [
    "input_2 = Input(shape = (128,))\n",
    "\n",
    "hidden_layer_3 = Dense(128, activation=\"relu\")(x)\n",
    "\n",
    "hidden_layer_4 = Dense(64, activation=\"relu\")(hidden_layer_3)\n",
    "\n",
    "hidden_layer_5 = Dense(32, activation=\"relu\")(hidden_layer_4)\n",
    "\n",
    "concat_layer_1 = "
   ]
  },
  {
   "cell_type": "code",
   "execution_count": null,
   "metadata": {},
   "outputs": [],
   "source": []
  }
 ],
 "metadata": {
  "kernelspec": {
   "display_name": "tf_cpu",
   "language": "python",
   "name": "python3"
  },
  "language_info": {
   "codemirror_mode": {
    "name": "ipython",
    "version": 3
   },
   "file_extension": ".py",
   "mimetype": "text/x-python",
   "name": "python",
   "nbconvert_exporter": "python",
   "pygments_lexer": "ipython3",
   "version": "3.9.0"
  },
  "orig_nbformat": 4
 },
 "nbformat": 4,
 "nbformat_minor": 2
}
