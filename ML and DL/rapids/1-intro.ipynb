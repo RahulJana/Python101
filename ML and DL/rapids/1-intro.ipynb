{
 "cells": [
  {
   "cell_type": "code",
   "execution_count": 1,
   "metadata": {},
   "outputs": [
    {
     "name": "stdout",
     "output_type": "stream",
     "text": [
      "Package            Version\n",
      "------------------ -----------\n",
      "asttokens          3.0.0\n",
      "colorama           0.4.6\n",
      "comm               0.2.2\n",
      "debugpy            1.8.12\n",
      "decorator          5.2.1\n",
      "exceptiongroup     1.2.2\n",
      "executing          2.1.0\n",
      "importlib_metadata 8.6.1\n",
      "ipykernel          6.29.5\n",
      "ipython            8.32.0\n",
      "jedi               0.19.2\n",
      "jupyter_client     8.6.3\n",
      "jupyter_core       5.7.2\n",
      "matplotlib-inline  0.1.7\n",
      "nest_asyncio       1.6.0\n",
      "packaging          24.2\n",
      "parso              0.8.4\n",
      "pickleshare        0.7.5\n",
      "pip                25.0\n",
      "platformdirs       4.3.6\n",
      "prompt_toolkit     3.0.50\n",
      "psutil             6.1.1\n",
      "pure_eval          0.2.3\n",
      "Pygments           2.19.1\n",
      "python-dateutil    2.9.0.post0\n",
      "pywin32            307\n",
      "pyzmq              26.2.1\n",
      "setuptools         75.8.0\n",
      "six                1.17.0\n",
      "stack_data         0.6.3\n",
      "tornado            6.4.2\n",
      "traitlets          5.14.3\n",
      "typing_extensions  4.12.2\n",
      "wcwidth            0.2.13\n",
      "wheel              0.45.1\n",
      "zipp               3.21.0\n"
     ]
    }
   ],
   "source": [
    "!pip list"
   ]
  },
  {
   "cell_type": "code",
   "execution_count": 2,
   "metadata": {},
   "outputs": [
    {
     "name": "stdout",
     "output_type": "stream",
     "text": [
      "Looking in indexes: https://pypi.org/simple, https://pypi.nvidia.com\n"
     ]
    },
    {
     "name": "stderr",
     "output_type": "stream",
     "text": [
      "ERROR: Could not find a version that satisfies the requirement cudf-cu12==25.2.* (from versions: 23.6.0, 23.6.1, 23.8.0, 23.10.0, 23.10.1, 23.10.2, 23.12.0, 23.12.0.post1, 23.12.1, 24.2.0, 24.2.1, 24.2.2, 24.4.0, 24.4.1, 24.6.0, 24.6.1, 24.8.1, 24.8.2, 24.8.3, 24.10.1)\n",
      "ERROR: No matching distribution found for cudf-cu12==25.2.*\n"
     ]
    }
   ],
   "source": [
    "!pip install --extra-index-url=https://pypi.nvidia.com \"cudf-cu12==25.2.*\" \"dask-cudf-cu12==25.2.*\" \"cuml-cu12==25.2.*\" \"cugraph-cu12==25.2.*\" \"nx-cugraph-cu12==25.2.*\" \"cuspatial-cu12==25.2.*\" \"cuproj-cu12==25.2.*\" \"cuxfilter-cu12==25.2.*\" \"cucim-cu12==25.2.*\" \"pylibraft-cu12==25.2.*\" \"raft-dask-cu12==25.2.*\" \"cuvs-cu12==25.2.*\" \"nx-cugraph-cu12==25.2.*\""
   ]
  },
  {
   "cell_type": "code",
   "execution_count": 1,
   "metadata": {},
   "outputs": [
    {
     "name": "stdout",
     "output_type": "stream",
     "text": [
      "Package            Version\n",
      "------------------ -----------\n",
      "asttokens          3.0.0\n",
      "colorama           0.4.6\n",
      "comm               0.2.2\n",
      "debugpy            1.8.12\n",
      "decorator          5.2.1\n",
      "exceptiongroup     1.2.2\n",
      "executing          2.1.0\n",
      "importlib_metadata 8.6.1\n",
      "ipykernel          6.29.5\n",
      "ipython            8.32.0\n",
      "jedi               0.19.2\n",
      "jupyter_client     8.6.3\n",
      "jupyter_core       5.7.2\n",
      "matplotlib-inline  0.1.7\n",
      "nest_asyncio       1.6.0\n",
      "packaging          24.2\n",
      "parso              0.8.4\n",
      "pickleshare        0.7.5\n",
      "pip                25.0\n",
      "platformdirs       4.3.6\n",
      "prompt_toolkit     3.0.50\n",
      "psutil             6.1.1\n",
      "pure_eval          0.2.3\n",
      "Pygments           2.19.1\n",
      "python-dateutil    2.9.0.post0\n",
      "pywin32            307\n",
      "pyzmq              26.2.1\n",
      "setuptools         75.8.0\n",
      "six                1.17.0\n",
      "stack_data         0.6.3\n",
      "tornado            6.4.2\n",
      "traitlets          5.14.3\n",
      "typing_extensions  4.12.2\n",
      "wcwidth            0.2.13\n",
      "wheel              0.45.1\n",
      "zipp               3.21.0\n"
     ]
    }
   ],
   "source": [
    "!pip list"
   ]
  },
  {
   "cell_type": "code",
   "execution_count": 2,
   "metadata": {},
   "outputs": [
    {
     "name": "stdout",
     "output_type": "stream",
     "text": [
      "Python 3.11.11\n"
     ]
    }
   ],
   "source": [
    "!python --version"
   ]
  },
  {
   "cell_type": "code",
   "execution_count": 3,
   "metadata": {},
   "outputs": [
    {
     "name": "stderr",
     "output_type": "stream",
     "text": [
      "The system cannot find the file specified.\n"
     ]
    }
   ],
   "source": [
    "!conda create -n rapids-25.02 -c rapidsai -c conda-forge -c nvidia  rapids=25.02 python=3.11 'cuda-version>=12.0,<=12.8'"
   ]
  },
  {
   "cell_type": "code",
   "execution_count": null,
   "metadata": {},
   "outputs": [],
   "source": []
  }
 ],
 "metadata": {
  "kernelspec": {
   "display_name": "gpu_ds",
   "language": "python",
   "name": "python3"
  },
  "language_info": {
   "codemirror_mode": {
    "name": "ipython",
    "version": 3
   },
   "file_extension": ".py",
   "mimetype": "text/x-python",
   "name": "python",
   "nbconvert_exporter": "python",
   "pygments_lexer": "ipython3",
   "version": "3.11.11"
  }
 },
 "nbformat": 4,
 "nbformat_minor": 2
}
