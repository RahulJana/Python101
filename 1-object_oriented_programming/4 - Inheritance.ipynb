{
 "cells": [
  {
   "cell_type": "code",
   "execution_count": 12,
   "metadata": {},
   "outputs": [],
   "source": [
    "class Employee:\n",
    "    num_emps = 0\n",
    "    raise_amount = 1.04\n",
    "\n",
    "    def __init__(self,\n",
    "                 first_name: str,\n",
    "                 last_name: str,\n",
    "                 pay: float):\n",
    "        \"\"\"_summary_\n",
    "\n",
    "        Parameters\n",
    "        ----------\n",
    "        first_name : str\n",
    "            _description_\n",
    "        last_name : str\n",
    "            _description_\n",
    "        pay : float\n",
    "            _description_\n",
    "        \"\"\"\n",
    "        self.first_name = first_name\n",
    "        self.last_name = last_name\n",
    "        self.pay = pay\n",
    "        self.email = f\"{first_name.lower()}.{last_name.lower()}@email.com\"\n",
    "\n",
    "        Employee.num_emps += 1\n",
    "\n",
    "\n",
    "    def get_full_name(self):\n",
    "        \"\"\"_summary_\n",
    "\n",
    "        Returns\n",
    "        -------\n",
    "        _type_\n",
    "            _description_\n",
    "        \"\"\"\n",
    "        return f\"{self.first_name} {self.last_name}\"\n",
    "    \n",
    "\n",
    "    def apply_raise(self, raise_amount: float = None):\n",
    "        \"\"\"_summary_\n",
    "\n",
    "        Parameters\n",
    "        ----------\n",
    "        raise_amount : float, optional\n",
    "            _description_, by default None\n",
    "        \"\"\"\n",
    "        if raise_amount is None:\n",
    "            self.pay = self.pay * self.raise_amount\n",
    "        else:\n",
    "            self.pay = self.pay * raise_amount\n",
    "        print(\"New Salary: \", self.pay)\n",
    "    \n",
    "    def set_raise_amt(self, amount):\n",
    "        self.raise_amount = amount\n",
    "        pass\n",
    "    \n",
    "\n",
    "    @classmethod\n",
    "    def set_raise_amt(cls, amount: float):\n",
    "        cls.raise_amount = amount\n",
    "    \n",
    "\n",
    "    # Using Class Methods as alternative constructors\n",
    "    @classmethod\n",
    "    def from_string(cls, emp_string, separator):\n",
    "        \"\"\" It is a common convention, that a class method which is going to be used as a alternative to the constructors, starts with 'form_' \n",
    "        This function helps us when we receive an input to create a object in a separator format.\n",
    "\n",
    "        Parameters\n",
    "        ----------\n",
    "        emp_string : _type_\n",
    "            _description_\n",
    "        \"\"\"\n",
    "        first_name, last_name, pay = emp_string.split(separator)\n",
    "\n",
    "        # Following line returns same result as object = Class_Name(attributes...)\n",
    "        # cls(first_name, last_name, pay) == Class_Name(first_name, last_name, pay); here Class_Name is Employee\n",
    "        return cls(first_name, last_name, pay)\n",
    "    \n",
    "    @staticmethod\n",
    "    def is_workday(day):\n",
    "        \"\"\"_summary_\n",
    "        In python \n",
    "\n",
    "        Parameters\n",
    "        ----------\n",
    "        day : _type_\n",
    "            _description_\n",
    "\n",
    "        Returns\n",
    "        -------\n",
    "        _type_\n",
    "            _description_\n",
    "        \"\"\"\n",
    "        if day.weekday() == 5 or day.weekday() == 6:\n",
    "            return False\n",
    "        else:\n",
    "            return True\n"
   ]
  },
  {
   "cell_type": "code",
   "execution_count": 29,
   "metadata": {},
   "outputs": [],
   "source": [
    "class Developer(Employee):\n",
    "    def __init__(self,\n",
    "                 first_name: str,\n",
    "                 last_name: str,\n",
    "                 pay: float,\n",
    "                 programming_language: str):\n",
    "        \"\"\"_summary_\n",
    "\n",
    "        Parameters\n",
    "        ----------\n",
    "        first_name : str\n",
    "            _description_\n",
    "        last_name : str\n",
    "            _description_\n",
    "        pay : float\n",
    "            _description_\n",
    "        \"\"\"\n",
    "        # self.first_name = first_name\n",
    "        # self.last_name = last_name\n",
    "        # self.pay = pay\n",
    "        # self.email = f\"{first_name.lower()}.{last_name.lower()}@email.com\"\n",
    "        # or;\n",
    "        # Employee.__init__(self, first_name, last_name, pay) # Here we need to keep track of from where/which class we are inhereting\n",
    "        # or; \n",
    "        super().__init__(first_name, last_name, pay)  # Most maintainable way\n",
    "        self.programming_language = programming_language\n",
    "\n",
    "    @classmethod\n",
    "    def set_raise_amt(cls, amount: float):\n",
    "        cls.raise_amount = amount"
   ]
  },
  {
   "cell_type": "code",
   "execution_count": 55,
   "metadata": {},
   "outputs": [],
   "source": [
    "dev_rahul = Developer(first_name=\"Rahul\", last_name=\"Jana\", pay=50000, programming_language=\"Python\")"
   ]
  },
  {
   "cell_type": "code",
   "execution_count": 22,
   "metadata": {},
   "outputs": [
    {
     "data": {
      "text/plain": [
       "{'first_name': 'Rahul',\n",
       " 'last_name': 'Jana',\n",
       " 'pay': 50000,\n",
       " 'email': 'rahul.jana@email.com',\n",
       " 'programming_language': 'Python'}"
      ]
     },
     "execution_count": 22,
     "metadata": {},
     "output_type": "execute_result"
    }
   ],
   "source": [
    "dev_rahul.__dict__"
   ]
  },
  {
   "cell_type": "code",
   "execution_count": 23,
   "metadata": {},
   "outputs": [
    {
     "name": "stdout",
     "output_type": "stream",
     "text": [
      "Help on class Developer in module __main__:\n",
      "\n",
      "class Developer(Employee)\n",
      " |  Developer(first_name: str, last_name: str, pay: float, programming_language: str)\n",
      " |\n",
      " |  Method resolution order:\n",
      " |      Developer\n",
      " |      Employee\n",
      " |      builtins.object\n",
      " |\n",
      " |  Methods defined here:\n",
      " |\n",
      " |  __init__(self, first_name: str, last_name: str, pay: float, programming_language: str)\n",
      " |      _summary_\n",
      " |\n",
      " |      Parameters\n",
      " |      ----------\n",
      " |      first_name : str\n",
      " |          _description_\n",
      " |      last_name : str\n",
      " |          _description_\n",
      " |      pay : float\n",
      " |          _description_\n",
      " |\n",
      " |  ----------------------------------------------------------------------\n",
      " |  Class methods defined here:\n",
      " |\n",
      " |  set_raise_amt(amount: float) from builtins.type\n",
      " |\n",
      " |  ----------------------------------------------------------------------\n",
      " |  Methods inherited from Employee:\n",
      " |\n",
      " |  apply_raise(self, raise_amount: float = None)\n",
      " |      _summary_\n",
      " |\n",
      " |      Parameters\n",
      " |      ----------\n",
      " |      raise_amount : float, optional\n",
      " |          _description_, by default None\n",
      " |\n",
      " |  get_full_name(self)\n",
      " |      _summary_\n",
      " |\n",
      " |      Returns\n",
      " |      -------\n",
      " |      _type_\n",
      " |          _description_\n",
      " |\n",
      " |  ----------------------------------------------------------------------\n",
      " |  Class methods inherited from Employee:\n",
      " |\n",
      " |  from_string(emp_string, separator) from builtins.type\n",
      " |      It is a common convention, that a class method which is going to be used as a alternative to the constructors, starts with 'form_'\n",
      " |      This function helps us when we receive an input to create a object in a separator format.\n",
      " |\n",
      " |      Parameters\n",
      " |      ----------\n",
      " |      emp_string : _type_\n",
      " |          _description_\n",
      " |\n",
      " |  ----------------------------------------------------------------------\n",
      " |  Static methods inherited from Employee:\n",
      " |\n",
      " |  is_workday(day)\n",
      " |      _summary_\n",
      " |      In python\n",
      " |\n",
      " |      Parameters\n",
      " |      ----------\n",
      " |      day : _type_\n",
      " |          _description_\n",
      " |\n",
      " |      Returns\n",
      " |      -------\n",
      " |      _type_\n",
      " |          _description_\n",
      " |\n",
      " |  ----------------------------------------------------------------------\n",
      " |  Data descriptors inherited from Employee:\n",
      " |\n",
      " |  __dict__\n",
      " |      dictionary for instance variables\n",
      " |\n",
      " |  __weakref__\n",
      " |      list of weak references to the object\n",
      " |\n",
      " |  ----------------------------------------------------------------------\n",
      " |  Data and other attributes inherited from Employee:\n",
      " |\n",
      " |  num_emps = 2\n",
      " |\n",
      " |  raise_amount = 1.04\n",
      "\n"
     ]
    }
   ],
   "source": [
    "help(Developer)"
   ]
  },
  {
   "cell_type": "code",
   "execution_count": 24,
   "metadata": {},
   "outputs": [
    {
     "data": {
      "text/plain": [
       "1.04"
      ]
     },
     "execution_count": 24,
     "metadata": {},
     "output_type": "execute_result"
    }
   ],
   "source": [
    "Developer.raise_amount"
   ]
  },
  {
   "cell_type": "code",
   "execution_count": 25,
   "metadata": {},
   "outputs": [],
   "source": [
    "Developer.set_raise_amt(1.15)"
   ]
  },
  {
   "cell_type": "code",
   "execution_count": 26,
   "metadata": {},
   "outputs": [
    {
     "data": {
      "text/plain": [
       "1.15"
      ]
     },
     "execution_count": 26,
     "metadata": {},
     "output_type": "execute_result"
    }
   ],
   "source": [
    "Developer.raise_amount"
   ]
  },
  {
   "cell_type": "code",
   "execution_count": 28,
   "metadata": {},
   "outputs": [
    {
     "data": {
      "text/plain": [
       "{'first_name': 'John',\n",
       " 'last_name': 'doe',\n",
       " 'pay': 25000,\n",
       " 'email': 'john.doe@email.com'}"
      ]
     },
     "execution_count": 28,
     "metadata": {},
     "output_type": "execute_result"
    }
   ],
   "source": [
    "test_emp_1 = Employee(first_name=\"John\", last_name=\"doe\", pay=25000)\n",
    "test_emp_1.__dict__"
   ]
  },
  {
   "cell_type": "code",
   "execution_count": 49,
   "metadata": {},
   "outputs": [],
   "source": [
    "class Manager(Employee):\n",
    "    def __init__(self,\n",
    "                 first_name: str,\n",
    "                 last_name: str,\n",
    "                 pay: float,\n",
    "                 employee_list: list = None):\n",
    "        \"\"\"_summary_\n",
    "\n",
    "        Parameters\n",
    "        ----------\n",
    "        first_name : str\n",
    "            _description_\n",
    "        last_name : str\n",
    "            _description_\n",
    "        pay : float\n",
    "            _description_\n",
    "        \"\"\"\n",
    "        super().__init__(first_name, last_name, pay)  # Most maintainable way\n",
    "        if employee_list is None:\n",
    "            self.employee_list = []\n",
    "        else:\n",
    "            self.employee_list = employee_list\n",
    "    \n",
    "    def add_emp(self, emp):\n",
    "        if emp not in self.employee_list:\n",
    "            self.employee_list.append(emp)\n",
    "    \n",
    "    def remove_emp(self, emp):\n",
    "        if emp not in self.employee_list:\n",
    "            self.employee_list.remove(emp)\n",
    "    \n",
    "    def get_emp_list(self, get_full_name = False):\n",
    "        if get_full_name is True:\n",
    "            for emp in self.employee_list:\n",
    "                print(f\"----> {emp.get_full_name()}\")\n",
    "        else:\n",
    "            for emp in self.employee_list:\n",
    "                print(f\"----> {emp.first_name}\")"
   ]
  },
  {
   "cell_type": "code",
   "execution_count": 50,
   "metadata": {},
   "outputs": [
    {
     "data": {
      "text/plain": [
       "{'first_name': 'Rahul',\n",
       " 'last_name': 'Jana',\n",
       " 'pay': 50000,\n",
       " 'email': 'rahul.jana@email.com',\n",
       " 'employee_list': [<__main__.Developer at 0x755fce592270>,\n",
       "  <__main__.Employee at 0x755fce54f3e0>]}"
      ]
     },
     "execution_count": 50,
     "metadata": {},
     "output_type": "execute_result"
    }
   ],
   "source": [
    "man_rahul = Manager(first_name=\"Rahul\", last_name=\"Jana\", pay=50000, employee_list=[dev_rahul, test_emp_1])\n",
    "man_rahul.__dict__"
   ]
  },
  {
   "cell_type": "code",
   "execution_count": 51,
   "metadata": {},
   "outputs": [
    {
     "name": "stdout",
     "output_type": "stream",
     "text": [
      "----> Rahul\n",
      "----> John\n"
     ]
    }
   ],
   "source": [
    "man_rahul.get_emp_list()"
   ]
  },
  {
   "cell_type": "code",
   "execution_count": 52,
   "metadata": {},
   "outputs": [
    {
     "name": "stdout",
     "output_type": "stream",
     "text": [
      "----> Rahul Jana\n",
      "----> John doe\n"
     ]
    }
   ],
   "source": [
    "man_rahul.get_emp_list(get_full_name=True)"
   ]
  },
  {
   "cell_type": "markdown",
   "metadata": {},
   "source": [
    "Check which object belongs to whoom"
   ]
  },
  {
   "cell_type": "code",
   "execution_count": 56,
   "metadata": {},
   "outputs": [
    {
     "data": {
      "text/plain": [
       "True"
      ]
     },
     "execution_count": 56,
     "metadata": {},
     "output_type": "execute_result"
    }
   ],
   "source": [
    "isinstance(dev_rahul, Employee)"
   ]
  },
  {
   "cell_type": "code",
   "execution_count": 57,
   "metadata": {},
   "outputs": [
    {
     "data": {
      "text/plain": [
       "True"
      ]
     },
     "execution_count": 57,
     "metadata": {},
     "output_type": "execute_result"
    }
   ],
   "source": [
    "isinstance(dev_rahul, Developer)"
   ]
  },
  {
   "cell_type": "code",
   "execution_count": 58,
   "metadata": {},
   "outputs": [
    {
     "data": {
      "text/plain": [
       "False"
      ]
     },
     "execution_count": 58,
     "metadata": {},
     "output_type": "execute_result"
    }
   ],
   "source": [
    "isinstance(dev_rahul, Manager)"
   ]
  },
  {
   "cell_type": "code",
   "execution_count": 59,
   "metadata": {},
   "outputs": [
    {
     "data": {
      "text/plain": [
       "True"
      ]
     },
     "execution_count": 59,
     "metadata": {},
     "output_type": "execute_result"
    }
   ],
   "source": [
    "isinstance(man_rahul, Employee)"
   ]
  },
  {
   "cell_type": "code",
   "execution_count": 60,
   "metadata": {},
   "outputs": [
    {
     "data": {
      "text/plain": [
       "False"
      ]
     },
     "execution_count": 60,
     "metadata": {},
     "output_type": "execute_result"
    }
   ],
   "source": [
    "isinstance(man_rahul, Developer)"
   ]
  },
  {
   "cell_type": "code",
   "execution_count": 61,
   "metadata": {},
   "outputs": [
    {
     "data": {
      "text/plain": [
       "True"
      ]
     },
     "execution_count": 61,
     "metadata": {},
     "output_type": "execute_result"
    }
   ],
   "source": [
    "isinstance(man_rahul, Manager)"
   ]
  },
  {
   "cell_type": "markdown",
   "metadata": {},
   "source": [
    "issubclass()"
   ]
  },
  {
   "cell_type": "code",
   "execution_count": 62,
   "metadata": {},
   "outputs": [
    {
     "data": {
      "text/plain": [
       "True"
      ]
     },
     "execution_count": 62,
     "metadata": {},
     "output_type": "execute_result"
    }
   ],
   "source": [
    "issubclass(Manager, Employee)"
   ]
  },
  {
   "cell_type": "code",
   "execution_count": 63,
   "metadata": {},
   "outputs": [
    {
     "data": {
      "text/plain": [
       "True"
      ]
     },
     "execution_count": 63,
     "metadata": {},
     "output_type": "execute_result"
    }
   ],
   "source": [
    "issubclass(Developer, Employee)"
   ]
  },
  {
   "cell_type": "code",
   "execution_count": 64,
   "metadata": {},
   "outputs": [
    {
     "data": {
      "text/plain": [
       "False"
      ]
     },
     "execution_count": 64,
     "metadata": {},
     "output_type": "execute_result"
    }
   ],
   "source": [
    "issubclass(Manager, Developer)"
   ]
  },
  {
   "cell_type": "code",
   "execution_count": 65,
   "metadata": {},
   "outputs": [
    {
     "data": {
      "text/plain": [
       "False"
      ]
     },
     "execution_count": 65,
     "metadata": {},
     "output_type": "execute_result"
    }
   ],
   "source": [
    "issubclass(Developer, Manager)"
   ]
  },
  {
   "cell_type": "code",
   "execution_count": null,
   "metadata": {},
   "outputs": [],
   "source": []
  }
 ],
 "metadata": {
  "kernelspec": {
   "display_name": "base",
   "language": "python",
   "name": "python3"
  },
  "language_info": {
   "codemirror_mode": {
    "name": "ipython",
    "version": 3
   },
   "file_extension": ".py",
   "mimetype": "text/x-python",
   "name": "python",
   "nbconvert_exporter": "python",
   "pygments_lexer": "ipython3",
   "version": "3.12.2"
  }
 },
 "nbformat": 4,
 "nbformat_minor": 2
}
