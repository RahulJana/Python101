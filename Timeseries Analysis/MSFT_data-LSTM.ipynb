{
 "cells": [
  {
   "cell_type": "markdown",
   "metadata": {},
   "source": [
    "Dataset: https://finance.yahoo.com/quote/MSFT/history/  Starting date: 1987-09-17\tEnding date: 2023-11-16\t\n",
    "\n",
    "Kaggle link: https://www.kaggle.com/datasets/vijayvvenkitesh/microsoft-stock-time-series-analysis"
   ]
  },
  {
   "cell_type": "code",
   "execution_count": 9,
   "metadata": {},
   "outputs": [],
   "source": [
    "import os\n",
    "import datetime\n",
    "\n",
    "import numpy as np\n",
    "import pandas as pd\n",
    "\n",
    "import matplotlib.pyplot as plt"
   ]
  },
  {
   "cell_type": "markdown",
   "metadata": {},
   "source": [
    "## Data loading"
   ]
  },
  {
   "cell_type": "code",
   "execution_count": 7,
   "metadata": {},
   "outputs": [],
   "source": [
    "raw_df = pd.read_csv(\"Dataset/MSFT.csv\")"
   ]
  },
  {
   "cell_type": "code",
   "execution_count": 8,
   "metadata": {},
   "outputs": [
    {
     "data": {
      "text/html": [
       "<div>\n",
       "<style scoped>\n",
       "    .dataframe tbody tr th:only-of-type {\n",
       "        vertical-align: middle;\n",
       "    }\n",
       "\n",
       "    .dataframe tbody tr th {\n",
       "        vertical-align: top;\n",
       "    }\n",
       "\n",
       "    .dataframe thead th {\n",
       "        text-align: right;\n",
       "    }\n",
       "</style>\n",
       "<table border=\"1\" class=\"dataframe\">\n",
       "  <thead>\n",
       "    <tr style=\"text-align: right;\">\n",
       "      <th></th>\n",
       "      <th>Date</th>\n",
       "      <th>Open</th>\n",
       "      <th>High</th>\n",
       "      <th>Low</th>\n",
       "      <th>Close</th>\n",
       "      <th>Adj Close</th>\n",
       "      <th>Volume</th>\n",
       "    </tr>\n",
       "  </thead>\n",
       "  <tbody>\n",
       "    <tr>\n",
       "      <th>0</th>\n",
       "      <td>1987-09-17</td>\n",
       "      <td>0.406250</td>\n",
       "      <td>0.407986</td>\n",
       "      <td>0.394965</td>\n",
       "      <td>0.402778</td>\n",
       "      <td>0.249708</td>\n",
       "      <td>69436800</td>\n",
       "    </tr>\n",
       "    <tr>\n",
       "      <th>1</th>\n",
       "      <td>1987-09-18</td>\n",
       "      <td>0.402778</td>\n",
       "      <td>0.402778</td>\n",
       "      <td>0.395833</td>\n",
       "      <td>0.399306</td>\n",
       "      <td>0.247555</td>\n",
       "      <td>31651200</td>\n",
       "    </tr>\n",
       "    <tr>\n",
       "      <th>2</th>\n",
       "      <td>1987-09-21</td>\n",
       "      <td>0.371528</td>\n",
       "      <td>0.397569</td>\n",
       "      <td>0.368056</td>\n",
       "      <td>0.371528</td>\n",
       "      <td>0.230334</td>\n",
       "      <td>85550400</td>\n",
       "    </tr>\n",
       "    <tr>\n",
       "      <th>3</th>\n",
       "      <td>1987-09-22</td>\n",
       "      <td>0.371528</td>\n",
       "      <td>0.401042</td>\n",
       "      <td>0.368056</td>\n",
       "      <td>0.397569</td>\n",
       "      <td>0.246478</td>\n",
       "      <td>82008000</td>\n",
       "    </tr>\n",
       "    <tr>\n",
       "      <th>4</th>\n",
       "      <td>1987-09-23</td>\n",
       "      <td>0.401042</td>\n",
       "      <td>0.419271</td>\n",
       "      <td>0.401042</td>\n",
       "      <td>0.418403</td>\n",
       "      <td>0.259395</td>\n",
       "      <td>107697600</td>\n",
       "    </tr>\n",
       "    <tr>\n",
       "      <th>...</th>\n",
       "      <td>...</td>\n",
       "      <td>...</td>\n",
       "      <td>...</td>\n",
       "      <td>...</td>\n",
       "      <td>...</td>\n",
       "      <td>...</td>\n",
       "      <td>...</td>\n",
       "    </tr>\n",
       "    <tr>\n",
       "      <th>9110</th>\n",
       "      <td>2023-11-10</td>\n",
       "      <td>361.489990</td>\n",
       "      <td>370.100006</td>\n",
       "      <td>361.070007</td>\n",
       "      <td>369.670013</td>\n",
       "      <td>368.921234</td>\n",
       "      <td>28042100</td>\n",
       "    </tr>\n",
       "    <tr>\n",
       "      <th>9111</th>\n",
       "      <td>2023-11-13</td>\n",
       "      <td>368.220001</td>\n",
       "      <td>368.470001</td>\n",
       "      <td>365.899994</td>\n",
       "      <td>366.679993</td>\n",
       "      <td>365.937256</td>\n",
       "      <td>19986500</td>\n",
       "    </tr>\n",
       "    <tr>\n",
       "      <th>9112</th>\n",
       "      <td>2023-11-14</td>\n",
       "      <td>371.010010</td>\n",
       "      <td>371.950012</td>\n",
       "      <td>367.350006</td>\n",
       "      <td>370.269989</td>\n",
       "      <td>369.519989</td>\n",
       "      <td>27683900</td>\n",
       "    </tr>\n",
       "    <tr>\n",
       "      <th>9113</th>\n",
       "      <td>2023-11-15</td>\n",
       "      <td>371.279999</td>\n",
       "      <td>373.130005</td>\n",
       "      <td>367.109985</td>\n",
       "      <td>369.670013</td>\n",
       "      <td>369.670013</td>\n",
       "      <td>26860100</td>\n",
       "    </tr>\n",
       "    <tr>\n",
       "      <th>9114</th>\n",
       "      <td>2023-11-16</td>\n",
       "      <td>370.959991</td>\n",
       "      <td>376.350006</td>\n",
       "      <td>370.179993</td>\n",
       "      <td>376.170013</td>\n",
       "      <td>376.170013</td>\n",
       "      <td>27159800</td>\n",
       "    </tr>\n",
       "  </tbody>\n",
       "</table>\n",
       "<p>9115 rows × 7 columns</p>\n",
       "</div>"
      ],
      "text/plain": [
       "            Date        Open        High         Low       Close   Adj Close  \\\n",
       "0     1987-09-17    0.406250    0.407986    0.394965    0.402778    0.249708   \n",
       "1     1987-09-18    0.402778    0.402778    0.395833    0.399306    0.247555   \n",
       "2     1987-09-21    0.371528    0.397569    0.368056    0.371528    0.230334   \n",
       "3     1987-09-22    0.371528    0.401042    0.368056    0.397569    0.246478   \n",
       "4     1987-09-23    0.401042    0.419271    0.401042    0.418403    0.259395   \n",
       "...          ...         ...         ...         ...         ...         ...   \n",
       "9110  2023-11-10  361.489990  370.100006  361.070007  369.670013  368.921234   \n",
       "9111  2023-11-13  368.220001  368.470001  365.899994  366.679993  365.937256   \n",
       "9112  2023-11-14  371.010010  371.950012  367.350006  370.269989  369.519989   \n",
       "9113  2023-11-15  371.279999  373.130005  367.109985  369.670013  369.670013   \n",
       "9114  2023-11-16  370.959991  376.350006  370.179993  376.170013  376.170013   \n",
       "\n",
       "         Volume  \n",
       "0      69436800  \n",
       "1      31651200  \n",
       "2      85550400  \n",
       "3      82008000  \n",
       "4     107697600  \n",
       "...         ...  \n",
       "9110   28042100  \n",
       "9111   19986500  \n",
       "9112   27683900  \n",
       "9113   26860100  \n",
       "9114   27159800  \n",
       "\n",
       "[9115 rows x 7 columns]"
      ]
     },
     "execution_count": 8,
     "metadata": {},
     "output_type": "execute_result"
    }
   ],
   "source": [
    "raw_df"
   ]
  },
  {
   "cell_type": "code",
   "execution_count": 10,
   "metadata": {},
   "outputs": [],
   "source": [
    "x = raw_df[\"Date\"][0]"
   ]
  },
  {
   "cell_type": "code",
   "execution_count": 11,
   "metadata": {},
   "outputs": [
    {
     "data": {
      "text/plain": [
       "'1987-09-17'"
      ]
     },
     "execution_count": 11,
     "metadata": {},
     "output_type": "execute_result"
    }
   ],
   "source": [
    "x"
   ]
  },
  {
   "cell_type": "code",
   "execution_count": 12,
   "metadata": {},
   "outputs": [],
   "source": [
    "xx = x.split(\"-\")"
   ]
  },
  {
   "cell_type": "code",
   "execution_count": 14,
   "metadata": {},
   "outputs": [],
   "source": [
    "y, m, d = xx"
   ]
  },
  {
   "cell_type": "code",
   "execution_count": 15,
   "metadata": {},
   "outputs": [
    {
     "data": {
      "text/plain": [
       "('1987', '09', '17')"
      ]
     },
     "execution_count": 15,
     "metadata": {},
     "output_type": "execute_result"
    }
   ],
   "source": [
    "y, m, d"
   ]
  },
  {
   "cell_type": "markdown",
   "metadata": {},
   "source": [
    "### Datetime conversion"
   ]
  },
  {
   "cell_type": "code",
   "execution_count": 16,
   "metadata": {},
   "outputs": [],
   "source": [
    "def str_to_datetime(date_string):\n",
    "    year, month, date = date_string.split(\"-\")\n",
    "    return int(year), int(month), int(date)"
   ]
  },
  {
   "cell_type": "code",
   "execution_count": 17,
   "metadata": {},
   "outputs": [],
   "source": [
    "y, m, d = str_to_datetime(raw_df[\"Date\"][3])"
   ]
  },
  {
   "cell_type": "code",
   "execution_count": 18,
   "metadata": {},
   "outputs": [
    {
     "data": {
      "text/plain": [
       "(22, 9, 1987)"
      ]
     },
     "execution_count": 18,
     "metadata": {},
     "output_type": "execute_result"
    }
   ],
   "source": [
    "d, m, y"
   ]
  },
  {
   "cell_type": "code",
   "execution_count": null,
   "metadata": {},
   "outputs": [],
   "source": []
  }
 ],
 "metadata": {
  "kernelspec": {
   "display_name": "tf-cpu",
   "language": "python",
   "name": "python3"
  },
  "language_info": {
   "codemirror_mode": {
    "name": "ipython",
    "version": 3
   },
   "file_extension": ".py",
   "mimetype": "text/x-python",
   "name": "python",
   "nbconvert_exporter": "python",
   "pygments_lexer": "ipython3",
   "version": "3.9.0"
  }
 },
 "nbformat": 4,
 "nbformat_minor": 2
}
